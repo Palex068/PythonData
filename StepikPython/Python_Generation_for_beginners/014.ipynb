{
 "cells": [
  {
   "cell_type": "markdown",
   "metadata": {},
   "source": [
    "# Итоговая работа на функции"
   ]
  },
  {
   "cell_type": "markdown",
   "metadata": {},
   "source": [
    "Какой программный код написан с ошибкой?\n"
   ]
  },
  {
   "cell_type": "code",
   "execution_count": null,
   "metadata": {},
   "outputs": [],
   "source": [
    "def do_something():\n",
    "  a = 1\n",
    "  print(a)\n",
    "a = 0\n",
    "do_something()\n",
    "print(a)"
   ]
  },
  {
   "cell_type": "code",
   "execution_count": 1,
   "metadata": {},
   "outputs": [
    {
     "ename": "NameError",
     "evalue": "name 'a' is not defined",
     "output_type": "error",
     "traceback": [
      "\u001b[1;31m---------------------------------------------------------------------------\u001b[0m",
      "\u001b[1;31mNameError\u001b[0m                                 Traceback (most recent call last)",
      "\u001b[1;32mc:\\Users\\Palex\\Desktop\\MyRep\\PythonData\\StepikPython\\Python_Generation_for_beginners\\014.ipynb Ячейка 4\u001b[0m line \u001b[0;36m4\n\u001b[0;32m      <a href='vscode-notebook-cell:/c%3A/Users/Palex/Desktop/MyRep/PythonData/StepikPython/Python_Generation_for_beginners/014.ipynb#X10sZmlsZQ%3D%3D?line=1'>2</a>\u001b[0m   a \u001b[39m=\u001b[39m \u001b[39m1\u001b[39m\n\u001b[0;32m      <a href='vscode-notebook-cell:/c%3A/Users/Palex/Desktop/MyRep/PythonData/StepikPython/Python_Generation_for_beginners/014.ipynb#X10sZmlsZQ%3D%3D?line=2'>3</a>\u001b[0m do_something()\n\u001b[1;32m----> <a href='vscode-notebook-cell:/c%3A/Users/Palex/Desktop/MyRep/PythonData/StepikPython/Python_Generation_for_beginners/014.ipynb#X10sZmlsZQ%3D%3D?line=3'>4</a>\u001b[0m \u001b[39mprint\u001b[39m(a)\n\u001b[0;32m      <a href='vscode-notebook-cell:/c%3A/Users/Palex/Desktop/MyRep/PythonData/StepikPython/Python_Generation_for_beginners/014.ipynb#X10sZmlsZQ%3D%3D?line=4'>5</a>\u001b[0m a \u001b[39m=\u001b[39m \u001b[39m1\u001b[39m\n",
      "\u001b[1;31mNameError\u001b[0m: name 'a' is not defined"
     ]
    }
   ],
   "source": [
    "def do_something():\n",
    "  a = 1\n",
    "do_something()\n",
    "print(a)\n",
    "a = 1"
   ]
  },
  {
   "cell_type": "code",
   "execution_count": null,
   "metadata": {},
   "outputs": [],
   "source": [
    "def do_something():\n",
    "  print(a)\n",
    "\n",
    "do_something()"
   ]
  },
  {
   "cell_type": "markdown",
   "metadata": {},
   "source": [
    "Какие из переменных в приведенном ниже коде являются локальными?"
   ]
  },
  {
   "cell_type": "code",
   "execution_count": 6,
   "metadata": {},
   "outputs": [
    {
     "data": {
      "text/plain": [
       "3628800"
      ]
     },
     "execution_count": 6,
     "metadata": {},
     "output_type": "execute_result"
    }
   ],
   "source": [
    "def factorial(n):\n",
    "    res = 1\n",
    "    for i in range(2, n + 1):\n",
    "        res *= i\n",
    "    return res\n",
    "\n",
    "# number = int(input())\n",
    "number = 10\n",
    "f = factorial(number)\n",
    "f"
   ]
  },
  {
   "cell_type": "markdown",
   "metadata": {},
   "source": [
    "\n",
    "+ <mark>__i__\n",
    "+ <mark>__n__\n",
    "+ f\n",
    "+ number\n",
    "+ <mark>__res__"
   ]
  },
  {
   "cell_type": "markdown",
   "metadata": {},
   "source": [
    "Вставить в пропуски слова из списка.\n",
    "\n",
    "Python считает переменную \n",
    "\n",
    ">локальной <br>\n",
    "\n",
    "для данной \n",
    ">функции,<br>\n",
    "\n",
    "если в её коде есть хотя бы одна инструкция, модифицирующая \n",
    ">значение<br>\n",
    "\n",
    "переменной. В этом случае эта \n",
    ">переменная<br>\n",
    "\n",
    "считается \n",
    ">локальной<br>\n",
    "\n",
    "и не может быть использована до инициализации."
   ]
  },
  {
   "cell_type": "markdown",
   "metadata": {},
   "source": [
    "# Звездный треугольник 🌶️\n",
    "\n",
    "Напишите функцию draw_triangle(), которая выводит звездный равнобедренный треугольник с основанием и высотой равными $15$ и $8$ соответственно:\n",
    "\n",
    "\n",
    "           *\n",
    "          ***\n",
    "         *****\n",
    "        *******\n",
    "       *********\n",
    "      ***********\n",
    "     *************\n",
    "    ***************"
   ]
  },
  {
   "cell_type": "code",
   "execution_count": 1,
   "metadata": {},
   "outputs": [
    {
     "name": "stdout",
     "output_type": "stream",
     "text": [
      "       *\n",
      "      ***\n",
      "     *****\n",
      "    *******\n",
      "   *********\n",
      "  ***********\n",
      " *************\n",
      "***************\n"
     ]
    }
   ],
   "source": [
    "# объявление функции\n",
    "def draw_triangle():\n",
    "    x, y, = 7, 15\n",
    "    while x != 0:\n",
    "        for j in range(1, y + 1, 2):\n",
    "            print(' ' * x + '*' * j)\n",
    "            x -= 1\n",
    "        break\n",
    "\n",
    "\n",
    "# основная программа\n",
    "draw_triangle()  # вызов функции"
   ]
  },
  {
   "cell_type": "markdown",
   "metadata": {},
   "source": [
    "# Калькулятор доставки\n",
    "\n",
    "Интернет-магазин осуществляет экспресс доставку для своих товаров по цене $1000$ рублей за первый товар и $120$ рублей за каждый последующий товар. \n",
    "\n",
    "Напишите функцию get_shipping_cost(quantity), которая принимает в качестве аргумента натуральное число quantity – количество товаров в заказе – и возвращает стоимость доставки.\n",
    "\n",
    "Примечание. Следующий программный код:\n",
    "\n",
    ">print(get_shipping_cost(1))\n",
    ">print(get_shipping_cost(3))\n",
    "\n",
    "должен выводить:\n",
    "\n",
    ">1000\n",
    ">1240"
   ]
  },
  {
   "cell_type": "code",
   "execution_count": 4,
   "metadata": {},
   "outputs": [
    {
     "name": "stdout",
     "output_type": "stream",
     "text": [
      "1240\n"
     ]
    }
   ],
   "source": [
    "# объявление функции\n",
    "def get_shipping_cost(q):\n",
    "    first_cost = 1000\n",
    "    second_cost = 120\n",
    "    return first_cost + second_cost * (q - 1)\n",
    "\n",
    "# считываем данные\n",
    "# n = int(input())\n",
    "n = 3\n",
    "\n",
    "# вызываем функцию\n",
    "print(get_shipping_cost(n))"
   ]
  },
  {
   "cell_type": "markdown",
   "metadata": {},
   "source": [
    "# Биномиальный коэффициент 🌶️\n",
    "Напишите функцию compute_binom(n, k), которая принимает в качестве аргументов \n",
    "два натуральных числа n и k и возвращает значение [биномиального коэффициента](https://ru.wikipedia.org/wiki/Биномиальный_коэффициент), \n",
    "равного \n",
    "\n",
    "$\\dfrac{n!}{k! \\cdot (n-k)!}$\n",
    "\n",
    "Примечание 1. <br>\n",
    "Факториалом натурального числа n, называется произведение всех натуральных чисел от 1 до n.\n",
    "\n",
    "$n!=1⋅2⋅3⋅…⋅n$\n",
    "\n",
    "Примечание 2. <br>\n",
    "Реализуйте вспомогательную функцию factorial(n), вычисляющую факториал числа или воспользуйтесь уже готовой функцией из модуля math."
   ]
  },
  {
   "cell_type": "code",
   "execution_count": 5,
   "metadata": {},
   "outputs": [
    {
     "name": "stdout",
     "output_type": "stream",
     "text": [
      "105\n"
     ]
    }
   ],
   "source": [
    "from math import factorial\n",
    "\n",
    "# объявление функции\n",
    "def compute_binom(n, k):\n",
    "    return int(factorial(n) / (factorial(k) * factorial(n - k)))\n",
    "\n",
    "# считываем данные\n",
    "# n = int(input())\n",
    "# k = int(input())\n",
    "\n",
    "n = 15\n",
    "k = 2\n",
    "\n",
    "# вызываем функцию\n",
    "print(compute_binom(n, k))"
   ]
  },
  {
   "cell_type": "markdown",
   "metadata": {},
   "source": [
    "Число словами 🌶️\n",
    "Напишите функцию number_to_words(num), которая принимает в качестве аргумента натуральное число num и возвращает его словесное описание на русском языке.\n",
    "\n",
    "Примечание 1. Считайте, что число $1 ≤ num ≤ 99$.\n",
    "\n",
    "Примечание 2. Следующий программный код:\n",
    "\n",
    ">print(number_to_words(7))<br>\n",
    ">print(number_to_words(85))\n",
    "\n",
    "должен выводить:\n",
    "\n",
    ">семь<br>\n",
    ">восемьдесят пять"
   ]
  },
  {
   "cell_type": "code",
   "execution_count": 7,
   "metadata": {},
   "outputs": [
    {
     "name": "stdout",
     "output_type": "stream",
     "text": [
      "восемьдесят пять\n"
     ]
    }
   ],
   "source": [
    "# объявление функции\n",
    "def number_to_words(num):\n",
    "    digits = [' ', 'один', 'два', 'три', 'четыре', 'пять',\n",
    "              'шесть', 'семь', 'восемь', 'девять', 'десять',\n",
    "              'одиннадцать', 'двенадцать', 'тринадцать',\n",
    "              'четырнадцать', 'пятнадцать', 'шестнадцать',\n",
    "              'семнадцать', 'восемнадцать', 'девятнадцать']\n",
    "    digits_more_as_19 = ['', '', 'двадцать', 'тридцать', 'сорок',\n",
    "                         'пятьдесят', 'шестьдесят', 'семьдесят',\n",
    "                         'восемьдесят', 'девяносто',]\n",
    "    first_digit_num = num % 10\n",
    "    second_digit_num = num // 10\n",
    "    \n",
    "    if num < 20:\n",
    "        return digits[num]\n",
    "    \n",
    "    else:\n",
    "        return (digits_more_as_19[second_digit_num] \n",
    "                + ' ' + digits[first_digit_num]).rstrip()\n",
    "\n",
    "# считываем данные\n",
    "# n = int(input())\n",
    "n = 85\n",
    "\n",
    "# вызываем функцию\n",
    "print(number_to_words(n))"
   ]
  },
  {
   "cell_type": "markdown",
   "metadata": {},
   "source": [
    "# Искомый месяц\n",
    "Напишите функцию get_month(language, number), которая принимает на вход два аргумента language – язык ru или en и number – номер месяца (от 1 до 12) и возвращает название месяца на русском или английском языке.\n",
    "\n",
    "Примечание. Следующий программный код:\n",
    "\n",
    "```python\n",
    "print(get_month('ru', 1))\n",
    "print(get_month('ru', 12))\n",
    "print(get_month('en', 1))\n",
    "print(get_month('en', 10))\n",
    "```\n",
    "должен выводить:\n",
    "\n",
    "```python\n",
    "январь\n",
    "декабрь\n",
    "january\n",
    "october\n",
    "```"
   ]
  },
  {
   "cell_type": "code",
   "execution_count": 9,
   "metadata": {},
   "outputs": [
    {
     "name": "stdout",
     "output_type": "stream",
     "text": [
      "декабрь\n"
     ]
    }
   ],
   "source": [
    "# объявление функции\n",
    "def get_month(language, number):\n",
    "    ru_month = ['январь', 'февраль', 'март', 'апрель',\n",
    "                'май', 'июнь',  'июль', 'август',\n",
    "                'сентябрь', 'октябрь', 'ноябрь', 'декабрь',]\n",
    "    en_month = ['january', 'february', 'march', 'april',\n",
    "                'may', 'june', 'july', 'august',\n",
    "                'september', 'october', 'november', 'december',]\n",
    "    if language == 'ru':\n",
    "        return ru_month[number - 1]\n",
    "    elif language == 'en':\n",
    "        return en_month[number - 1]\n",
    "\n",
    "# считываем данные\n",
    "lan = 'ru'\n",
    "num = 12\n",
    "# lan = input()\n",
    "# num = int(input())\n",
    "\n",
    "# вызываем функцию\n",
    "print(get_month(lan, num))"
   ]
  },
  {
   "cell_type": "markdown",
   "metadata": {},
   "source": [
    "# Магические даты\n",
    "Магическая дата – это дата, когда день, умноженный на месяц, равен числу, образованному последними двумя цифрами года.\n",
    "\n",
    "Напишите функцию is_magic(date), которая принимает в качестве аргумента строковое представление корректной даты и возвращает значение True, если дата является магической и False - в противном случае.\n",
    "\n",
    "Примечание. Следующий программный код:\n",
    "\n",
    "```python\n",
    "print(is_magic('10.06.1960'))\n",
    "print(is_magic('11.06.1960'))\n",
    "```\n",
    "\n",
    "должен выводить:\n",
    "\n",
    "```python\n",
    "True\n",
    "False\n",
    "```"
   ]
  },
  {
   "cell_type": "code",
   "execution_count": 12,
   "metadata": {},
   "outputs": [
    {
     "name": "stdout",
     "output_type": "stream",
     "text": [
      "False\n"
     ]
    }
   ],
   "source": [
    "# объявление функции\n",
    "def is_magic(date):\n",
    "    D = list(date.split('.'))\n",
    "    return True if int(D[0]) * int(D[1]) == int(D[2][2:]) else False\n",
    "\n",
    "# считываем данные\n",
    "# date = input()\n",
    "# date = '10.06.1960'\n",
    "date = '11.06.1960'\n",
    "\n",
    "# вызываем функцию\n",
    "print(is_magic(date))"
   ]
  },
  {
   "cell_type": "markdown",
   "metadata": {},
   "source": [
    "# Панграммы\n",
    "Панграмма – это фраза, содержащая в себе все буквы алфавита. Обычно панграммы используют для презентации шрифтов, чтобы можно было в одной фразе рассмотреть все [глифы](https://ru.wikipedia.org/wiki/Глиф).\n",
    "\n",
    "Напишите функцию, is_pangram(text) которая принимает в качестве аргумента строку текста на английском языке и возвращает значение True если текст является панграммой и False в противном случае.\n",
    "\n",
    "Примечание 1. Гарантируется, что введенная строка содержит только буквы английского алфавита и пробелы.\n",
    "\n",
    "Примечание 2. Следующий программный код:\n",
    "\n",
    "```python\n",
    "print(is_pangram('Jackdaws love my big sphinx of quartz'))\n",
    "print(is_pangram('The jay pig fox zebra and my wolves quack'))\n",
    "print(is_pangram('Hello world'))\n",
    "```\n",
    "\n",
    "должен выводить:\n",
    "\n",
    "```python\n",
    "True\n",
    "True\n",
    "False\n",
    "```"
   ]
  },
  {
   "cell_type": "code",
   "execution_count": 13,
   "metadata": {},
   "outputs": [
    {
     "name": "stdout",
     "output_type": "stream",
     "text": [
      "True\n"
     ]
    }
   ],
   "source": [
    "# объявление функции\n",
    "def is_pangram(text):\n",
    "    abc = \"abcdefghijklmnopqrstuvwxyz\"\n",
    "    text = text.lower()\n",
    "    for ch in abc:\n",
    "        if ch not in text:\n",
    "            return False\n",
    "    else:\n",
    "        return True\n",
    "\n",
    "# считываем данные\n",
    "# text = input()\n",
    "text = 'Jackdaws love my big sphinx of quartz'\n",
    "\n",
    "# вызываем функцию\n",
    "print(is_pangram(text))"
   ]
  },
  {
   "cell_type": "code",
   "execution_count": 1,
   "metadata": {},
   "outputs": [
    {
     "name": "stdout",
     "output_type": "stream",
     "text": [
      "True\n"
     ]
    }
   ],
   "source": [
    "# объявление функции\n",
    "def is_pangram(text):\n",
    "    text = text.lower()\n",
    "    for i in range(ord(\"a\"), ord(\"z\") + 1):\n",
    "        if chr(i) not in text:\n",
    "            return False\n",
    "    \n",
    "    return True\n",
    "\n",
    "# считываем данные\n",
    "text = 'The jay pig fox zebra and my wolves quack'\n",
    "\n",
    "# вызываем функцию\n",
    "print(is_pangram(text))"
   ]
  }
 ],
 "metadata": {
  "kernelspec": {
   "display_name": "Python 3",
   "language": "python",
   "name": "python3"
  },
  "language_info": {
   "codemirror_mode": {
    "name": "ipython",
    "version": 3
   },
   "file_extension": ".py",
   "mimetype": "text/x-python",
   "name": "python",
   "nbconvert_exporter": "python",
   "pygments_lexer": "ipython3",
   "version": "3.10.11"
  },
  "orig_nbformat": 4
 },
 "nbformat": 4,
 "nbformat_minor": 2
}
