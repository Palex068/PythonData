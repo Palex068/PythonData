{
 "cells": [
  {
   "cell_type": "markdown",
   "metadata": {},
   "source": [
    "# Итоговая работа Строки"
   ]
  },
  {
   "cell_type": "markdown",
   "metadata": {},
   "source": [
    "Первым индексом в строковом значении является\n",
    "\n",
    "+ 1\n",
    "+ -1\n",
    "+ <mark>__0__\n",
    "+ длина строки минус один\n",
    "\n",
    "Последним индексом в строковом значении является\n",
    "\n",
    "+ 1\n",
    "+ <mark> __длина строки минус один__\n",
    "+ 0\n",
    "+ 99\n",
    "\n",
    "Если попытаться использовать индекс, который находится за пределами диапазона строкового значения, то\n",
    "\n",
    "+ произойдет ошибка ValueError\n",
    "+ ничего не произойдет – недопустимый индекс будет проигнорирован\n",
    "+ строковое значение будет стерто, и программа продолжит работу\n",
    "+ <mark>__произойдет ошибка IndexError__\n",
    "\n",
    "Какой оператор определяет, содержится ли одно строковое значение в другом?\n",
    "\n",
    "+ contains\n",
    "+ is_in\n",
    "+ <mark>__in__\n",
    "+ ==\n",
    "\n",
    "Какой строковый метод возвращает индекс первого вхождения подстроки в строку?\n",
    "\n",
    "+ index_of()\n",
    "+ locate()\n",
    "+ <mark>__find()__\n",
    "+ first_index_of()\n",
    "\n",
    "Какой строковый метод возвращает копию строкового значения, в котором удалены __все ведущие__ пробельные символы?\n",
    "\n",
    "+ remove()\n",
    "+ <mark>__lstrip()__\n",
    "+ rstrip()\n",
    "+ strip_leading()\n",
    "\n",
    "Какой строковый метод возвращает копию строкового значения, в котором удалены __все ведущие и замыкающие__ пробельные символы?\n",
    "\n",
    "+ clean()\n",
    "+ <mark>__strip()__\n",
    "+ rstrip()\n",
    "+ remove_whitespace()\n",
    "\n",
    "Какой строковый метод возвращает истину, если строковое значение содержит только буквы и имеет по крайней мере один символ?\n",
    "\n",
    "+ alphabetic()\n",
    "+ alpha()\n",
    "+ <mark>__isalpha()__\n",
    "+ isletters()\n",
    "\n",
    "Какой строковый метод возвращает истину, если строковое значение содержит только цифры и имеет по крайней мере один символ?\n",
    "\n",
    "+ <mark>__isdigit()__\n",
    "+ isnumber()\n",
    "+ digit()\n",
    "+ numeric()\n",
    "\n",
    "Что покажет приведенный ниже фрагмент кода?\n",
    "\n",
    "```python\n",
    "name = 'джо'\n",
    "print(name.lower())\n",
    "print(name.upper())\n",
    "print(name)\n",
    "```"
   ]
  },
  {
   "cell_type": "code",
   "execution_count": 1,
   "metadata": {},
   "outputs": [
    {
     "name": "stdout",
     "output_type": "stream",
     "text": [
      "джо\n",
      "ДЖО\n",
      "джо\n"
     ]
    }
   ],
   "source": [
    "name = 'джо'\n",
    "print(name.lower())\n",
    "print(name.upper())\n",
    "print(name)"
   ]
  },
  {
   "cell_type": "markdown",
   "metadata": {},
   "source": [
    "Вставьте пропущенный фрагмент кода так, чтобы в результате выполнения программы была выведена длина строки s."
   ]
  },
  {
   "cell_type": "code",
   "execution_count": 2,
   "metadata": {},
   "outputs": [
    {
     "name": "stdout",
     "output_type": "stream",
     "text": [
      "13\n"
     ]
    }
   ],
   "source": [
    "s = 'Python rocks!'\n",
    "print(len(s))"
   ]
  },
  {
   "cell_type": "markdown",
   "metadata": {},
   "source": [
    "Вставьте пропущенный фрагмент кода, так чтобы в результате выполнения программы был выведен четвертый символ строки s."
   ]
  },
  {
   "cell_type": "code",
   "execution_count": 3,
   "metadata": {},
   "outputs": [
    {
     "name": "stdout",
     "output_type": "stream",
     "text": [
      "h\n"
     ]
    }
   ],
   "source": [
    "s = 'Python rocks!'\n",
    "print(s[3])"
   ]
  },
  {
   "cell_type": "markdown",
   "metadata": {},
   "source": [
    "Вставьте пропущенный фрагмент кода, так чтобы в результате выполнения программы были выведены символы строки s со 2 по 5 включительно."
   ]
  },
  {
   "cell_type": "code",
   "execution_count": 4,
   "metadata": {},
   "outputs": [
    {
     "name": "stdout",
     "output_type": "stream",
     "text": [
      "ytho\n"
     ]
    }
   ],
   "source": [
    "s = 'Python rocks!'\n",
    "print(s[1:5])"
   ]
  },
  {
   "cell_type": "markdown",
   "metadata": {},
   "source": [
    "Вставьте пропущенный фрагмент кода, так чтобы в результате выполнения программы была выведена строка s без ведущих и замыкающих пробельных символов."
   ]
  },
  {
   "cell_type": "code",
   "execution_count": 5,
   "metadata": {},
   "outputs": [
    {
     "name": "stdout",
     "output_type": "stream",
     "text": [
      "Python rocks!\n"
     ]
    }
   ],
   "source": [
    "s = '    Python rocks!     '\n",
    "print(s.rstrip().lstrip())"
   ]
  },
  {
   "cell_type": "code",
   "execution_count": 6,
   "metadata": {},
   "outputs": [
    {
     "name": "stdout",
     "output_type": "stream",
     "text": [
      "Python rocks!\n"
     ]
    }
   ],
   "source": [
    "\n",
    "s = '    Python rocks!     '\n",
    "print(s.strip())"
   ]
  },
  {
   "cell_type": "markdown",
   "metadata": {},
   "source": [
    "Вставьте пропущенный фрагмент кода, так чтобы в результате выполнения программы была выведена строка s заглавными буквами (в верхнем регистре)."
   ]
  },
  {
   "cell_type": "code",
   "execution_count": 7,
   "metadata": {},
   "outputs": [
    {
     "name": "stdout",
     "output_type": "stream",
     "text": [
      "PYTHON ROCKS!\n"
     ]
    }
   ],
   "source": [
    "s = 'Python rocks!'\n",
    "print(s.upper())"
   ]
  },
  {
   "cell_type": "markdown",
   "metadata": {},
   "source": [
    "Вставьте пропущенный фрагмент кода, так чтобы в результате выполнения программы была выведена строка s в которой символ «o» заменен на символ «@»."
   ]
  },
  {
   "cell_type": "code",
   "execution_count": 8,
   "metadata": {},
   "outputs": [
    {
     "name": "stdout",
     "output_type": "stream",
     "text": [
      "Pyth@n r@cks!\n"
     ]
    }
   ],
   "source": [
    "s = 'Python rocks!'\n",
    "print(s.replace('o', '@'))"
   ]
  },
  {
   "cell_type": "markdown",
   "metadata": {},
   "source": [
    "На вход программе подается строка текста. Напишите программу, которая удаляет из нее все символы с индексами кратными 3, то есть символы с индексами 0, 3, 6, ...."
   ]
  },
  {
   "cell_type": "code",
   "execution_count": 9,
   "metadata": {},
   "outputs": [
    {
     "name": "stdout",
     "output_type": "stream",
     "text": [
      "yton\n"
     ]
    }
   ],
   "source": [
    "# S = input()\n",
    "S = 'Python'\n",
    "result = ''\n",
    "\n",
    "for i in range(len(S)):\n",
    "    if i % 3 == 0:\n",
    "        continue\n",
    "    else:\n",
    "        result = result + S[i]\n",
    "print(result)"
   ]
  },
  {
   "cell_type": "markdown",
   "metadata": {},
   "source": [
    "На вход программе подается строка текста. Напишите программу, которая заменяет все вхождения цифры 1 на слово «one»."
   ]
  },
  {
   "cell_type": "code",
   "execution_count": 10,
   "metadata": {},
   "outputs": [
    {
     "name": "stdout",
     "output_type": "stream",
     "text": [
      "one23one\n"
     ]
    }
   ],
   "source": [
    "# print((input()).replace('1', 'one'))\n",
    "print(('1231').replace('1', 'one'))"
   ]
  },
  {
   "cell_type": "markdown",
   "metadata": {},
   "source": [
    "На вход программе подается строка текста. Напишите программу, которая удаляет все вхождения символа «@»."
   ]
  },
  {
   "cell_type": "code",
   "execution_count": 11,
   "metadata": {},
   "outputs": [
    {
     "name": "stdout",
     "output_type": "stream",
     "text": [
      "123134\n"
     ]
    }
   ],
   "source": [
    "# print((input()).replace('@', ''))\n",
    "\n",
    "print(('123@1@@34').replace('@', ''))"
   ]
  },
  {
   "cell_type": "markdown",
   "metadata": {},
   "source": [
    "На вход программе подается строка текста. Напишите программу, которая выводит индекс второго вхождения буквы «f». Если буква «f» встречается только один раз, выведите число $−1$, а если не встречается ни разу, выведите число $−2$."
   ]
  },
  {
   "cell_type": "code",
   "execution_count": 12,
   "metadata": {},
   "outputs": [
    {
     "name": "stdout",
     "output_type": "stream",
     "text": [
      "2\n"
     ]
    }
   ],
   "source": [
    "# s = input()\n",
    "s = 'affective'\n",
    "\n",
    "count = s.count('f')\n",
    "\n",
    "if count == 0:\n",
    "    print(-2)\n",
    "elif count == 1:\n",
    "    print(-1)\n",
    "else:\n",
    "    s = s.replace('f', '', 1)\n",
    "    print(s.index('f') + 1)"
   ]
  },
  {
   "cell_type": "markdown",
   "metadata": {},
   "source": [
    "# Переворот\n",
    "На вход программе подается строка текста в которой буква «h» встречается как минимум два раза. Напишите программу, которая возвращает исходную строку и переворачивает последовательность символов, заключенную между первым и последним вхождением буквы «h»."
   ]
  },
  {
   "cell_type": "code",
   "execution_count": 14,
   "metadata": {},
   "outputs": [
    {
     "name": "stdout",
     "output_type": "stream",
     "text": [
      "abch54321h\n"
     ]
    }
   ],
   "source": [
    "# s = input()\n",
    "s = 'abch12345h'\n",
    "print(s[:s.find('h') + 1] +\n",
    "      s[s.rfind('h') - 1:s.find('h'): -1] \n",
    "      + s[s.rfind('h'):])"
   ]
  }
 ],
 "metadata": {
  "kernelspec": {
   "display_name": "Python 3",
   "language": "python",
   "name": "python3"
  },
  "language_info": {
   "codemirror_mode": {
    "name": "ipython",
    "version": 3
   },
   "file_extension": ".py",
   "mimetype": "text/x-python",
   "name": "python",
   "nbconvert_exporter": "python",
   "pygments_lexer": "ipython3",
   "version": "3.10.11"
  },
  "orig_nbformat": 4
 },
 "nbformat": 4,
 "nbformat_minor": 2
}
