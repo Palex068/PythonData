{
 "cells": [
  {
   "cell_type": "markdown",
   "metadata": {},
   "source": [
    "# 5. Итоговая работа на условный оператор"
   ]
  },
  {
   "cell_type": "markdown",
   "metadata": {},
   "source": [
    "## Начало столетия\n",
    "Напишите программу, которая определяет, оканчивается ли год с данным номером на два нуля. \n",
    "Если год оканчивается, то выведите «YES», иначе выведите «NO».\n",
    "\n",
    "__Формат входных данных__<br>\n",
    "На вход программе подаётся натуральное число.\n",
    "\n",
    "__Формат выходных данных__<br>\n",
    "Программа должна вывести текст в соответствии с условием задачи.\n"
   ]
  },
  {
   "cell_type": "code",
   "execution_count": 1,
   "metadata": {},
   "outputs": [
    {
     "name": "stdout",
     "output_type": "stream",
     "text": [
      "YES\n"
     ]
    }
   ],
   "source": [
    "# n = int(input())\n",
    "n = 2000\n",
    "print(\"YES\" if n % 100 == 0 else \"NO\")"
   ]
  },
  {
   "cell_type": "markdown",
   "metadata": {},
   "source": [
    "## Шахматная доска\n",
    "Заданы две клетки шахматной доски. \n",
    "Напишите программу, которая определяет имеют ли указанные клетки один цвет или нет. \n",
    "Если они покрашены в один цвет, то выведите слово «YES», а если в разные цвета — то «NO».\n",
    "\n",
    "__Формат входных данных__<br>\n",
    "На вход программе подаётся четыре числа от 1 до 8 каждое, \n",
    "задающие номер столбца и номер строки сначала для первой клетки, \n",
    "потом для второй клетки.\n",
    "\n",
    "__Формат выходных данных__<br>\n",
    "Программа должна вывести текст в соответствии с условием задачи.\n",
    "\n",
    "[Подсказка](https://madazimov.github.io/mathematics/shahmatnie-zadachki-shahmatnaya-doska.html)"
   ]
  },
  {
   "cell_type": "code",
   "execution_count": 2,
   "metadata": {},
   "outputs": [
    {
     "name": "stdout",
     "output_type": "stream",
     "text": [
      "YES\n"
     ]
    }
   ],
   "source": [
    "# a, b, c, d = (int(input()) for _ in \"abcd\")\n",
    "\n",
    "a, b, c, d = 1, 1, 2, 6\n",
    "\n",
    "print(\"YES\" if (a + b + c + d) % 2 == 0 else \"NO\")"
   ]
  },
  {
   "cell_type": "markdown",
   "metadata": {},
   "source": [
    "## Girls only\n",
    "Футбольная команда набирает девочек от 10 до 15 лет включительно. <br>\n",
    "Напишите программу, которая запрашивает возраст и пол претендента, используя обозначение пола буквы m (от male – мужчина) и f (от female – женщина) и определяет подходит ли претендент для вступления в команду или нет. <br>\n",
    "Если претендент подходит, то выведите «YES», иначе выведите «NO».\n",
    "\n",
    "__Формат входных данных__<br>\n",
    "На вход программе подаётся натуральное число – возраст претендента и буква обозначающая пол m (мужчина) или f (женщина).\n",
    "\n",
    "__Формат выходных данных__<br>\n",
    "Программа должна вывести текст в соответствии с условием задачи.\n"
   ]
  },
  {
   "cell_type": "code",
   "execution_count": 3,
   "metadata": {},
   "outputs": [
    {
     "name": "stdout",
     "output_type": "stream",
     "text": [
      "YES\n"
     ]
    }
   ],
   "source": [
    "# age, sex = int(input()), input()\n",
    "age, sex = 10, 'f'\n",
    "\n",
    "print(\"YES\" if age in range(10,16) and sex == \"f\" else \"NO\")"
   ]
  },
  {
   "cell_type": "markdown",
   "metadata": {},
   "source": [
    "## Римские цифры\n",
    "Напишите программу, которая считывает целое число и выводит соответствующую ему римскую цифру. Если число находится вне диапазона 1-10, то программа должна вывести текст «ошибка».\n",
    "\n",
    "В таблице приведены римские цифры для чисел от 1 до 10.\n",
    "\n",
    "|Число\t| Римская цифра |\n",
    "|-------|---------------|\n",
    "|1\t    | I             |\n",
    "|2\t    | II            |\n",
    "|3\t    | III           |\n",
    "|4\t    | IV            |\n",
    "|5\t    | V             |\n",
    "|6\t    | VI            |\n",
    "|7\t    | VII           |\n",
    "|8\t    | VIII          |\n",
    "|9\t    | IX            |\n",
    "|10\t    | X             |"
   ]
  },
  {
   "cell_type": "code",
   "execution_count": 4,
   "metadata": {},
   "outputs": [
    {
     "name": "stdout",
     "output_type": "stream",
     "text": [
      "VII\n"
     ]
    }
   ],
   "source": [
    "# n = int(input())\n",
    "n = 7\n",
    "if n == 1: print(\"I\")\n",
    "elif n == 2: print(\"II\")\n",
    "elif n == 3: print(\"III\")\n",
    "elif n == 4: print(\"IV\")\n",
    "elif n == 5: print(\"V\")\n",
    "elif n == 6: print(\"VI\")\n",
    "elif n == 7: print(\"VII\")\n",
    "elif n == 8: print(\"VIII\")\n",
    "elif n == 9: print(\"IX\")\n",
    "elif n == 10: print(\"X\")\n",
    "else: print(\"ошибка\")"
   ]
  },
  {
   "cell_type": "code",
   "execution_count": 5,
   "metadata": {},
   "outputs": [
    {
     "name": "stdout",
     "output_type": "stream",
     "text": [
      "ошибка\n"
     ]
    }
   ],
   "source": [
    "# n = int(input())\n",
    "n = 12\n",
    "if not (0 < n < 11):\n",
    "    print('ошибка')\n",
    "elif n < 4:\n",
    "    print(n * 'I')\n",
    "elif n == 4:\n",
    "    print('IV')\n",
    "elif n < 9:\n",
    "    print('V' + (n - 5) * 'I')\n",
    "elif n < 11:\n",
    "    print((10 - n) * 'I' + 'X')"
   ]
  },
  {
   "cell_type": "code",
   "execution_count": 6,
   "metadata": {},
   "outputs": [
    {
     "name": "stdout",
     "output_type": "stream",
     "text": [
      "I\n"
     ]
    }
   ],
   "source": [
    "# n = int(input())\n",
    "n = 1\n",
    "nums = dict(enumerate('I II III IV V VI VII VIII IX X'.split(), 1))\n",
    "\n",
    "print(nums.get(n, 'ошибка'))"
   ]
  },
  {
   "cell_type": "markdown",
   "metadata": {},
   "source": [
    "## YES or NO вот в чем вопрос\n",
    "Напишите программу, которая принимает на вход число и \n",
    "в зависимости от условий выводит текст «YES», либо «NO».\n",
    "\n",
    "Условия:\n",
    "\n",
    "+ если число нечётное, то вывести «YES»;\n",
    "+ если число чётное в диапазоне от 2 до 5 (включительно), то вывести «NO»;\n",
    "+ если число чётное в диапазоне от 6 до 20 (включительно), то вывести «YES»;\n",
    "+ если число чётное и больше 20, то вывести «NO»."
   ]
  },
  {
   "cell_type": "code",
   "execution_count": 7,
   "metadata": {},
   "outputs": [
    {
     "name": "stdout",
     "output_type": "stream",
     "text": [
      "YES\n"
     ]
    }
   ],
   "source": [
    "# n = int(input())\n",
    "n = 1\n",
    "print(\"YES\" if n % 2 == 1 or n in range(6, 21) else \"NO\")"
   ]
  },
  {
   "cell_type": "code",
   "execution_count": 8,
   "metadata": {},
   "outputs": [
    {
     "name": "stdout",
     "output_type": "stream",
     "text": [
      "NO\n"
     ]
    }
   ],
   "source": [
    "# n = int(input())\n",
    "n = 2\n",
    "\n",
    "if n % 2 == 1:\n",
    "    print(\"YES\")\n",
    "elif 2 <= n <= 5:\n",
    "    print(\"NO\")\n",
    "elif 6 <= n <= 20:\n",
    "    print(\"YES\")\n",
    "else:\n",
    "    print(\"NO\")"
   ]
  },
  {
   "cell_type": "markdown",
   "metadata": {},
   "source": [
    "## Ход слона 🌶️\n",
    "Даны две различные клетки шахматной доски. <br>\n",
    "Напишите программу, которая определяет, может ли слон попасть с первой клетки на вторую одним ходом. <br>\n",
    "Программа получает на вход четыре числа от 1 до 8 каждое, задающие номер столбца и номер строки сначала для первой клетки, потом для второй клетки. Программа должна вывести «YES», если из первой клетки ходом слона можно попасть во вторую или «NO» в противном случае.\n",
    "\n",
    "\n",
    "На вход программе подаётся четыре числа от 1 до 8.\n",
    "\n",
    "\n",
    "Программа должна вывести текст в соответствии с условием задачи.\n",
    "\n",
    "Примечание. Шахматный слон ходит по диагоналям."
   ]
  },
  {
   "cell_type": "code",
   "execution_count": 9,
   "metadata": {},
   "outputs": [
    {
     "name": "stdout",
     "output_type": "stream",
     "text": [
      "YES\n"
     ]
    }
   ],
   "source": [
    "# a, b, c, d = (int(input()) for _ in range(4))\n",
    "\n",
    "a, b, c, d = 4, 4, 5, 5\n",
    "print(\"YES\" if a + b == c + d or a - b == c - d else \"NO\")"
   ]
  },
  {
   "cell_type": "markdown",
   "metadata": {},
   "source": [
    "Условие x1 - y1 == x2 - y2 соответствует одной диагонали, а условие x1 + y1 == x2 + y2 -- другой диагонали. Так как слон ходит по обоим диагоналям, то используем логическую операцию or:"
   ]
  },
  {
   "cell_type": "code",
   "execution_count": 10,
   "metadata": {},
   "outputs": [
    {
     "name": "stdout",
     "output_type": "stream",
     "text": [
      "NO\n"
     ]
    }
   ],
   "source": [
    "# x1, y1, x2, y2 = int(input()), int(input()), int(input()), int(input())\n",
    "x1, y1, x2, y2 = 4, 4, 5, 4\n",
    "\n",
    "if (x1 - y1 == x2 - y2) or (x1 + y1 == x2 + y2):\n",
    "    print('YES')\n",
    "else:\n",
    "    print('NO')"
   ]
  },
  {
   "cell_type": "markdown",
   "metadata": {},
   "source": [
    "## Ход коня\n",
    "Даны две различные клетки шахматной доски. Напишите программу, которая определяет, может ли конь попасть с первой клетки на вторую одним ходом. \n",
    "\n",
    "Программа получает на вход четыре числа от 1 до 8 каждое, задающие номер столбца и номер строки сначала для первой клетки, потом для второй клетки. Программа должна вывести «YES», если из первой клетки ходом коня можно попасть во вторую или «NO» в противном случае.\n"
   ]
  },
  {
   "cell_type": "code",
   "execution_count": 11,
   "metadata": {},
   "outputs": [
    {
     "name": "stdout",
     "output_type": "stream",
     "text": [
      "NO\n"
     ]
    }
   ],
   "source": [
    "# a, b, c, d = (int(input()) for _ in range(4))\n",
    "a, b, c, d = 1, 1, 8, 8\n",
    "\n",
    "print(\"YES\" if (abs(a - c) == 1 and abs(b - d) == 2) or (abs(b - d) == 1 and abs(a - c) == 2) else \"NO\")"
   ]
  },
  {
   "cell_type": "markdown",
   "metadata": {},
   "source": [
    "в любом случае для коня будет смещение на 2 по одной оси и на 1 по другой оси, так что через Пифагора 2 ** 2 + 1 ** 2 = 5 (других комбинаций с суммой 5 не может быть)"
   ]
  },
  {
   "cell_type": "code",
   "execution_count": 12,
   "metadata": {},
   "outputs": [
    {
     "name": "stdout",
     "output_type": "stream",
     "text": [
      "YES\n"
     ]
    }
   ],
   "source": [
    "# x1, y1, x2, y2 = int(input()), int(input()), int(input()), int(input())\n",
    "x1, y1, x2, y2 = 2, 4, 3, 2\n",
    "if (x1 - x2) ** 2 + (y1 - y2) ** 2 == 5:\n",
    "    print(\"YES\")\n",
    "else:\n",
    "    print(\"NO\")"
   ]
  },
  {
   "cell_type": "markdown",
   "metadata": {},
   "source": [
    "## Ход ферзя\n",
    "Даны две различные клетки шахматной доски. Напишите программу,  которая определяет, может ли ферзь попасть с первой клетки на вторую одним ходом. Программа получает на вход четыре числа от 1 до 8 каждое, задающие номер столбца и номер строки сначала для первой клетки, потом для второй клетки. Программа должна вывести «YES», если из первой клетки ходом ферзя можно попасть во вторую или «NO» в противном случае.\n",
    "\n",
    "Примечание. Шахматный ферзь ходит по диагонали, горизонтали или вертикали.\n"
   ]
  },
  {
   "cell_type": "code",
   "execution_count": 13,
   "metadata": {},
   "outputs": [
    {
     "name": "stdout",
     "output_type": "stream",
     "text": [
      "YES\n"
     ]
    }
   ],
   "source": [
    "# a, b, c, d = (int(input()) for _ in range(4))\n",
    "a, b, c, d = 1, 1, 2, 2\n",
    "print(\"YES\" if (a + b == c + d or\n",
    "                 a - b == c - d or\n",
    "                 a == c or\n",
    "                 b == d) else \"NO\")"
   ]
  },
  {
   "cell_type": "markdown",
   "metadata": {},
   "source": [
    "ферзь = ладья + слон"
   ]
  },
  {
   "cell_type": "code",
   "execution_count": 14,
   "metadata": {},
   "outputs": [
    {
     "name": "stdout",
     "output_type": "stream",
     "text": [
      "NO\n"
     ]
    }
   ],
   "source": [
    "# x1, y1, x2, y2 = int(input()), int(input()), int(input()), int(input())\n",
    "x1, y1, x2, y2 = 1, 1, 2, 3\n",
    "\n",
    "if x1 == x2 or y1 == y2 or (y1 - y2) ** 2 == (x1 - x2) ** 2:\n",
    "    print(\"YES\")\n",
    "else:\n",
    "    print(\"NO\")"
   ]
  }
 ],
 "metadata": {
  "kernelspec": {
   "display_name": "Python 3",
   "language": "python",
   "name": "python3"
  },
  "language_info": {
   "codemirror_mode": {
    "name": "ipython",
    "version": 3
   },
   "file_extension": ".py",
   "mimetype": "text/x-python",
   "name": "python",
   "nbconvert_exporter": "python",
   "pygments_lexer": "ipython3",
   "version": "3.10.11"
  },
  "orig_nbformat": 4
 },
 "nbformat": 4,
 "nbformat_minor": 2
}
