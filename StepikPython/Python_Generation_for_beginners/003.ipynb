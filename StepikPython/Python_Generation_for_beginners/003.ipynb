{
 "cells": [
  {
   "cell_type": "markdown",
   "metadata": {},
   "source": [
    "# Итоговая работа на ввод-вывод данных"
   ]
  },
  {
   "cell_type": "markdown",
   "metadata": {},
   "source": [
    "### Какая команда используется для вывода (печати) данных?\n",
    "\n",
    "+ Console.WriteLine()\n",
    "+ printf()\n",
    "+ cout()\n",
    "+ __print()__\n",
    "\n",
    "### Выберите верные строки кода.\n",
    "\n",
    "+ print('I'm 16 and I'm from Northern Ireland.')\n",
    "+ __print(\"3.1415\")__\n",
    "+ print('Просто текст...\")\n",
    "+ __print()__\n",
    "+ __print('Поэма \"Мёртвые души\" одна из самых интересных')__\n",
    "+ __print(\"I'm a math teacher and a programmer!\")__\n",
    "\n",
    "## Выберите верные строки кода.\n",
    "+ print(\"раз\", \"два, \"три\")\n",
    "+ print(\"Python\", , \"is the best\")\n",
    "+ print(\"10\", '100', '1000)\n",
    "+ __print('Python', 'is the best', '!!')__\n",
    "\n",
    "## Что выведет следующий код \n",
    "```python\n",
    "print('1', '2', '3', '4', sep='*')\n",
    "```\n",
    "\n",
    "+ 1234\n",
    "+ 24\n",
    "+ __1*2*3*4__\n",
    "+ 1 2 3 4\n",
    "\n",
    "## Выберите верные строки кода.\n",
    "\n",
    "+ print(\"Remember not to get too close to stars\", \"They're never gonna give you love like ours\", sepp=\" \")\n",
    "+ print(\"Remember not to get too close to stars\", end==\"\")\n",
    "+ __print(\"Told you not to worry\", \"But maybe that's a lie\", sep=' :) ')__\n",
    "+ __print(\"The world's a little blurry\", \"Or maybe it's my eyes\", end='!!!', sep=' :) ')__\n",
    "+ __print(\"Honey, what's your hurry\", end='?')__\n",
    "\n",
    "## Какая команда используется для считывания данных с клавиатуры?\n",
    "\n",
    "+ Console.ReadLine()\n",
    "+ scanf()\n",
    "+ __input()__\n",
    "+ cin\n",
    "\n",
    "## Какая из указанных строк считывает целое число в переменную n?\n",
    "\n",
    "+ n = number(input())\n",
    "+ __n = int(input())__\n",
    "+ n = input()\n",
    "+ n = str(input())\n",
    "+ n = integer(input())\n",
    "\n",
    "## Выберите верные утверждения.\n",
    "\n",
    "+ Имя переменной не может оканчиваться цифрой\n",
    "+ __Имя переменной не может начинаться с цифры__\n",
    "+ __Имя переменной не может совпадать с ключевым (зарезервированным) словом__\n",
    "+ __Имя переменной может начинаться с символа подчёркивания (_)__\n",
    "\n",
    "## Какое число выведет следующий код?\n"
   ]
  },
  {
   "cell_type": "code",
   "execution_count": 1,
   "metadata": {},
   "outputs": [
    {
     "name": "stdout",
     "output_type": "stream",
     "text": [
      "60\n"
     ]
    }
   ],
   "source": [
    "s = 13\n",
    "k = -5\n",
    "d = s + 2\n",
    "s = d\n",
    "k = 2 * s\n",
    "print(s + k + d)"
   ]
  },
  {
   "cell_type": "markdown",
   "metadata": {},
   "source": [
    "## Какое число выведет следующий код?"
   ]
  },
  {
   "cell_type": "code",
   "execution_count": 2,
   "metadata": {},
   "outputs": [
    {
     "name": "stdout",
     "output_type": "stream",
     "text": [
      "56\n"
     ]
    }
   ],
   "source": [
    "a = 17 // (23 % 7)\n",
    "b = 34 % a * 5 - 29 % 4 * 3\n",
    "print(a * b)"
   ]
  },
  {
   "cell_type": "markdown",
   "metadata": {},
   "source": [
    "## Звездный прямоугольник\n",
    "Напишите программу, которая выводит прямоугольник, по периметру состоящий из звездочек (*).\n",
    "\n",
    "__Примечание.__ Высота и ширина прямоугольника равны $4$ и $17$ звёздочкам соответственно."
   ]
  },
  {
   "cell_type": "code",
   "execution_count": 13,
   "metadata": {},
   "outputs": [
    {
     "name": "stdout",
     "output_type": "stream",
     "text": [
      "*****************\n",
      "*               *\n",
      "*               *\n",
      "*****************\n"
     ]
    }
   ],
   "source": [
    "print('*' * 17)\n",
    "print('*' + ' ' * 15 + '*')\n",
    "print('*' + ' ' * 15 + '*')\n",
    "print('*' * 17)"
   ]
  },
  {
   "cell_type": "markdown",
   "metadata": {},
   "source": [
    "## Сумма квадратов VS квадрат суммы\n",
    "Напишите программу, которая считывает два целых числа $a$ и \n",
    "$b$ и выводит на экран квадрат суммы $(a+b)^2$ и сумму квадратов \n",
    "$a^2 +b^2$ этих чисел.\n",
    "\n",
    "__Формат входных данных__\n",
    "На вход программе подаётся два целых числа, каждое на отдельной строке.\n",
    "\n",
    "__Формат выходных данных__\n",
    "Программа должна вывести текст в соответствии с условием."
   ]
  },
  {
   "cell_type": "code",
   "execution_count": 14,
   "metadata": {},
   "outputs": [
    {
     "name": "stdout",
     "output_type": "stream",
     "text": [
      "Квадрат суммы 2 и 3 равен 25\n",
      "Сумма квадратов 2 и 3 равна 13\n"
     ]
    }
   ],
   "source": [
    "# a, b = int(input()), int(input())\n",
    "a, b = 2, 3\n",
    "print(f\"Квадрат суммы {a} и {b} равен {(a + b) ** 2}\")\n",
    "print(f\"Сумма квадратов {a} и {b} равна {a ** 2 + b ** 2}\")"
   ]
  },
  {
   "cell_type": "markdown",
   "metadata": {},
   "source": [
    "## Большое число\n",
    "Как известно, целые числа в языке Python не имеют ограничений, которые встречаются в других языках программирования. Напишите программу, которая считывает четыре целых положительных числа \n",
    "$a,b,c$ и $d$ и выводит на экран значение выражения $a^b +c^d$.\n",
    "\n",
    "__Формат входных данных__<br>\n",
    "На вход программе подаётся четыре целых положительных числа \n",
    "$a,b,c$ и $d$ , каждое на отдельной строке в указанном порядке.\n",
    "\n",
    "__Формат выходных данных__<br>\n",
    "Программа должна вывести значение \n",
    "$a^b + c^d$."
   ]
  },
  {
   "cell_type": "code",
   "execution_count": 15,
   "metadata": {},
   "outputs": [
    {
     "name": "stdout",
     "output_type": "stream",
     "text": [
      "4710194409608608369201743232\n"
     ]
    }
   ],
   "source": [
    "# a, b, c, d = (int(input()) for _ in range(4))\n",
    "a, b, c, d = 9, 29, 7, 27\n",
    "print(a ** b + c ** d)"
   ]
  },
  {
   "cell_type": "markdown",
   "metadata": {},
   "source": [
    "## Размножение n-ок\n",
    "\n",
    "Напишите программу, которая считывает целое положительное число \n",
    "$ n∈[1;9]$ и выводит значение числа $ n + nn + nnn$.\n",
    "\n",
    "Формат входных данных\n",
    "На вход программе подаётся одно целое положительное число \n",
    "$n∈[1;9]$.\n",
    "\n",
    "Формат выходных данных\n",
    "Программа должна вывести число \n",
    "$n + nn + nnn$.\n",
    "\n",
    "Примечание. Для первого теста \n",
    "$1+11+111=123$."
   ]
  },
  {
   "cell_type": "code",
   "execution_count": 16,
   "metadata": {},
   "outputs": [
    {
     "name": "stdout",
     "output_type": "stream",
     "text": [
      "246\n"
     ]
    }
   ],
   "source": [
    "# n = input()\n",
    "n = '2'\n",
    "print(int(n) + int(n + n) + int(n + n + n))"
   ]
  },
  {
   "cell_type": "markdown",
   "metadata": {},
   "source": [
    "### Другое решение:\n",
    "$ n+ nn + nnn = n + 10n +n + 100n + 10n + n = 123n$"
   ]
  },
  {
   "cell_type": "code",
   "execution_count": 17,
   "metadata": {},
   "outputs": [
    {
     "name": "stdout",
     "output_type": "stream",
     "text": [
      "369\n"
     ]
    }
   ],
   "source": [
    "# n = int(input())\n",
    "n = 3\n",
    "print(n * 123)"
   ]
  },
  {
   "cell_type": "markdown",
   "metadata": {},
   "source": [
    "[Содержание курса](https://github.com/Palex068/PythonData/tree/main/StepikPython/Python_Generation_for_beginners/README.MD)"
   ]
  }
 ],
 "metadata": {
  "kernelspec": {
   "display_name": "Python 3",
   "language": "python",
   "name": "python3"
  },
  "language_info": {
   "codemirror_mode": {
    "name": "ipython",
    "version": 3
   },
   "file_extension": ".py",
   "mimetype": "text/x-python",
   "name": "python",
   "nbconvert_exporter": "python",
   "pygments_lexer": "ipython3",
   "version": "3.11.4"
  },
  "orig_nbformat": 4
 },
 "nbformat": 4,
 "nbformat_minor": 2
}
