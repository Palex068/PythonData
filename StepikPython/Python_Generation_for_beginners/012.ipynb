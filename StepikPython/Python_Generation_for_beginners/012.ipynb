{
 "cells": [
  {
   "cell_type": "markdown",
   "metadata": {},
   "source": [
    "# Итоговая работа на списки"
   ]
  },
  {
   "cell_type": "markdown",
   "metadata": {},
   "source": [
    " Что покажет приведенный ниже фрагмент кода?\n",
    "\n",
    " ```python\n",
    " numbers = [1, 2, 3, 4, 5]\n",
    "numbers[2] = 99\n",
    "print(numbers)\n",
    " ```\n",
    "\n",
    "+ $[1, 2, 3, 4, 5, 99]$\n",
    "+ $[99, 2, 3, 4, 5]$\n",
    "+ $[1, 99, 3, 4, 5]$\n",
    "+ $[1, 2, 99, 4, 5]$"
   ]
  },
  {
   "cell_type": "code",
   "execution_count": 1,
   "metadata": {},
   "outputs": [
    {
     "name": "stdout",
     "output_type": "stream",
     "text": [
      "[1, 2, 99, 4, 5]\n"
     ]
    }
   ],
   "source": [
    "numbers = [1, 2, 3, 4, 5]\n",
    "numbers[2] = 99\n",
    "print(numbers)"
   ]
  },
  {
   "cell_type": "markdown",
   "metadata": {},
   "source": [
    "Что покажет приведенный ниже фрагмент кода?\n",
    "```python\n",
    "numbers = list(range(3))\n",
    "print(numbers)\n",
    "```\n",
    "\n",
    "+ $[3]$\n",
    "+ $['r', 'a', 'n', 'g', 'e', '(', '3', ')']$\n",
    "+ $[0, 1, 2]$\n",
    "+ $[0, 1, 2, 3]$\n",
    "+ $[2]$\n"
   ]
  },
  {
   "cell_type": "code",
   "execution_count": 2,
   "metadata": {},
   "outputs": [
    {
     "name": "stdout",
     "output_type": "stream",
     "text": [
      "[0, 1, 2]\n"
     ]
    }
   ],
   "source": [
    "numbers = list(range(3))\n",
    "print(numbers)"
   ]
  },
  {
   "cell_type": "markdown",
   "metadata": {},
   "source": [
    " Что покажет приведенный ниже фрагмент кода?\n",
    "\n",
    "```python\n",
    "numbers = [10] * 5\n",
    "print(numbers)\n",
    "```\n",
    "+ $[5, 5, 5, 5, 5, 5, 5, 5, 5, 5]$\n",
    "+ $[10] * 5$\n",
    "+ $[10, 10, 10, 10, 10]$\n",
    "+ $[10] [10] [10] [10] [10]$"
   ]
  },
  {
   "cell_type": "code",
   "execution_count": 3,
   "metadata": {},
   "outputs": [
    {
     "name": "stdout",
     "output_type": "stream",
     "text": [
      "[10, 10, 10, 10, 10]\n"
     ]
    }
   ],
   "source": [
    "numbers = [10] * 5\n",
    "print(numbers)"
   ]
  },
  {
   "cell_type": "markdown",
   "metadata": {},
   "source": [
    "Что покажет приведенный ниже фрагмент кода?\n",
    "\n",
    "```python\n",
    "numbers = list(range(1, 10, 2))\n",
    "for i in numbers:\n",
    "    print(i, end='*')\n",
    "```\n",
    "\n",
    "+ $2*4*6*8$\n",
    "+ $2 4 6 8 10*$\n",
    "+ $1 3 5 7 9*$\n",
    "+ $1*3*5*7*9*$\n",
    "+ $1*3*5*7*9$"
   ]
  },
  {
   "cell_type": "code",
   "execution_count": 4,
   "metadata": {},
   "outputs": [
    {
     "name": "stdout",
     "output_type": "stream",
     "text": [
      "1*3*5*7*9*"
     ]
    }
   ],
   "source": [
    "numbers = list(range(1, 10, 2))\n",
    "for i in numbers:\n",
    "    print(i, end='*')"
   ]
  },
  {
   "cell_type": "markdown",
   "metadata": {},
   "source": [
    "Что покажет приведенный ниже фрагмент кода?\n",
    "\n",
    "```python\n",
    "numbers = [1, 2, 3, 4, 5]\n",
    "print(numbers[-2])\n",
    "```\n",
    "\n",
    "\n",
    "+ __IndexError: list index out of range__\n",
    "+ $1$\n",
    "+ $2$\n",
    "+ $4$\n",
    "+ $5$"
   ]
  },
  {
   "cell_type": "code",
   "execution_count": 5,
   "metadata": {},
   "outputs": [
    {
     "name": "stdout",
     "output_type": "stream",
     "text": [
      "4\n"
     ]
    }
   ],
   "source": [
    "numbers = [1, 2, 3, 4, 5]\n",
    "print(numbers[-2])"
   ]
  },
  {
   "cell_type": "markdown",
   "metadata": {},
   "source": [
    "Что покажет приведенный ниже фрагмент кода?\n",
    "\n",
    "```python\n",
    "numbers1 = [1, 2, 3]\n",
    "numbers2 = [10, 20, 30]\n",
    "numbers3 = numbers1 + numbers2\n",
    "print(numbers3)\n",
    "```\n",
    "\n",
    "\n",
    "+ $[11, 22, 33]$\n",
    "+ $[10, 20, 30, 1, 2, 3]$\n",
    "+ $[1, 2, 3] + [10, 20, 30]$\n",
    "+ $[1, 2, 3, 10, 20, 30]$"
   ]
  },
  {
   "cell_type": "code",
   "execution_count": 7,
   "metadata": {},
   "outputs": [
    {
     "data": {
      "text/plain": [
       "[1, 2, 3, 10, 20, 30]"
      ]
     },
     "execution_count": 7,
     "metadata": {},
     "output_type": "execute_result"
    }
   ],
   "source": [
    "numbers1 = [1, 2, 3]\n",
    "numbers2 = [10, 20, 30]\n",
    "numbers3 = numbers1 + numbers2\n",
    "numbers3"
   ]
  },
  {
   "cell_type": "markdown",
   "metadata": {},
   "source": [
    "Что покажет приведенный ниже фрагмент кода?\n",
    "\n",
    "```python\n",
    "numbers = [1, 2, 3, 4, 5]\n",
    "my_list = numbers[1:3]\n",
    "print(my_list)\n",
    "```\n",
    "\n",
    "+ $[1, 2]$\n",
    "+ $[2, 3]$\n",
    "+ $[2, 3, 4]$\n",
    "+ $[1, 2, 3]$"
   ]
  },
  {
   "cell_type": "code",
   "execution_count": 8,
   "metadata": {},
   "outputs": [
    {
     "name": "stdout",
     "output_type": "stream",
     "text": [
      "[2, 3]\n"
     ]
    }
   ],
   "source": [
    "numbers = [1, 2, 3, 4, 5]\n",
    "my_list = numbers[1:3]\n",
    "print(my_list)"
   ]
  },
  {
   "cell_type": "markdown",
   "metadata": {},
   "source": [
    "Что покажет приведенный ниже фрагмент кода?\n",
    "\n",
    "```python\n",
    "numbers = [1, 2, 3, 4, 5]\n",
    "my_list = numbers[1:]\n",
    "print(my_list)\n",
    "```\n",
    "\n",
    "+ $[2, 3, 4, 5]$\n",
    "+ $[1, 2, 3, 4, 5]$\n",
    "+ $[2]$\n",
    "+ $[1, 2, 3, 4]$"
   ]
  },
  {
   "cell_type": "code",
   "execution_count": 9,
   "metadata": {},
   "outputs": [
    {
     "name": "stdout",
     "output_type": "stream",
     "text": [
      "[2, 3, 4, 5]\n"
     ]
    }
   ],
   "source": [
    "numbers = [1, 2, 3, 4, 5]\n",
    "my_list = numbers[1:]\n",
    "print(my_list)"
   ]
  },
  {
   "cell_type": "markdown",
   "metadata": {},
   "source": [
    "Что покажет приведенный ниже фрагмент кода?\n",
    "\n",
    "```python\n",
    "numbers = [1, 2, 3, 4, 5]\n",
    "my_list = numbers[:-1]\n",
    "print(my_list)\n",
    "```\n",
    "\n",
    "+ $[2, 3, 4, 5]$\n",
    "+ $[1, 2, 3, 4]$\n",
    "+ $[5]$\n",
    "+ $[1, 2, 3, 4, 5]$"
   ]
  },
  {
   "cell_type": "code",
   "execution_count": 10,
   "metadata": {},
   "outputs": [
    {
     "name": "stdout",
     "output_type": "stream",
     "text": [
      "[1, 2, 3, 4]\n"
     ]
    }
   ],
   "source": [
    "numbers = [1, 2, 3, 4, 5]\n",
    "my_list = numbers[:-1]\n",
    "print(my_list)"
   ]
  },
  {
   "cell_type": "markdown",
   "metadata": {},
   "source": [
    "Что покажет приведенный ниже фрагмент кода?\n",
    "\n",
    "```python\n",
    "numbers = [1, 2, 3, 4, 5]\n",
    "my_list = numbers[:]\n",
    "print(my_list)\n",
    "```\n",
    "\n",
    "+ $[1, 2, 3, 4, 5]$\n",
    "+ $[4, 3, 2, 1]$\n",
    "+ $[5, 4, 3, 2, 1]$\n",
    "+ $[1, 2, 3, 4]$"
   ]
  },
  {
   "cell_type": "code",
   "execution_count": 11,
   "metadata": {},
   "outputs": [
    {
     "name": "stdout",
     "output_type": "stream",
     "text": [
      "[1, 2, 3, 4, 5]\n"
     ]
    }
   ],
   "source": [
    "numbers = [1, 2, 3, 4, 5]\n",
    "my_list = numbers[:]\n",
    "print(my_list)"
   ]
  },
  {
   "cell_type": "markdown",
   "metadata": {},
   "source": [
    "Что покажет приведенный ниже фрагмент кода?\n",
    "\n",
    "```python\n",
    "names = ['Джим', 'Джилл', 'Джон', 'Джасмин']\n",
    "if 'Джасмин' not in names:\n",
    "    print ('Не могу найти Джасмин.')\n",
    "else:\n",
    "    print('Ceмья Джасмин: ', end='')\n",
    "    print(names)\n",
    "```\n",
    "\n",
    "+ __Не могу найти Джасмин.__\n",
    "+ __Ceмья Джасмин: ['Джим', 'Джилл', 'Джон', 'Джасмин']__\n",
    "+ __['Джим', 'Джилл', 'Джон', 'Джасмин']__\n",
    "+ __Ceмья Джасмин:__"
   ]
  },
  {
   "cell_type": "code",
   "execution_count": 12,
   "metadata": {},
   "outputs": [
    {
     "name": "stdout",
     "output_type": "stream",
     "text": [
      "Ceмья Джасмин: ['Джим', 'Джилл', 'Джон', 'Джасмин']\n"
     ]
    }
   ],
   "source": [
    "names = ['Джим', 'Джилл', 'Джон', 'Джасмин']\n",
    "if 'Джасмин' not in names:\n",
    "    print ('Не могу найти Джасмин.')\n",
    "else:\n",
    "    print('Ceмья Джасмин: ', end='')\n",
    "    print(names)"
   ]
  },
  {
   "cell_type": "markdown",
   "metadata": {},
   "source": [
    "Какая из приведенных функций возвращает длину списка?\n",
    "\n",
    "+ length()\n",
    "+ <mark> __len()(Ответ)__\n",
    "+ size()\n",
    "+ lengthof()"
   ]
  },
  {
   "cell_type": "markdown",
   "metadata": {},
   "source": [
    "Какая из приведенных функций возвращает самое большое значение в списке?\n",
    "\n",
    "+ best_of()\n",
    "+ highest()\n",
    "+ maximum()\n",
    "+ greatest()\n",
    "+ <mark>__max()(Ответ)__"
   ]
  },
  {
   "cell_type": "markdown",
   "metadata": {},
   "source": [
    "Какой из приведенных методов добавляет значение в конец существующего списка?\n",
    "\n",
    "\n",
    "+ add_to()\n",
    "+ increase()\n",
    "+ add()\n",
    "+ <mark>__append()(Ответ)__"
   ]
  },
  {
   "cell_type": "markdown",
   "metadata": {},
   "source": [
    "В результате применения <br>\n",
    "инструкции del <br>\n",
    "значение в заданной индексной позиции удаляется из списка.<br>"
   ]
  },
  {
   "cell_type": "markdown",
   "metadata": {},
   "source": [
    "# Список четных\n",
    "На вход программе подается четное число $n,n≥2$. <br>\n",
    "Напишите программу, которая выводит список четных чисел <br>\n",
    "$[2, 4, 6, ..., n]$."
   ]
  },
  {
   "cell_type": "code",
   "execution_count": 14,
   "metadata": {},
   "outputs": [
    {
     "name": "stdout",
     "output_type": "stream",
     "text": [
      "[2, 4, 6, 8]\n"
     ]
    }
   ],
   "source": [
    "n = 8\n",
    "# n = int(input())\n",
    "\n",
    "print(list(n for n in range(2, n + 1, 2)))"
   ]
  },
  {
   "cell_type": "markdown",
   "metadata": {},
   "source": [
    "# Сумма двух списков\n",
    "На вход программе подаются две строки текста, содержащие целые числа. \n",
    "\n",
    "Из данных строк формируются списки чисел L и M. \n",
    "\n",
    "Напишите программу, которая создает третий список, элементами которого являются суммы соответствующих элементов списков L и M. \n",
    "\n",
    "Далее программа должна вывести каждый элемент полученного списка на одной строке через 1 пробел."
   ]
  },
  {
   "cell_type": "code",
   "execution_count": 15,
   "metadata": {},
   "outputs": [
    {
     "name": "stdout",
     "output_type": "stream",
     "text": [
      "4 6 13\n"
     ]
    }
   ],
   "source": [
    "# A = list(map(int, input().split()))\n",
    "# B = list(map(int, input().split()))\n",
    "\n",
    "A = [3, 1, 4]\n",
    "B = [1, 5, 9]\n",
    "\n",
    "C = list()\n",
    "for i in range(len(A)):\n",
    "    C.append(A[i] + B[i])\n",
    "print(*C)"
   ]
  },
  {
   "cell_type": "markdown",
   "metadata": {},
   "source": [
    "# Сумма чисел\n",
    "На вход программе подается строка текста, содержащая натуральные числа. Напишите программу, которая вставляет между каждым числом знак +, а затем вычисляет сумму полученных чисел."
   ]
  },
  {
   "cell_type": "code",
   "execution_count": 16,
   "metadata": {},
   "outputs": [
    {
     "name": "stdout",
     "output_type": "stream",
     "text": [
      "2+5+11+33+55=106\n"
     ]
    }
   ],
   "source": [
    "# N = list(map(int, input().split()))\n",
    "N = [2, 5, 11, 33, 55]\n",
    "\n",
    "print(*N, sep='+', end='=')\n",
    "print(sum(N))"
   ]
  },
  {
   "cell_type": "markdown",
   "metadata": {},
   "source": [
    "# Валидный номер 🌶️🌶️\n",
    "На вход программе подается строка текста. Напишите программу, которая определяет, является ли введенная строка корректным телефонным номером. Строка текста является корректным телефонным номером, если она имеет формат:\n",
    "+ abc-def-hijk или\n",
    "+ 7-abc-def-hijk,<br>\n",
    "где a, b, c, d, e, f, h, i, j, k – цифры от 0 до 9."
   ]
  },
  {
   "cell_type": "code",
   "execution_count": 17,
   "metadata": {},
   "outputs": [
    {
     "name": "stdout",
     "output_type": "stream",
     "text": [
      "YES\n"
     ]
    }
   ],
   "source": [
    "def is_number(S):\n",
    "    \n",
    "    F = list(len(s) for s in S.split('-'))\n",
    "    if not str.isdigit(S.replace('-', '0')):\n",
    "        return False\n",
    "    if F == [1, 3, 3, 4] and S[0] == '7' or F == [3, 3, 4]:\n",
    "            return True\n",
    "    else:\n",
    "        return False\n",
    "   \n",
    "# N = input()\n",
    "N = '7-301-447-5820'\n",
    "   \n",
    "print(\"YES\" if is_number(N) else \"NO\")"
   ]
  },
  {
   "cell_type": "markdown",
   "metadata": {},
   "source": [
    "# Самый длинный\n",
    "На вход программе подается строка текста. Напишите программу, __использующую списочное выражение__, которая находит длину самого длинного слова."
   ]
  },
  {
   "cell_type": "code",
   "execution_count": 18,
   "metadata": {},
   "outputs": [
    {
     "name": "stdout",
     "output_type": "stream",
     "text": [
      "7\n"
     ]
    }
   ],
   "source": [
    "# print(max(len(s) for s in list(input().split())))\n",
    "\n",
    "S = 'проспал почти всю ночь'\n",
    "print(max(len(s) for s in list(S.split())))"
   ]
  },
  {
   "cell_type": "markdown",
   "metadata": {},
   "source": [
    "Молодежный жаргон\n",
    "На вход программе подается строка текста. Напишите программу, __использующую списочное выражение__, которая преобразует каждое слово введенного текста в \"молодежный жаргон\" по следующему правилу: \n",
    "+ первая буква каждого слова удаляется и ставится в конец слова; \n",
    "+ затем в конец слова добавляется слог \"ки\"."
   ]
  },
  {
   "cell_type": "code",
   "execution_count": 19,
   "metadata": {},
   "outputs": [
    {
     "name": "stdout",
     "output_type": "stream",
     "text": [
      "роспалпки очтипки сювки очьнки\n"
     ]
    }
   ],
   "source": [
    "# print(*(list(s[1:] + s[0] + 'ки' for s in list(input().split()))))\n",
    "\n",
    "\n",
    "S = 'проспал почти всю ночь'\n",
    "print(*(list(s[1:] + s[0] + 'ки' for s in list(S.split()))))"
   ]
  }
 ],
 "metadata": {
  "kernelspec": {
   "display_name": "Python 3",
   "language": "python",
   "name": "python3"
  },
  "language_info": {
   "codemirror_mode": {
    "name": "ipython",
    "version": 3
   },
   "file_extension": ".py",
   "mimetype": "text/x-python",
   "name": "python",
   "nbconvert_exporter": "python",
   "pygments_lexer": "ipython3",
   "version": "3.10.11"
  },
  "orig_nbformat": 4
 },
 "nbformat": 4,
 "nbformat_minor": 2
}
