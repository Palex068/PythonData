{
 "cells": [
  {
   "cell_type": "markdown",
   "metadata": {},
   "source": [
    "# ДЗ 5"
   ]
  },
  {
   "cell_type": "markdown",
   "metadata": {},
   "source": [
    "## Задание 1\n",
    "Вы провели эксперимент c упрощением формы заказа в магазине Утконос и получили результаты по метрике конверсий в покупку.\n",
    "\n",
    "+ Выберите метод оценки и оцените есть ли стат.значимые различия между конверсиями в двух группах при alpha = 5%. \n",
    "+ Дайте краткие рекомендации команде.\n",
    "\n",
    "Результаты: \n",
    "1. Число юзеров в группах , которые заходили на сайт в период эксперимента:\n",
    "    + n1 = 15550,\n",
    "    + n2 = 15550.\n",
    "2. Число юзеров в группах , которые совершили хотя бы одну покупку за период эксперимента:\n",
    "    + n1 = 164,\n",
    "    + n2 = 228.\n",
    "3. Конверсии:\n",
    "    + conv1 = 1.05%\n",
    "    + conv2 = 1.47%"
   ]
  },
  {
   "cell_type": "markdown",
   "metadata": {},
   "source": [
    "## Решение 1 \n",
    "\n",
    "Используем один из [калькуляторов](https://www.evanmiller.org/ab-testing/chi-squared.html)\n",
    "\n",
    "![Решение](/ABTesting/Pictures/005_024.PNG)\n",
    "\n",
    "\n",
    "\n"
   ]
  }
 ],
 "metadata": {
  "kernelspec": {
   "display_name": "Python 3",
   "language": "python",
   "name": "python3"
  },
  "language_info": {
   "codemirror_mode": {
    "name": "ipython",
    "version": 3
   },
   "file_extension": ".py",
   "mimetype": "text/x-python",
   "name": "python",
   "nbconvert_exporter": "python",
   "pygments_lexer": "ipython3",
   "version": "3.10.11"
  },
  "orig_nbformat": 4
 },
 "nbformat": 4,
 "nbformat_minor": 2
}
