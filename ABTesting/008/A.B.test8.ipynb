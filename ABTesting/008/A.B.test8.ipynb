{
 "cells": [
  {
   "attachments": {},
   "cell_type": "markdown",
   "id": "c9a92308",
   "metadata": {},
   "source": [
    "# ДЗ 7"
   ]
  },
  {
   "cell_type": "markdown",
   "id": "37877de2",
   "metadata": {},
   "source": [
    "На сайте запущен А/В тест с целью увеличить доход. В приложенном excel файле вы найдете сырые данные по результатам эксперимента – user_id, тип выборки variant_name и доход принесенный пользователем revenue.\n",
    "Проанализируйте результаты эксперимента и напишите свои рекомендации менеджеру."
   ]
  },
  {
   "cell_type": "markdown",
   "id": "d4f353d1",
   "metadata": {},
   "source": [
    "# РЕШЕНИЕ"
   ]
  },
  {
   "cell_type": "code",
   "execution_count": 1,
   "id": "c93b0523",
   "metadata": {},
   "outputs": [],
   "source": [
    "from scipy.stats import ttest_1samp\n",
    "import numpy as np\n",
    "\n",
    "import warnings\n",
    "warnings.filterwarnings('ignore')\n",
    "warnings.warn('DelftStack')\n",
    "warnings.warn('Do not show this message')"
   ]
  },
  {
   "cell_type": "code",
   "execution_count": 2,
   "id": "b7d461ae",
   "metadata": {},
   "outputs": [
    {
     "name": "stderr",
     "output_type": "stream",
     "text": [
      "Matplotlib is building the font cache; this may take a moment.\n"
     ]
    }
   ],
   "source": [
    "import matplotlib.pyplot as plt\n",
    "import seaborn as sns\n",
    "import pandas as pd\n",
    "from scipy.stats import shapiro\n",
    "from scipy import stats\n",
    "from statsmodels.stats.power import TTestIndPower"
   ]
  },
  {
   "cell_type": "code",
   "execution_count": 20,
   "id": "003f51f0",
   "metadata": {},
   "outputs": [
    {
     "ename": "SyntaxError",
     "evalue": "(unicode error) 'unicodeescape' codec can't decode bytes in position 2-3: truncated \\UXXXXXXXX escape (3632356535.py, line 1)",
     "output_type": "error",
     "traceback": [
      "\u001b[1;36m  Cell \u001b[1;32mIn[20], line 1\u001b[1;36m\u001b[0m\n\u001b[1;33m    df = pd.read_excel('C:\\Users\\Ванечка\\Desktop\\MyReps\\PythonData\\ABTesting\\008\\AB_Test_Results.xlsx', encoding='utf-8')\u001b[0m\n\u001b[1;37m                                                                                                      ^\u001b[0m\n\u001b[1;31mSyntaxError\u001b[0m\u001b[1;31m:\u001b[0m (unicode error) 'unicodeescape' codec can't decode bytes in position 2-3: truncated \\UXXXXXXXX escape\n"
     ]
    }
   ],
   "source": [
    "df = pd.read_excel('C:\\Users\\Ванечка\\Desktop\\MyReps\\PythonData\\ABTesting\\008\\AB_Test_Results.xlsx', encoding='utf-8')"
   ]
  },
  {
   "cell_type": "code",
   "execution_count": null,
   "id": "abcd05ba",
   "metadata": {},
   "outputs": [],
   "source": [
    "df.head(10)"
   ]
  },
  {
   "cell_type": "code",
   "execution_count": null,
   "id": "3a89fb20",
   "metadata": {},
   "outputs": [],
   "source": [
    "df.info()"
   ]
  },
  {
   "cell_type": "code",
   "execution_count": null,
   "id": "9bfd34a5",
   "metadata": {},
   "outputs": [],
   "source": [
    "df.describe()"
   ]
  },
  {
   "cell_type": "code",
   "execution_count": null,
   "id": "e1fcf2a5",
   "metadata": {},
   "outputs": [],
   "source": [
    "df.isna().sum()"
   ]
  },
  {
   "cell_type": "code",
   "execution_count": null,
   "id": "d713d21c",
   "metadata": {},
   "outputs": [],
   "source": [
    "df.VARIANT_NAME.value_counts()"
   ]
  },
  {
   "cell_type": "markdown",
   "id": "109e151b",
   "metadata": {},
   "source": [
    "Избавимся от некорретных строк. Посчитаем, сколько типов встречается у каждого пользователя."
   ]
  },
  {
   "cell_type": "code",
   "execution_count": null,
   "id": "ece608fa",
   "metadata": {},
   "outputs": [],
   "source": [
    "v = df.\\\n",
    "    groupby('USER_ID', as_index=False).\\\n",
    "    agg({'VARIANT_NAME': pd.Series.nunique})"
   ]
  },
  {
   "cell_type": "code",
   "execution_count": null,
   "id": "3dc062cc",
   "metadata": {},
   "outputs": [],
   "source": [
    "v.head(10)"
   ]
  },
  {
   "cell_type": "code",
   "execution_count": null,
   "id": "f66422ec",
   "metadata": {},
   "outputs": [],
   "source": [
    "new_df = df.drop_duplicates(subset='USER_ID')\n",
    "new_df"
   ]
  },
  {
   "cell_type": "code",
   "execution_count": null,
   "id": "ced71cf7",
   "metadata": {},
   "outputs": [],
   "source": [
    "alpha = 0.05\n",
    "\n",
    "st = shapiro(new_df.REVENUE)\n",
    "print('Distribution is {}normal\\n'.format( {True:'not ',\n",
    "False:''}[st[1] < alpha]))"
   ]
  },
  {
   "cell_type": "code",
   "execution_count": null,
   "id": "b177afdc",
   "metadata": {},
   "outputs": [],
   "source": [
    "control = new_df.query('VARIANT_NAME == \"control\"')\n",
    "\n",
    "test = new_df.query('VARIANT_NAME == \"variant\"')"
   ]
  },
  {
   "cell_type": "code",
   "execution_count": null,
   "id": "a6028488",
   "metadata": {},
   "outputs": [],
   "source": [
    "control.REVENUE.hist(bins = 25, alpha =0.7, label='Control')\n",
    "test.REVENUE.hist(bins = 25, alpha =0.7, label='Test')\n",
    "plt.title('Доход на юзера по группам')\n",
    "plt.xlabel('Доход')\n",
    "plt.ylabel('Число пользователей')\n",
    "plt.legend();"
   ]
  },
  {
   "cell_type": "code",
   "execution_count": null,
   "id": "98db810d",
   "metadata": {},
   "outputs": [],
   "source": [
    "plt.boxplot([control.REVENUE,test.REVENUE],\n",
    "            labels=['Контроль','Тест'],\n",
    "            widths=0.5\n",
    "           )\n",
    "plt.title('Boxplot по пользователям',  loc='center')\n",
    "plt.grid(axis  ='both')"
   ]
  },
  {
   "cell_type": "code",
   "execution_count": null,
   "id": "74f8729a",
   "metadata": {},
   "outputs": [],
   "source": [
    "n_control = new_df[new_df['VARIANT_NAME']=='control'].shape[0]\n",
    "n_control"
   ]
  },
  {
   "cell_type": "code",
   "execution_count": null,
   "id": "b2983903",
   "metadata": {},
   "outputs": [],
   "source": [
    "n_test = new_df[new_df['VARIANT_NAME']=='variant'].shape[0]\n",
    "n_test"
   ]
  },
  {
   "cell_type": "code",
   "execution_count": null,
   "id": "ac6e1a02",
   "metadata": {},
   "outputs": [],
   "source": [
    "stats.ttest_ind(control.REVENUE.values, test.REVENUE.values, equal_var = False)"
   ]
  },
  {
   "cell_type": "code",
   "execution_count": null,
   "id": "425781a6",
   "metadata": {},
   "outputs": [],
   "source": [
    "C_mean = control.REVENUE.values.mean()\n",
    "\n",
    "T_mean = test.REVENUE.values.mean()\n",
    "\n",
    "\n",
    "C_std = control.REVENUE.values.std()\n",
    "\n",
    "T_std = test.REVENUE.values.std()"
   ]
  },
  {
   "cell_type": "code",
   "execution_count": null,
   "id": "9d38ac06",
   "metadata": {},
   "outputs": [],
   "source": [
    "S = np.sqrt((T_std**2 + C_std **2)/ 2)"
   ]
  },
  {
   "cell_type": "code",
   "execution_count": null,
   "id": "2a0cdc10",
   "metadata": {},
   "outputs": [],
   "source": [
    "effect_size =float((T_mean-C_mean)/ S)"
   ]
  },
  {
   "cell_type": "markdown",
   "id": "50f0f896",
   "metadata": {},
   "source": [
    "Определим мощность теста"
   ]
  },
  {
   "cell_type": "code",
   "execution_count": null,
   "id": "1ab95f5d",
   "metadata": {},
   "outputs": [],
   "source": [
    "analysis = TTestIndPower()\n",
    "result = analysis.solve_power(effect_size=effect_size, power=None, nobs1=n_test, ratio=1.0, alpha=alpha)\n",
    "\n",
    "result"
   ]
  },
  {
   "attachments": {},
   "cell_type": "markdown",
   "id": "63d04494",
   "metadata": {},
   "source": [
    "# ВЫВОД: \n",
    "pvalue > alpha. \n",
    "\n",
    "Изменений в двух группах не наблюдается. \n",
    "\n",
    "Также мощность теста варьируется в пределах 13%, что является низким значением. \n",
    "\n",
    "# РЕКОМЕНДАЦИИ:\n",
    "\n",
    "1. Тест следует откатить назад.\n",
    "2. Нужно собрать больше данных,\n",
    "3. Увеличить длительность теста, а затем можно запустить заново."
   ]
  }
 ],
 "metadata": {
  "kernelspec": {
   "display_name": "Python 3 (ipykernel)",
   "language": "python",
   "name": "python3"
  },
  "language_info": {
   "codemirror_mode": {
    "name": "ipython",
    "version": 3
   },
   "file_extension": ".py",
   "mimetype": "text/x-python",
   "name": "python",
   "nbconvert_exporter": "python",
   "pygments_lexer": "ipython3",
   "version": "3.10.8"
  }
 },
 "nbformat": 4,
 "nbformat_minor": 5
}
