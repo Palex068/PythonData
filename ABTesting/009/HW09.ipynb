{
 "cells": [
  {
   "cell_type": "markdown",
   "id": "649ad96a",
   "metadata": {},
   "source": [
    "# ЗАДАНИЕ"
   ]
  },
  {
   "cell_type": "markdown",
   "id": "e73a3796",
   "metadata": {},
   "source": [
    "Проанализируйте результаты эксперимента и напишите свои рекомендации менеджеру.\n",
    "\n",
    "Mobile Games AB Testing with Cookie Cats"
   ]
  },
  {
   "cell_type": "markdown",
   "id": "19204a2a",
   "metadata": {},
   "source": [
    "# РЕШЕНИЕ"
   ]
  },
  {
   "cell_type": "code",
   "execution_count": 1,
   "id": "4e2316a9",
   "metadata": {},
   "outputs": [],
   "source": [
    "from scipy.stats import ttest_1samp\n",
    "import numpy as np\n",
    "import pandas as pd\n",
    "\n",
    "\n",
    "from scipy.stats import norm, t, kstest, shapiro\n",
    "import statsmodels.api as sm\n",
    "from matplotlib import pyplot as plt\n",
    "\n",
    "\n",
    "import warnings\n",
    "warnings.filterwarnings('ignore')\n",
    "warnings.warn('DelftStack')\n",
    "warnings.warn('Do not show this message')"
   ]
  },
  {
   "cell_type": "code",
   "execution_count": 3,
   "id": "c2f22fcd",
   "metadata": {},
   "outputs": [
    {
     "data": {
      "text/html": [
       "<div>\n",
       "<style scoped>\n",
       "    .dataframe tbody tr th:only-of-type {\n",
       "        vertical-align: middle;\n",
       "    }\n",
       "\n",
       "    .dataframe tbody tr th {\n",
       "        vertical-align: top;\n",
       "    }\n",
       "\n",
       "    .dataframe thead th {\n",
       "        text-align: right;\n",
       "    }\n",
       "</style>\n",
       "<table border=\"1\" class=\"dataframe\">\n",
       "  <thead>\n",
       "    <tr style=\"text-align: right;\">\n",
       "      <th></th>\n",
       "      <th>userid</th>\n",
       "      <th>version</th>\n",
       "      <th>sum_gamerounds</th>\n",
       "      <th>retention_1</th>\n",
       "      <th>retention_7</th>\n",
       "    </tr>\n",
       "  </thead>\n",
       "  <tbody>\n",
       "    <tr>\n",
       "      <th>0</th>\n",
       "      <td>116</td>\n",
       "      <td>gate_30</td>\n",
       "      <td>3</td>\n",
       "      <td>False</td>\n",
       "      <td>False</td>\n",
       "    </tr>\n",
       "    <tr>\n",
       "      <th>1</th>\n",
       "      <td>337</td>\n",
       "      <td>gate_30</td>\n",
       "      <td>38</td>\n",
       "      <td>True</td>\n",
       "      <td>False</td>\n",
       "    </tr>\n",
       "    <tr>\n",
       "      <th>2</th>\n",
       "      <td>377</td>\n",
       "      <td>gate_40</td>\n",
       "      <td>165</td>\n",
       "      <td>True</td>\n",
       "      <td>False</td>\n",
       "    </tr>\n",
       "    <tr>\n",
       "      <th>3</th>\n",
       "      <td>483</td>\n",
       "      <td>gate_40</td>\n",
       "      <td>1</td>\n",
       "      <td>False</td>\n",
       "      <td>False</td>\n",
       "    </tr>\n",
       "    <tr>\n",
       "      <th>4</th>\n",
       "      <td>488</td>\n",
       "      <td>gate_40</td>\n",
       "      <td>179</td>\n",
       "      <td>True</td>\n",
       "      <td>True</td>\n",
       "    </tr>\n",
       "    <tr>\n",
       "      <th>5</th>\n",
       "      <td>540</td>\n",
       "      <td>gate_40</td>\n",
       "      <td>187</td>\n",
       "      <td>True</td>\n",
       "      <td>True</td>\n",
       "    </tr>\n",
       "    <tr>\n",
       "      <th>6</th>\n",
       "      <td>1066</td>\n",
       "      <td>gate_30</td>\n",
       "      <td>0</td>\n",
       "      <td>False</td>\n",
       "      <td>False</td>\n",
       "    </tr>\n",
       "    <tr>\n",
       "      <th>7</th>\n",
       "      <td>1444</td>\n",
       "      <td>gate_40</td>\n",
       "      <td>2</td>\n",
       "      <td>False</td>\n",
       "      <td>False</td>\n",
       "    </tr>\n",
       "    <tr>\n",
       "      <th>8</th>\n",
       "      <td>1574</td>\n",
       "      <td>gate_40</td>\n",
       "      <td>108</td>\n",
       "      <td>True</td>\n",
       "      <td>True</td>\n",
       "    </tr>\n",
       "    <tr>\n",
       "      <th>9</th>\n",
       "      <td>1587</td>\n",
       "      <td>gate_40</td>\n",
       "      <td>153</td>\n",
       "      <td>True</td>\n",
       "      <td>False</td>\n",
       "    </tr>\n",
       "  </tbody>\n",
       "</table>\n",
       "</div>"
      ],
      "text/plain": [
       "   userid  version  sum_gamerounds  retention_1  retention_7\n",
       "0     116  gate_30               3        False        False\n",
       "1     337  gate_30              38         True        False\n",
       "2     377  gate_40             165         True        False\n",
       "3     483  gate_40               1        False        False\n",
       "4     488  gate_40             179         True         True\n",
       "5     540  gate_40             187         True         True\n",
       "6    1066  gate_30               0        False        False\n",
       "7    1444  gate_40               2        False        False\n",
       "8    1574  gate_40             108         True         True\n",
       "9    1587  gate_40             153         True        False"
      ]
     },
     "execution_count": 3,
     "metadata": {},
     "output_type": "execute_result"
    }
   ],
   "source": [
    "df = pd.read_csv('cookie_cats.csv')\n",
    "df.head(10)"
   ]
  },
  {
   "cell_type": "code",
   "execution_count": 4,
   "id": "540bba38",
   "metadata": {},
   "outputs": [
    {
     "name": "stdout",
     "output_type": "stream",
     "text": [
      "<class 'pandas.core.frame.DataFrame'>\n",
      "RangeIndex: 90189 entries, 0 to 90188\n",
      "Data columns (total 5 columns):\n",
      " #   Column          Non-Null Count  Dtype \n",
      "---  ------          --------------  ----- \n",
      " 0   userid          90189 non-null  int64 \n",
      " 1   version         90189 non-null  object\n",
      " 2   sum_gamerounds  90189 non-null  int64 \n",
      " 3   retention_1     90189 non-null  bool  \n",
      " 4   retention_7     90189 non-null  bool  \n",
      "dtypes: bool(2), int64(2), object(1)\n",
      "memory usage: 2.2+ MB\n"
     ]
    }
   ],
   "source": [
    "df.info()"
   ]
  },
  {
   "cell_type": "code",
   "execution_count": 6,
   "id": "fd8cb9a2",
   "metadata": {},
   "outputs": [
    {
     "data": {
      "text/html": [
       "<div>\n",
       "<style scoped>\n",
       "    .dataframe tbody tr th:only-of-type {\n",
       "        vertical-align: middle;\n",
       "    }\n",
       "\n",
       "    .dataframe tbody tr th {\n",
       "        vertical-align: top;\n",
       "    }\n",
       "\n",
       "    .dataframe thead th {\n",
       "        text-align: right;\n",
       "    }\n",
       "</style>\n",
       "<table border=\"1\" class=\"dataframe\">\n",
       "  <thead>\n",
       "    <tr style=\"text-align: right;\">\n",
       "      <th></th>\n",
       "      <th>userid</th>\n",
       "      <th>sum_gamerounds</th>\n",
       "    </tr>\n",
       "  </thead>\n",
       "  <tbody>\n",
       "    <tr>\n",
       "      <th>count</th>\n",
       "      <td>9.018900e+04</td>\n",
       "      <td>90189.000000</td>\n",
       "    </tr>\n",
       "    <tr>\n",
       "      <th>mean</th>\n",
       "      <td>4.998412e+06</td>\n",
       "      <td>51.872457</td>\n",
       "    </tr>\n",
       "    <tr>\n",
       "      <th>std</th>\n",
       "      <td>2.883286e+06</td>\n",
       "      <td>195.050858</td>\n",
       "    </tr>\n",
       "    <tr>\n",
       "      <th>min</th>\n",
       "      <td>1.160000e+02</td>\n",
       "      <td>0.000000</td>\n",
       "    </tr>\n",
       "    <tr>\n",
       "      <th>25%</th>\n",
       "      <td>2.512230e+06</td>\n",
       "      <td>5.000000</td>\n",
       "    </tr>\n",
       "    <tr>\n",
       "      <th>50%</th>\n",
       "      <td>4.995815e+06</td>\n",
       "      <td>16.000000</td>\n",
       "    </tr>\n",
       "    <tr>\n",
       "      <th>75%</th>\n",
       "      <td>7.496452e+06</td>\n",
       "      <td>51.000000</td>\n",
       "    </tr>\n",
       "    <tr>\n",
       "      <th>max</th>\n",
       "      <td>9.999861e+06</td>\n",
       "      <td>49854.000000</td>\n",
       "    </tr>\n",
       "  </tbody>\n",
       "</table>\n",
       "</div>"
      ],
      "text/plain": [
       "             userid  sum_gamerounds\n",
       "count  9.018900e+04    90189.000000\n",
       "mean   4.998412e+06       51.872457\n",
       "std    2.883286e+06      195.050858\n",
       "min    1.160000e+02        0.000000\n",
       "25%    2.512230e+06        5.000000\n",
       "50%    4.995815e+06       16.000000\n",
       "75%    7.496452e+06       51.000000\n",
       "max    9.999861e+06    49854.000000"
      ]
     },
     "execution_count": 6,
     "metadata": {},
     "output_type": "execute_result"
    }
   ],
   "source": [
    "df.describe()"
   ]
  },
  {
   "cell_type": "code",
   "execution_count": 7,
   "id": "f1cfbc21",
   "metadata": {},
   "outputs": [
    {
     "data": {
      "text/plain": [
       "userid            0\n",
       "version           0\n",
       "sum_gamerounds    0\n",
       "retention_1       0\n",
       "retention_7       0\n",
       "dtype: int64"
      ]
     },
     "execution_count": 7,
     "metadata": {},
     "output_type": "execute_result"
    }
   ],
   "source": [
    "df.isna().sum()"
   ]
  },
  {
   "cell_type": "code",
   "execution_count": 8,
   "id": "24d352df",
   "metadata": {},
   "outputs": [
    {
     "data": {
      "text/plain": [
       "version\n",
       "gate_40    45489\n",
       "gate_30    44700\n",
       "Name: count, dtype: int64"
      ]
     },
     "execution_count": 8,
     "metadata": {},
     "output_type": "execute_result"
    }
   ],
   "source": [
    "df.version.value_counts()"
   ]
  },
  {
   "cell_type": "markdown",
   "id": "7a6dd4ab",
   "metadata": {},
   "source": [
    "Проверим есть ли юзера, встречающиеся одновременно в 2-х версиях"
   ]
  },
  {
   "cell_type": "code",
   "execution_count": 9,
   "id": "408ea6d9",
   "metadata": {},
   "outputs": [
    {
     "data": {
      "text/html": [
       "<div>\n",
       "<style scoped>\n",
       "    .dataframe tbody tr th:only-of-type {\n",
       "        vertical-align: middle;\n",
       "    }\n",
       "\n",
       "    .dataframe tbody tr th {\n",
       "        vertical-align: top;\n",
       "    }\n",
       "\n",
       "    .dataframe thead th {\n",
       "        text-align: right;\n",
       "    }\n",
       "</style>\n",
       "<table border=\"1\" class=\"dataframe\">\n",
       "  <thead>\n",
       "    <tr style=\"text-align: right;\">\n",
       "      <th></th>\n",
       "      <th>userid</th>\n",
       "      <th>version</th>\n",
       "    </tr>\n",
       "  </thead>\n",
       "  <tbody>\n",
       "    <tr>\n",
       "      <th>0</th>\n",
       "      <td>116</td>\n",
       "      <td>1</td>\n",
       "    </tr>\n",
       "    <tr>\n",
       "      <th>1</th>\n",
       "      <td>337</td>\n",
       "      <td>1</td>\n",
       "    </tr>\n",
       "    <tr>\n",
       "      <th>2</th>\n",
       "      <td>377</td>\n",
       "      <td>1</td>\n",
       "    </tr>\n",
       "    <tr>\n",
       "      <th>3</th>\n",
       "      <td>483</td>\n",
       "      <td>1</td>\n",
       "    </tr>\n",
       "    <tr>\n",
       "      <th>4</th>\n",
       "      <td>488</td>\n",
       "      <td>1</td>\n",
       "    </tr>\n",
       "    <tr>\n",
       "      <th>...</th>\n",
       "      <td>...</td>\n",
       "      <td>...</td>\n",
       "    </tr>\n",
       "    <tr>\n",
       "      <th>90184</th>\n",
       "      <td>9999441</td>\n",
       "      <td>1</td>\n",
       "    </tr>\n",
       "    <tr>\n",
       "      <th>90185</th>\n",
       "      <td>9999479</td>\n",
       "      <td>1</td>\n",
       "    </tr>\n",
       "    <tr>\n",
       "      <th>90186</th>\n",
       "      <td>9999710</td>\n",
       "      <td>1</td>\n",
       "    </tr>\n",
       "    <tr>\n",
       "      <th>90187</th>\n",
       "      <td>9999768</td>\n",
       "      <td>1</td>\n",
       "    </tr>\n",
       "    <tr>\n",
       "      <th>90188</th>\n",
       "      <td>9999861</td>\n",
       "      <td>1</td>\n",
       "    </tr>\n",
       "  </tbody>\n",
       "</table>\n",
       "<p>90189 rows × 2 columns</p>\n",
       "</div>"
      ],
      "text/plain": [
       "        userid  version\n",
       "0          116        1\n",
       "1          337        1\n",
       "2          377        1\n",
       "3          483        1\n",
       "4          488        1\n",
       "...        ...      ...\n",
       "90184  9999441        1\n",
       "90185  9999479        1\n",
       "90186  9999710        1\n",
       "90187  9999768        1\n",
       "90188  9999861        1\n",
       "\n",
       "[90189 rows x 2 columns]"
      ]
     },
     "execution_count": 9,
     "metadata": {},
     "output_type": "execute_result"
    }
   ],
   "source": [
    "v = df.\\\n",
    "    groupby('userid', as_index=False).\\\n",
    "    agg({'version': pd.Series.nunique})\n",
    "v"
   ]
  },
  {
   "cell_type": "markdown",
   "id": "944c0411",
   "metadata": {},
   "source": [
    "Как показала таблица, каждый юзер сщщтнесён строго к определённой группе(версии), что даёт возможность дальше продолжать анализ"
   ]
  },
  {
   "cell_type": "code",
   "execution_count": 10,
   "id": "964c4905",
   "metadata": {},
   "outputs": [
    {
     "name": "stdout",
     "output_type": "stream",
     "text": [
      "Distribution is not normal\n",
      "\n"
     ]
    }
   ],
   "source": [
    "alpha = 0.05\n",
    "\n",
    "st = shapiro(df.sum_gamerounds)\n",
    "print('Distribution is {}normal\\n'.format( {True:'not ',\n",
    "False:''}[st[1] < alpha]))"
   ]
  },
  {
   "cell_type": "markdown",
   "id": "481f8e1c",
   "metadata": {},
   "source": [
    "Тесть Шапиро показал, что распределение ненормальное"
   ]
  },
  {
   "cell_type": "markdown",
   "id": "c83e1056",
   "metadata": {},
   "source": [
    "Так как у нас огромная выборка, то целесообразно использовать тест Колмогорова-Смирнова"
   ]
  },
  {
   "cell_type": "code",
   "execution_count": 11,
   "id": "03a37972",
   "metadata": {},
   "outputs": [
    {
     "name": "stdout",
     "output_type": "stream",
     "text": [
      "KstestResult(statistic=0.8715607041848303, pvalue=0.0, statistic_location=2, statistic_sign=-1)\n"
     ]
    }
   ],
   "source": [
    "print(kstest(df.sum_gamerounds, 'norm'))"
   ]
  },
  {
   "cell_type": "markdown",
   "id": "1324c84d",
   "metadata": {},
   "source": [
    "В данном случае, p-значение равно 0.0, что указывает на то, что нулевая гипотеза может быть отвергнута."
   ]
  },
  {
   "cell_type": "markdown",
   "id": "68f908b3",
   "metadata": {},
   "source": [
    "statistic_sign=-1, что означает, что вторая эмпирическая выборка имеет большее удаление от гипотетического распределения, чем первая выборка."
   ]
  },
  {
   "cell_type": "markdown",
   "id": "8f5e81d5",
   "metadata": {},
   "source": [
    "Визуально построим графики для имеющихся данных"
   ]
  },
  {
   "cell_type": "code",
   "execution_count": 12,
   "id": "508a5e94",
   "metadata": {},
   "outputs": [],
   "source": [
    "control = df.query('version == \"gate_30\"')\n",
    "\n",
    "test = df.query('version == \"gate_40\"')"
   ]
  },
  {
   "cell_type": "code",
   "execution_count": 27,
   "id": "6e18315d",
   "metadata": {},
   "outputs": [
    {
     "data": {
      "image/png": "[encoded data removed]",
      "text/plain": [
       "<Figure size 640x480 with 1 Axes>"
      ]
     },
     "metadata": {},
     "output_type": "display_data"
    }
   ],
   "source": [
    "control.sum_gamerounds.hist(bins = 25, alpha =0.7, label='Control')\n",
    "test.sum_gamerounds.hist(bins = 25, alpha =0.7, label='Test')\n",
    "plt.title('Игровые очки(баллы) на юзера по группам')\n",
    "plt.xlabel('Очки(баллы)')\n",
    "plt.ylabel('Число пользователей')\n",
    "plt.legend();"
   ]
  },
  {
   "cell_type": "code",
   "execution_count": 14,
   "id": "fe19ffe7",
   "metadata": {},
   "outputs": [
    {
     "data": {
      "image/png": "[encoded data removed]",
      "text/plain": [
       "<Figure size 640x480 with 1 Axes>"
      ]
     },
     "metadata": {},
     "output_type": "display_data"
    }
   ],
   "source": [
    "plt.boxplot([control.sum_gamerounds,test.sum_gamerounds],\n",
    "            labels=['Контроль','Тест'],\n",
    "            widths=0.5\n",
    "           )\n",
    "plt.title('Boxplot по пользователям',  loc='center')\n",
    "plt.grid(axis  ='both')"
   ]
  },
  {
   "cell_type": "code",
   "execution_count": 22,
   "id": "5e18ddbf",
   "metadata": {},
   "outputs": [
    {
     "data": {
      "text/plain": [
       "<pandas.core.groupby.generic.DataFrameGroupBy object at 0x000001E7C6D68C10>"
      ]
     },
     "execution_count": 22,
     "metadata": {},
     "output_type": "execute_result"
    }
   ],
   "source": [
    "#group = df[['version', 'sum_gamerounds']].groupby(['version'], as_index=False)\n",
    "#group"
   ]
  },
  {
   "cell_type": "code",
   "execution_count": 25,
   "id": "d0b6d068",
   "metadata": {},
   "outputs": [
    {
     "data": {
      "text/html": [
       "<div>\n",
       "<style scoped>\n",
       "    .dataframe tbody tr th:only-of-type {\n",
       "        vertical-align: middle;\n",
       "    }\n",
       "\n",
       "    .dataframe tbody tr th {\n",
       "        vertical-align: top;\n",
       "    }\n",
       "\n",
       "    .dataframe thead th {\n",
       "        text-align: right;\n",
       "    }\n",
       "</style>\n",
       "<table border=\"1\" class=\"dataframe\">\n",
       "  <thead>\n",
       "    <tr style=\"text-align: right;\">\n",
       "      <th></th>\n",
       "      <th>version</th>\n",
       "      <th>sum_gamerounds</th>\n",
       "    </tr>\n",
       "  </thead>\n",
       "  <tbody>\n",
       "    <tr>\n",
       "      <th>0</th>\n",
       "      <td>gate_30</td>\n",
       "      <td>2344795</td>\n",
       "    </tr>\n",
       "    <tr>\n",
       "      <th>1</th>\n",
       "      <td>gate_40</td>\n",
       "      <td>2333530</td>\n",
       "    </tr>\n",
       "  </tbody>\n",
       "</table>\n",
       "</div>"
      ],
      "text/plain": [
       "   version  sum_gamerounds\n",
       "0  gate_30         2344795\n",
       "1  gate_40         2333530"
      ]
     },
     "execution_count": 25,
     "metadata": {},
     "output_type": "execute_result"
    }
   ],
   "source": [
    "grouped_data_sum = group['sum_gamerounds'].sum()\n",
    "grouped_data_sum"
   ]
  },
  {
   "cell_type": "code",
   "execution_count": 26,
   "id": "a7108533",
   "metadata": {},
   "outputs": [
    {
     "data": {
      "image/png": "[encoded data removed]",
      "text/plain": [
       "<Figure size 640x480 with 1 Axes>"
      ]
     },
     "metadata": {},
     "output_type": "display_data"
    }
   ],
   "source": [
    "data = df['version'].value_counts()\n",
    "plt.pie(data.values, labels=data.index, autopct='%1.2f%%')\n",
    "plt.legend(data.index);"
   ]
  },
  {
   "cell_type": "markdown",
   "id": "2bd6a5c8",
   "metadata": {},
   "source": [
    "Видно, что между двумя версиями практически нет  большой разницы."
   ]
  },
  {
   "cell_type": "code",
   "execution_count": 29,
   "id": "2a6f7ac9",
   "metadata": {},
   "outputs": [],
   "source": [
    "import seaborn as sns"
   ]
  },
  {
   "cell_type": "code",
   "execution_count": 32,
   "id": "43ab1e53",
   "metadata": {},
   "outputs": [
    {
     "data": {
      "image/png": "[encoded data removed]",
      "text/plain": [
       "<Figure size 640x480 with 1 Axes>"
      ]
     },
     "metadata": {},
     "output_type": "display_data"
    }
   ],
   "source": [
    "sns.boxplot(x=df['sum_gamerounds'], y=df['version'], showfliers=False);"
   ]
  },
  {
   "cell_type": "markdown",
   "id": "8e53e71b",
   "metadata": {},
   "source": [
    "Видим, что есть небольшая разница. Вторая версия немного превалирует"
   ]
  },
  {
   "cell_type": "markdown",
   "id": "73f22dfc",
   "metadata": {},
   "source": [
    "Расчитаем Т-статистику"
   ]
  },
  {
   "cell_type": "code",
   "execution_count": 34,
   "id": "d684f85e",
   "metadata": {},
   "outputs": [],
   "source": [
    "import scipy.stats as stats"
   ]
  },
  {
   "cell_type": "code",
   "execution_count": 35,
   "id": "9089ae48",
   "metadata": {},
   "outputs": [
    {
     "data": {
      "text/plain": [
       "TtestResult(statistic=0.8854374331270672, pvalue=0.37592438409326223, df=58595.481422574)"
      ]
     },
     "execution_count": 35,
     "metadata": {},
     "output_type": "execute_result"
    }
   ],
   "source": [
    "stats.ttest_ind(control.sum_gamerounds.values, test.sum_gamerounds.values, equal_var = False)"
   ]
  },
  {
   "cell_type": "markdown",
   "id": "70f8630f",
   "metadata": {},
   "source": [
    "p-значение составляет 0.37592438409326223, что означает, что у нас нет достаточных доказательств, чтобы отвергнуть нулевую гипотезу (отсутствие различий между выборками)."
   ]
  },
  {
   "cell_type": "markdown",
   "id": "d56b9b66",
   "metadata": {},
   "source": [
    "Принимать во внимание данный факт об отсутствии различий скоротечно не стоит, так как тест Колмогорова-Смирнова(так как выборка больше 5000, что является более правильным подходом)и тест Шапиро Уилка показали обратное  что есть различия между двумя версиями игры"
   ]
  },
  {
   "cell_type": "markdown",
   "id": "76e9b382",
   "metadata": {},
   "source": [
    "Продолжим анализ, определим мощность теста для более детального умозаключения"
   ]
  },
  {
   "cell_type": "code",
   "execution_count": 36,
   "id": "1dd6e505",
   "metadata": {},
   "outputs": [],
   "source": [
    "C_mean = control.sum_gamerounds.values.mean()\n",
    "\n",
    "T_mean = test.sum_gamerounds.values.mean()\n",
    "\n",
    "\n",
    "C_std = control.sum_gamerounds.values.std()\n",
    "\n",
    "T_std = test.sum_gamerounds.values.std()"
   ]
  },
  {
   "cell_type": "code",
   "execution_count": 37,
   "id": "8cc2e934",
   "metadata": {},
   "outputs": [],
   "source": [
    "S = np.sqrt((T_std**2 + C_std **2)/ 2)"
   ]
  },
  {
   "cell_type": "code",
   "execution_count": 38,
   "id": "df608d38",
   "metadata": {},
   "outputs": [],
   "source": [
    "effect_size =float((T_mean-C_mean)/ S)"
   ]
  },
  {
   "cell_type": "code",
   "execution_count": 44,
   "id": "a222651c",
   "metadata": {},
   "outputs": [],
   "source": [
    "n = 44700"
   ]
  },
  {
   "cell_type": "code",
   "execution_count": 45,
   "id": "b6f129eb",
   "metadata": {},
   "outputs": [],
   "source": [
    "from statsmodels.stats.power import TTestIndPower"
   ]
  },
  {
   "cell_type": "code",
   "execution_count": 47,
   "id": "335f1f8b",
   "metadata": {},
   "outputs": [
    {
     "data": {
      "text/plain": [
       "0.14327904497194127"
      ]
     },
     "execution_count": 47,
     "metadata": {},
     "output_type": "execute_result"
    }
   ],
   "source": [
    "analysis = TTestIndPower()\n",
    "result = analysis.solve_power(effect_size=effect_size, power=None, nobs1=n, ratio=1.0, alpha=alpha)\n",
    "\n",
    "result"
   ]
  },
  {
   "cell_type": "code",
   "execution_count": null,
   "id": "16b1c451",
   "metadata": {},
   "outputs": [],
   "source": [
    "Мощность теста составляет 14%"
   ]
  },
  {
   "cell_type": "markdown",
   "id": "74a86444",
   "metadata": {},
   "source": [
    "Мощность теста указывает на вероятность правильно отклонить нулевую гипотезу, когда она действительно неверна. В нашем случае, мощность теста составляет 14%. Это означает, что вероятность правильно обнаружить эффект или связь между переменными довольно низкая. Если мощность теста слишком низкая, то есть высокая вероятность принять нулевую гипотезу, даже если она неверна. В таком случае, результаты теста могут быть менее надежными и требуют дальнейшего исследования или анализа."
   ]
  },
  {
   "cell_type": "markdown",
   "id": "46ddfe72",
   "metadata": {},
   "source": [
    "На основе проведённого анализа сделаем общий вывод:"
   ]
  },
  {
   "cell_type": "markdown",
   "id": "caa2d3c9",
   "metadata": {},
   "source": [
    "1. Отвергнуть нулевую гипотезу: Учитывая низкое p-значение, мы можем с уверенностью сказать, что ввод новых изменений в игру Cookie Cats (версия gate_40) привел к значимо другому распределению количества пройденных игровых раундов по сравнению с контрольной группой (версия gate_30). Поэтому мы можем отвергнуть нулевую гипотезу о том, что различий между двумя версиями игры нет."
   ]
  },
  {
   "cell_type": "markdown",
   "id": "817d4b74",
   "metadata": {},
   "source": [
    "2. Проанализировать результаты более подробно: Взглянув на статистику Колмогорова-Смирнова и ее положение во втором распределении, можно сделать вывод, что версия gate_40 имеет большее удаление от гипотетического распределения. Дальнейший анализ и исследование этого расхождения могут помочь понять, какие конкретные изменения внедрены в версию gate_40, и как они могут повлиять на пользовательское поведение и удовлетворенность игроков.\n",
    "\n"
   ]
  },
  {
   "cell_type": "markdown",
   "id": "a62f943b",
   "metadata": {},
   "source": [
    "3. Продолжить мониторинг результатов: В результате AB-тестирования мы получили статистически значимые результаты, но это не означает, что результаты являются окончательными или долгосрочными. Рекомендуется продолжить мониторинг результатов и дальнейшие тестирования, чтобы убедиться в стабильности и долгосрочной эффективности новой версии игры."
   ]
  },
  {
   "cell_type": "markdown",
   "id": "30b35876",
   "metadata": {},
   "source": [
    "4. Обсудить идеи для дальнейшего улучшения: На основе результатов AB-теста, можно провести обсуждение с командой разработки и менеджментом о дальнейших идеях и улучшениях, которые могут быть внедрены в версию gate_40 для оптимизации пользовательского опыта и достижения более высоких показателей в игре. Эти идеи могут быть основаны на анализе данных и обратной связи от активных пользователей игры."
   ]
  }
 ],
 "metadata": {
  "kernelspec": {
   "display_name": "Python 3 (ipykernel)",
   "language": "python",
   "name": "python3"
  },
  "language_info": {
   "codemirror_mode": {
    "name": "ipython",
    "version": 3
   },
   "file_extension": ".py",
   "mimetype": "text/x-python",
   "name": "python",
   "nbconvert_exporter": "python",
   "pygments_lexer": "ipython3",
   "version": "3.11.4"
  }
 },
 "nbformat": 4,
 "nbformat_minor": 5
}
