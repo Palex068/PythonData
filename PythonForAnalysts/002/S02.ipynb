{
 "cells": [
  {
   "cell_type": "code",
   "execution_count": 1,
   "id": "21390245",
   "metadata": {},
   "outputs": [
    {
     "name": "stdout",
     "output_type": "stream",
     "text": [
      "Requirement already satisfied: numpy in /Library/Frameworks/Python.framework/Versions/3.10/lib/python3.10/site-packages (1.25.0)\n"
     ]
    }
   ],
   "source": [
    "!pip install numpy"
   ]
  },
  {
   "cell_type": "code",
   "execution_count": 2,
   "id": "1df2e67a",
   "metadata": {},
   "outputs": [],
   "source": [
    "import pandas as pd"
   ]
  },
  {
   "cell_type": "code",
   "execution_count": 3,
   "id": "a19e0563",
   "metadata": {},
   "outputs": [
    {
     "data": {
      "text/plain": [
       "'2.0.2'"
      ]
     },
     "execution_count": 3,
     "metadata": {},
     "output_type": "execute_result"
    }
   ],
   "source": [
    "pd.__version__"
   ]
  },
  {
   "attachments": {},
   "cell_type": "markdown",
   "id": "b580e46d",
   "metadata": {},
   "source": [
    "Шпаргалка по csv"
   ]
  },
  {
   "cell_type": "code",
   "execution_count": null,
   "id": "05dede17",
   "metadata": {},
   "outputs": [],
   "source": [
    "#csv #- comma-separated values - данные разделенные запятой\n",
    "# df = pd.read_csv('file.csv', # функция считывания внешнего файла формата csv (можно выбрать необходимый формат)\n",
    "#                  encoding='windows-1251',\n",
    "#                  headler=0,  # - какую строку считать заголовком(по умолчанию нулевую)\n",
    "#                  sep = ';',\n",
    "#                  index_col='название_столбца',\n",
    "#                  parse_dates=['Date'],\n",
    "#                  dayfirst=True)\n",
    "# 'file.csv' - путь к файлу,\n",
    "# sep - разделитель sep(по умолчаниию ',')\n",
    "# encoding – параметр в read_csv, отвечает за кодировку текста, которая может быть различной. Самая распространённая – utf\n",
    "# index_col='название_столбца' - название столбца, который будет выступать как столбец индексов\n",
    "# index_col=[0] - индекс столбца, который будет выступать как столбец индексов\n",
    "# parse_dates – указывает, стоит ли воспринимать даты как даты (по умолчанию они воспринимаются пандасом как строки).\n",
    "    # пример pd.read_csv(path, parse_dates=['some_date', 'another_date'])\n",
    "    # Параметр с датами может принимать несколько значений:\n",
    "    # True – пытается перевести в дату первую колонку\n",
    "    # список колонок – parse_dates=['some_date', 'another_date']\n",
    "    # пытается перевести в дату указанные в списке колонки и столбцы create_data, payment_data\n",
    "    # будут обрабатываться как даты\n",
    "# dayfirst=True  - первое значение в дате это день или нет - True/False\n",
    "# df['Date'].dt.name - номер дня недели в соответствии с данными в колонке с датами\n",
    "# df['Date'].dt.name() - название дня недели в соответствии с данными в колонке с датами\n",
    "# df['Date'].dt.month - номер месяца в соответствии с данными в колонке с датами"
   ]
  },
  {
   "attachments": {},
   "cell_type": "markdown",
   "id": "14b10db9",
   "metadata": {},
   "source": [
    "## Задание 1\n",
    "1. Скачать данные по ссылке\n",
    "\n",
    "2. Считать данные с помощью pandas\n",
    "3. Вывести на экран первые 5 строк\n",
    "4. Посмотреть на описание признаков и на их содержание\n"
   ]
  },
  {
   "attachments": {},
   "cell_type": "markdown",
   "id": "5b898b24",
   "metadata": {},
   "source": [
    "### Решение\n",
    "\n",
    "2. Считать данные с помощью pandas"
   ]
  },
  {
   "cell_type": "code",
   "execution_count": 7,
   "id": "d8806c5e",
   "metadata": {},
   "outputs": [],
   "source": [
    "df = pd.read_csv(\"laptop_price.csv\", encoding=\"latin-1\")"
   ]
  },
  {
   "cell_type": "code",
   "execution_count": 8,
   "id": "96715c27",
   "metadata": {},
   "outputs": [],
   "source": [
    "df = pd.read_csv(\"laptop_price.csv\", encoding='ISO-8859-1')"
   ]
  },
  {
   "cell_type": "code",
   "execution_count": 9,
   "id": "1a5f5316",
   "metadata": {},
   "outputs": [],
   "source": [
    "df = pd.read_csv(\"laptop_price.csv\", encoding='1251', index_col='laptop_ID')"
   ]
  },
  {
   "attachments": {},
   "cell_type": "markdown",
   "id": "171c3d8e",
   "metadata": {},
   "source": [
    "3. Вывести на экран первые 5 строк"
   ]
  },
  {
   "cell_type": "code",
   "execution_count": 10,
   "id": "3020a253",
   "metadata": {},
   "outputs": [
    {
     "data": {
      "text/html": [
       "<div>\n",
       "<style scoped>\n",
       "    .dataframe tbody tr th:only-of-type {\n",
       "        vertical-align: middle;\n",
       "    }\n",
       "\n",
       "    .dataframe tbody tr th {\n",
       "        vertical-align: top;\n",
       "    }\n",
       "\n",
       "    .dataframe thead th {\n",
       "        text-align: right;\n",
       "    }\n",
       "</style>\n",
       "<table border=\"1\" class=\"dataframe\">\n",
       "  <thead>\n",
       "    <tr style=\"text-align: right;\">\n",
       "      <th></th>\n",
       "      <th>Company</th>\n",
       "      <th>Product</th>\n",
       "      <th>TypeName</th>\n",
       "      <th>Inches</th>\n",
       "      <th>ScreenResolution</th>\n",
       "      <th>Cpu</th>\n",
       "      <th>Ram</th>\n",
       "      <th>Memory</th>\n",
       "      <th>Gpu</th>\n",
       "      <th>OpSys</th>\n",
       "      <th>Weight</th>\n",
       "      <th>Price_euros</th>\n",
       "    </tr>\n",
       "    <tr>\n",
       "      <th>laptop_ID</th>\n",
       "      <th></th>\n",
       "      <th></th>\n",
       "      <th></th>\n",
       "      <th></th>\n",
       "      <th></th>\n",
       "      <th></th>\n",
       "      <th></th>\n",
       "      <th></th>\n",
       "      <th></th>\n",
       "      <th></th>\n",
       "      <th></th>\n",
       "      <th></th>\n",
       "    </tr>\n",
       "  </thead>\n",
       "  <tbody>\n",
       "    <tr>\n",
       "      <th>1</th>\n",
       "      <td>Apple</td>\n",
       "      <td>MacBook Pro</td>\n",
       "      <td>Ultrabook</td>\n",
       "      <td>13.3</td>\n",
       "      <td>IPS Panel Retina Display 2560x1600</td>\n",
       "      <td>Intel Core i5 2.3GHz</td>\n",
       "      <td>8GB</td>\n",
       "      <td>128GB SSD</td>\n",
       "      <td>Intel Iris Plus Graphics 640</td>\n",
       "      <td>macOS</td>\n",
       "      <td>1.37kg</td>\n",
       "      <td>1339.69</td>\n",
       "    </tr>\n",
       "    <tr>\n",
       "      <th>2</th>\n",
       "      <td>Apple</td>\n",
       "      <td>Macbook Air</td>\n",
       "      <td>Ultrabook</td>\n",
       "      <td>13.3</td>\n",
       "      <td>1440x900</td>\n",
       "      <td>Intel Core i5 1.8GHz</td>\n",
       "      <td>8GB</td>\n",
       "      <td>128GB Flash Storage</td>\n",
       "      <td>Intel HD Graphics 6000</td>\n",
       "      <td>macOS</td>\n",
       "      <td>1.34kg</td>\n",
       "      <td>898.94</td>\n",
       "    </tr>\n",
       "    <tr>\n",
       "      <th>3</th>\n",
       "      <td>HP</td>\n",
       "      <td>250 G6</td>\n",
       "      <td>Notebook</td>\n",
       "      <td>15.6</td>\n",
       "      <td>Full HD 1920x1080</td>\n",
       "      <td>Intel Core i5 7200U 2.5GHz</td>\n",
       "      <td>8GB</td>\n",
       "      <td>256GB SSD</td>\n",
       "      <td>Intel HD Graphics 620</td>\n",
       "      <td>No OS</td>\n",
       "      <td>1.86kg</td>\n",
       "      <td>575.00</td>\n",
       "    </tr>\n",
       "    <tr>\n",
       "      <th>4</th>\n",
       "      <td>Apple</td>\n",
       "      <td>MacBook Pro</td>\n",
       "      <td>Ultrabook</td>\n",
       "      <td>15.4</td>\n",
       "      <td>IPS Panel Retina Display 2880x1800</td>\n",
       "      <td>Intel Core i7 2.7GHz</td>\n",
       "      <td>16GB</td>\n",
       "      <td>512GB SSD</td>\n",
       "      <td>AMD Radeon Pro 455</td>\n",
       "      <td>macOS</td>\n",
       "      <td>1.83kg</td>\n",
       "      <td>2537.45</td>\n",
       "    </tr>\n",
       "    <tr>\n",
       "      <th>5</th>\n",
       "      <td>Apple</td>\n",
       "      <td>MacBook Pro</td>\n",
       "      <td>Ultrabook</td>\n",
       "      <td>13.3</td>\n",
       "      <td>IPS Panel Retina Display 2560x1600</td>\n",
       "      <td>Intel Core i5 3.1GHz</td>\n",
       "      <td>8GB</td>\n",
       "      <td>256GB SSD</td>\n",
       "      <td>Intel Iris Plus Graphics 650</td>\n",
       "      <td>macOS</td>\n",
       "      <td>1.37kg</td>\n",
       "      <td>1803.60</td>\n",
       "    </tr>\n",
       "  </tbody>\n",
       "</table>\n",
       "</div>"
      ],
      "text/plain": [
       "          Company      Product   TypeName  Inches  \\\n",
       "laptop_ID                                           \n",
       "1           Apple  MacBook Pro  Ultrabook    13.3   \n",
       "2           Apple  Macbook Air  Ultrabook    13.3   \n",
       "3              HP       250 G6   Notebook    15.6   \n",
       "4           Apple  MacBook Pro  Ultrabook    15.4   \n",
       "5           Apple  MacBook Pro  Ultrabook    13.3   \n",
       "\n",
       "                             ScreenResolution                         Cpu  \\\n",
       "laptop_ID                                                                   \n",
       "1          IPS Panel Retina Display 2560x1600        Intel Core i5 2.3GHz   \n",
       "2                                    1440x900        Intel Core i5 1.8GHz   \n",
       "3                           Full HD 1920x1080  Intel Core i5 7200U 2.5GHz   \n",
       "4          IPS Panel Retina Display 2880x1800        Intel Core i7 2.7GHz   \n",
       "5          IPS Panel Retina Display 2560x1600        Intel Core i5 3.1GHz   \n",
       "\n",
       "            Ram               Memory                           Gpu  OpSys  \\\n",
       "laptop_ID                                                                   \n",
       "1           8GB            128GB SSD  Intel Iris Plus Graphics 640  macOS   \n",
       "2           8GB  128GB Flash Storage        Intel HD Graphics 6000  macOS   \n",
       "3           8GB            256GB SSD         Intel HD Graphics 620  No OS   \n",
       "4          16GB            512GB SSD            AMD Radeon Pro 455  macOS   \n",
       "5           8GB            256GB SSD  Intel Iris Plus Graphics 650  macOS   \n",
       "\n",
       "           Weight  Price_euros  \n",
       "laptop_ID                       \n",
       "1          1.37kg      1339.69  \n",
       "2          1.34kg       898.94  \n",
       "3          1.86kg       575.00  \n",
       "4          1.83kg      2537.45  \n",
       "5          1.37kg      1803.60  "
      ]
     },
     "execution_count": 10,
     "metadata": {},
     "output_type": "execute_result"
    }
   ],
   "source": [
    "df.head()"
   ]
  },
  {
   "attachments": {},
   "cell_type": "markdown",
   "id": "956f4d88",
   "metadata": {},
   "source": [
    "4. Посмотреть на описание признаков и на их содержание"
   ]
  },
  {
   "cell_type": "code",
   "execution_count": 11,
   "id": "68953b90",
   "metadata": {},
   "outputs": [
    {
     "name": "stdout",
     "output_type": "stream",
     "text": [
      "<class 'pandas.core.frame.DataFrame'>\n",
      "Index: 1303 entries, 1 to 1320\n",
      "Data columns (total 12 columns):\n",
      " #   Column            Non-Null Count  Dtype  \n",
      "---  ------            --------------  -----  \n",
      " 0   Company           1303 non-null   object \n",
      " 1   Product           1303 non-null   object \n",
      " 2   TypeName          1303 non-null   object \n",
      " 3   Inches            1303 non-null   float64\n",
      " 4   ScreenResolution  1303 non-null   object \n",
      " 5   Cpu               1303 non-null   object \n",
      " 6   Ram               1303 non-null   object \n",
      " 7   Memory            1303 non-null   object \n",
      " 8   Gpu               1303 non-null   object \n",
      " 9   OpSys             1303 non-null   object \n",
      " 10  Weight            1303 non-null   object \n",
      " 11  Price_euros       1303 non-null   float64\n",
      "dtypes: float64(2), object(10)\n",
      "memory usage: 132.3+ KB\n"
     ]
    }
   ],
   "source": [
    "df.info()"
   ]
  },
  {
   "attachments": {},
   "cell_type": "markdown",
   "id": "30db61f1",
   "metadata": {},
   "source": [
    "1.\tCompany - компания, которая производит ноутбуки\n",
    "2.\t Product - имя ноутбука\n",
    "3.\tTypeName - тип ноутбука\n",
    "4.\tInches - диагональ\n",
    "5.\tScreenResolution - разрешение ноутбука\n",
    "6.\tCpu - процессор\n",
    "7.\tRam - ОЗУ\n",
    "8.\tMemory - память\n",
    "9.\tGpu - видеокарта\n",
    "10.\tOpSys - операционная система\n",
    "11.\tWeight - вес ноутбука\n",
    "12.\tPrice_euros - стоимость ноутбука"
   ]
  },
  {
   "attachments": {},
   "cell_type": "markdown",
   "id": "a14f1b69",
   "metadata": {},
   "source": [
    "Кроме этого перед первичным анализом мы смотрим:"
   ]
  },
  {
   "cell_type": "code",
   "execution_count": 12,
   "id": "e661f408",
   "metadata": {},
   "outputs": [
    {
     "data": {
      "text/html": [
       "<div>\n",
       "<style scoped>\n",
       "    .dataframe tbody tr th:only-of-type {\n",
       "        vertical-align: middle;\n",
       "    }\n",
       "\n",
       "    .dataframe tbody tr th {\n",
       "        vertical-align: top;\n",
       "    }\n",
       "\n",
       "    .dataframe thead th {\n",
       "        text-align: right;\n",
       "    }\n",
       "</style>\n",
       "<table border=\"1\" class=\"dataframe\">\n",
       "  <thead>\n",
       "    <tr style=\"text-align: right;\">\n",
       "      <th></th>\n",
       "      <th>Company</th>\n",
       "      <th>Product</th>\n",
       "      <th>TypeName</th>\n",
       "      <th>Inches</th>\n",
       "      <th>ScreenResolution</th>\n",
       "      <th>Cpu</th>\n",
       "      <th>Ram</th>\n",
       "      <th>Memory</th>\n",
       "      <th>Gpu</th>\n",
       "      <th>OpSys</th>\n",
       "      <th>Weight</th>\n",
       "      <th>Price_euros</th>\n",
       "    </tr>\n",
       "    <tr>\n",
       "      <th>laptop_ID</th>\n",
       "      <th></th>\n",
       "      <th></th>\n",
       "      <th></th>\n",
       "      <th></th>\n",
       "      <th></th>\n",
       "      <th></th>\n",
       "      <th></th>\n",
       "      <th></th>\n",
       "      <th></th>\n",
       "      <th></th>\n",
       "      <th></th>\n",
       "      <th></th>\n",
       "    </tr>\n",
       "  </thead>\n",
       "  <tbody>\n",
       "    <tr>\n",
       "      <th>592</th>\n",
       "      <td>MSI</td>\n",
       "      <td>GT80S 6QE</td>\n",
       "      <td>Gaming</td>\n",
       "      <td>17.3</td>\n",
       "      <td>Full HD 1920x1080</td>\n",
       "      <td>Intel Core i7 6820HK 2.7GHz</td>\n",
       "      <td>16GB</td>\n",
       "      <td>128GB SSD +  1TB HDD</td>\n",
       "      <td>Nvidia GeForce GTX 980M</td>\n",
       "      <td>Windows 10</td>\n",
       "      <td>4.5kg</td>\n",
       "      <td>2349.0</td>\n",
       "    </tr>\n",
       "  </tbody>\n",
       "</table>\n",
       "</div>"
      ],
      "text/plain": [
       "          Company    Product TypeName  Inches   ScreenResolution  \\\n",
       "laptop_ID                                                          \n",
       "592           MSI  GT80S 6QE   Gaming    17.3  Full HD 1920x1080   \n",
       "\n",
       "                                   Cpu   Ram                Memory  \\\n",
       "laptop_ID                                                            \n",
       "592        Intel Core i7 6820HK 2.7GHz  16GB  128GB SSD +  1TB HDD   \n",
       "\n",
       "                               Gpu       OpSys Weight  Price_euros  \n",
       "laptop_ID                                                           \n",
       "592        Nvidia GeForce GTX 980M  Windows 10  4.5kg       2349.0  "
      ]
     },
     "execution_count": 12,
     "metadata": {},
     "output_type": "execute_result"
    }
   ],
   "source": [
    "df.sample()"
   ]
  },
  {
   "cell_type": "code",
   "execution_count": 13,
   "id": "ebe5c74c",
   "metadata": {},
   "outputs": [
    {
     "data": {
      "text/plain": [
       "(1303, 12)"
      ]
     },
     "execution_count": 13,
     "metadata": {},
     "output_type": "execute_result"
    }
   ],
   "source": [
    "df.shape"
   ]
  },
  {
   "cell_type": "markdown",
   "id": "65817e23",
   "metadata": {},
   "source": [
    "## Задание 2.\n",
    "Проведите первичный анализ данных\n",
    "1. Изучите типы данных\n",
    "2. Найдите количество пропущенных ячеек в данных\n",
    "3. Посчитайте основные статистики по всем признакам и поизучайте их"
   ]
  },
  {
   "attachments": {},
   "cell_type": "markdown",
   "id": "88c4bd5f",
   "metadata": {},
   "source": [
    "### Решение"
   ]
  },
  {
   "attachments": {},
   "cell_type": "markdown",
   "id": "5ae27d08",
   "metadata": {},
   "source": [
    "1. Изучите типы данных"
   ]
  },
  {
   "cell_type": "code",
   "execution_count": 14,
   "id": "9f2998fb",
   "metadata": {},
   "outputs": [
    {
     "name": "stdout",
     "output_type": "stream",
     "text": [
      "<class 'pandas.core.frame.DataFrame'>\n",
      "Index: 1303 entries, 1 to 1320\n",
      "Data columns (total 12 columns):\n",
      " #   Column            Non-Null Count  Dtype  \n",
      "---  ------            --------------  -----  \n",
      " 0   Company           1303 non-null   object \n",
      " 1   Product           1303 non-null   object \n",
      " 2   TypeName          1303 non-null   object \n",
      " 3   Inches            1303 non-null   float64\n",
      " 4   ScreenResolution  1303 non-null   object \n",
      " 5   Cpu               1303 non-null   object \n",
      " 6   Ram               1303 non-null   object \n",
      " 7   Memory            1303 non-null   object \n",
      " 8   Gpu               1303 non-null   object \n",
      " 9   OpSys             1303 non-null   object \n",
      " 10  Weight            1303 non-null   object \n",
      " 11  Price_euros       1303 non-null   float64\n",
      "dtypes: float64(2), object(10)\n",
      "memory usage: 132.3+ KB\n"
     ]
    }
   ],
   "source": [
    "df.info()"
   ]
  },
  {
   "cell_type": "code",
   "execution_count": 15,
   "id": "92201d91",
   "metadata": {},
   "outputs": [
    {
     "data": {
      "text/plain": [
       "Company              object\n",
       "Product              object\n",
       "TypeName             object\n",
       "Inches              float64\n",
       "ScreenResolution     object\n",
       "Cpu                  object\n",
       "Ram                  object\n",
       "Memory               object\n",
       "Gpu                  object\n",
       "OpSys                object\n",
       "Weight               object\n",
       "Price_euros         float64\n",
       "dtype: object"
      ]
     },
     "execution_count": 15,
     "metadata": {},
     "output_type": "execute_result"
    }
   ],
   "source": [
    "df.dtypes"
   ]
  },
  {
   "attachments": {},
   "cell_type": "markdown",
   "id": "130d8e0a",
   "metadata": {},
   "source": [
    "2. Найдите количество пропущенных ячеек в данных"
   ]
  },
  {
   "cell_type": "code",
   "execution_count": 16,
   "id": "e370a950",
   "metadata": {},
   "outputs": [
    {
     "data": {
      "text/plain": [
       "Company             0\n",
       "Product             0\n",
       "TypeName            0\n",
       "Inches              0\n",
       "ScreenResolution    0\n",
       "Cpu                 0\n",
       "Ram                 0\n",
       "Memory              0\n",
       "Gpu                 0\n",
       "OpSys               0\n",
       "Weight              0\n",
       "Price_euros         0\n",
       "dtype: int64"
      ]
     },
     "execution_count": 16,
     "metadata": {},
     "output_type": "execute_result"
    }
   ],
   "source": [
    "df.isnull().sum()"
   ]
  },
  {
   "attachments": {},
   "cell_type": "markdown",
   "id": "4514d16d",
   "metadata": {},
   "source": [
    "3. Посчитайте основные статистики по всем признакам и поизучайте их"
   ]
  },
  {
   "cell_type": "code",
   "execution_count": 17,
   "id": "b7efed08",
   "metadata": {},
   "outputs": [
    {
     "data": {
      "text/html": [
       "<div>\n",
       "<style scoped>\n",
       "    .dataframe tbody tr th:only-of-type {\n",
       "        vertical-align: middle;\n",
       "    }\n",
       "\n",
       "    .dataframe tbody tr th {\n",
       "        vertical-align: top;\n",
       "    }\n",
       "\n",
       "    .dataframe thead th {\n",
       "        text-align: right;\n",
       "    }\n",
       "</style>\n",
       "<table border=\"1\" class=\"dataframe\">\n",
       "  <thead>\n",
       "    <tr style=\"text-align: right;\">\n",
       "      <th></th>\n",
       "      <th>Inches</th>\n",
       "      <th>Price_euros</th>\n",
       "    </tr>\n",
       "  </thead>\n",
       "  <tbody>\n",
       "    <tr>\n",
       "      <th>count</th>\n",
       "      <td>1303.000000</td>\n",
       "      <td>1303.000000</td>\n",
       "    </tr>\n",
       "    <tr>\n",
       "      <th>mean</th>\n",
       "      <td>15.017191</td>\n",
       "      <td>1123.686992</td>\n",
       "    </tr>\n",
       "    <tr>\n",
       "      <th>std</th>\n",
       "      <td>1.426304</td>\n",
       "      <td>699.009043</td>\n",
       "    </tr>\n",
       "    <tr>\n",
       "      <th>min</th>\n",
       "      <td>10.100000</td>\n",
       "      <td>174.000000</td>\n",
       "    </tr>\n",
       "    <tr>\n",
       "      <th>25%</th>\n",
       "      <td>14.000000</td>\n",
       "      <td>599.000000</td>\n",
       "    </tr>\n",
       "    <tr>\n",
       "      <th>50%</th>\n",
       "      <td>15.600000</td>\n",
       "      <td>977.000000</td>\n",
       "    </tr>\n",
       "    <tr>\n",
       "      <th>75%</th>\n",
       "      <td>15.600000</td>\n",
       "      <td>1487.880000</td>\n",
       "    </tr>\n",
       "    <tr>\n",
       "      <th>max</th>\n",
       "      <td>18.400000</td>\n",
       "      <td>6099.000000</td>\n",
       "    </tr>\n",
       "  </tbody>\n",
       "</table>\n",
       "</div>"
      ],
      "text/plain": [
       "            Inches  Price_euros\n",
       "count  1303.000000  1303.000000\n",
       "mean     15.017191  1123.686992\n",
       "std       1.426304   699.009043\n",
       "min      10.100000   174.000000\n",
       "25%      14.000000   599.000000\n",
       "50%      15.600000   977.000000\n",
       "75%      15.600000  1487.880000\n",
       "max      18.400000  6099.000000"
      ]
     },
     "execution_count": 17,
     "metadata": {},
     "output_type": "execute_result"
    }
   ],
   "source": [
    "df.describe()"
   ]
  },
  {
   "cell_type": "code",
   "execution_count": 18,
   "id": "08dde929",
   "metadata": {},
   "outputs": [
    {
     "data": {
      "text/html": [
       "<div>\n",
       "<style scoped>\n",
       "    .dataframe tbody tr th:only-of-type {\n",
       "        vertical-align: middle;\n",
       "    }\n",
       "\n",
       "    .dataframe tbody tr th {\n",
       "        vertical-align: top;\n",
       "    }\n",
       "\n",
       "    .dataframe thead th {\n",
       "        text-align: right;\n",
       "    }\n",
       "</style>\n",
       "<table border=\"1\" class=\"dataframe\">\n",
       "  <thead>\n",
       "    <tr style=\"text-align: right;\">\n",
       "      <th></th>\n",
       "      <th>Inches</th>\n",
       "      <th>Price_euros</th>\n",
       "    </tr>\n",
       "  </thead>\n",
       "  <tbody>\n",
       "    <tr>\n",
       "      <th>count</th>\n",
       "      <td>1303.000000</td>\n",
       "      <td>1303.000000</td>\n",
       "    </tr>\n",
       "    <tr>\n",
       "      <th>mean</th>\n",
       "      <td>15.017191</td>\n",
       "      <td>1123.686992</td>\n",
       "    </tr>\n",
       "    <tr>\n",
       "      <th>std</th>\n",
       "      <td>1.426304</td>\n",
       "      <td>699.009043</td>\n",
       "    </tr>\n",
       "    <tr>\n",
       "      <th>min</th>\n",
       "      <td>10.100000</td>\n",
       "      <td>174.000000</td>\n",
       "    </tr>\n",
       "    <tr>\n",
       "      <th>25%</th>\n",
       "      <td>14.000000</td>\n",
       "      <td>599.000000</td>\n",
       "    </tr>\n",
       "    <tr>\n",
       "      <th>50%</th>\n",
       "      <td>15.600000</td>\n",
       "      <td>977.000000</td>\n",
       "    </tr>\n",
       "    <tr>\n",
       "      <th>75%</th>\n",
       "      <td>15.600000</td>\n",
       "      <td>1487.880000</td>\n",
       "    </tr>\n",
       "    <tr>\n",
       "      <th>max</th>\n",
       "      <td>18.400000</td>\n",
       "      <td>6099.000000</td>\n",
       "    </tr>\n",
       "  </tbody>\n",
       "</table>\n",
       "</div>"
      ],
      "text/plain": [
       "            Inches  Price_euros\n",
       "count  1303.000000  1303.000000\n",
       "mean     15.017191  1123.686992\n",
       "std       1.426304   699.009043\n",
       "min      10.100000   174.000000\n",
       "25%      14.000000   599.000000\n",
       "50%      15.600000   977.000000\n",
       "75%      15.600000  1487.880000\n",
       "max      18.400000  6099.000000"
      ]
     },
     "execution_count": 18,
     "metadata": {},
     "output_type": "execute_result"
    }
   ],
   "source": [
    "df[['Inches', 'Price_euros']].describe()"
   ]
  },
  {
   "cell_type": "code",
   "execution_count": 19,
   "id": "5b01c813",
   "metadata": {},
   "outputs": [
    {
     "data": {
      "text/html": [
       "<div>\n",
       "<style scoped>\n",
       "    .dataframe tbody tr th:only-of-type {\n",
       "        vertical-align: middle;\n",
       "    }\n",
       "\n",
       "    .dataframe tbody tr th {\n",
       "        vertical-align: top;\n",
       "    }\n",
       "\n",
       "    .dataframe thead th {\n",
       "        text-align: right;\n",
       "    }\n",
       "</style>\n",
       "<table border=\"1\" class=\"dataframe\">\n",
       "  <thead>\n",
       "    <tr style=\"text-align: right;\">\n",
       "      <th></th>\n",
       "      <th>Company</th>\n",
       "      <th>Product</th>\n",
       "      <th>TypeName</th>\n",
       "      <th>ScreenResolution</th>\n",
       "      <th>Cpu</th>\n",
       "      <th>Ram</th>\n",
       "      <th>Memory</th>\n",
       "      <th>Gpu</th>\n",
       "      <th>OpSys</th>\n",
       "      <th>Weight</th>\n",
       "    </tr>\n",
       "  </thead>\n",
       "  <tbody>\n",
       "    <tr>\n",
       "      <th>count</th>\n",
       "      <td>1303</td>\n",
       "      <td>1303</td>\n",
       "      <td>1303</td>\n",
       "      <td>1303</td>\n",
       "      <td>1303</td>\n",
       "      <td>1303</td>\n",
       "      <td>1303</td>\n",
       "      <td>1303</td>\n",
       "      <td>1303</td>\n",
       "      <td>1303</td>\n",
       "    </tr>\n",
       "    <tr>\n",
       "      <th>unique</th>\n",
       "      <td>19</td>\n",
       "      <td>618</td>\n",
       "      <td>6</td>\n",
       "      <td>40</td>\n",
       "      <td>118</td>\n",
       "      <td>9</td>\n",
       "      <td>39</td>\n",
       "      <td>110</td>\n",
       "      <td>9</td>\n",
       "      <td>179</td>\n",
       "    </tr>\n",
       "    <tr>\n",
       "      <th>top</th>\n",
       "      <td>Dell</td>\n",
       "      <td>XPS 13</td>\n",
       "      <td>Notebook</td>\n",
       "      <td>Full HD 1920x1080</td>\n",
       "      <td>Intel Core i5 7200U 2.5GHz</td>\n",
       "      <td>8GB</td>\n",
       "      <td>256GB SSD</td>\n",
       "      <td>Intel HD Graphics 620</td>\n",
       "      <td>Windows 10</td>\n",
       "      <td>2.2kg</td>\n",
       "    </tr>\n",
       "    <tr>\n",
       "      <th>freq</th>\n",
       "      <td>297</td>\n",
       "      <td>30</td>\n",
       "      <td>727</td>\n",
       "      <td>507</td>\n",
       "      <td>190</td>\n",
       "      <td>619</td>\n",
       "      <td>412</td>\n",
       "      <td>281</td>\n",
       "      <td>1072</td>\n",
       "      <td>121</td>\n",
       "    </tr>\n",
       "  </tbody>\n",
       "</table>\n",
       "</div>"
      ],
      "text/plain": [
       "       Company Product  TypeName   ScreenResolution  \\\n",
       "count     1303    1303      1303               1303   \n",
       "unique      19     618         6                 40   \n",
       "top       Dell  XPS 13  Notebook  Full HD 1920x1080   \n",
       "freq       297      30       727                507   \n",
       "\n",
       "                               Cpu   Ram     Memory                    Gpu  \\\n",
       "count                         1303  1303       1303                   1303   \n",
       "unique                         118     9         39                    110   \n",
       "top     Intel Core i5 7200U 2.5GHz   8GB  256GB SSD  Intel HD Graphics 620   \n",
       "freq                           190   619        412                    281   \n",
       "\n",
       "             OpSys Weight  \n",
       "count         1303   1303  \n",
       "unique           9    179  \n",
       "top     Windows 10  2.2kg  \n",
       "freq          1072    121  "
      ]
     },
     "execution_count": 19,
     "metadata": {},
     "output_type": "execute_result"
    }
   ],
   "source": [
    "df.describe(include=['object'])"
   ]
  },
  {
   "attachments": {},
   "cell_type": "markdown",
   "id": "3aee6088",
   "metadata": {},
   "source": [
    "## Задание 3.\n",
    "Ответьте на несколько вопросов:\n",
    "\n",
    "3.1 Ноутбуков от какой компании больше всего в наборе данных?<br>\n",
    "3.2 Какая минимальная и максимальная стоимость у ноутбуков в данных?<br>\n",
    "3.3 Какой самый дорогой ноутбук в данных?<br>\n",
    "Выведите все характеристики только по этому ноутбуку<br>\n",
    "Если таких ноутбуков несколько, то выводите их всех<br>"
   ]
  },
  {
   "attachments": {},
   "cell_type": "markdown",
   "id": "6bd1e2cf",
   "metadata": {},
   "source": [
    "## Решение"
   ]
  },
  {
   "cell_type": "markdown",
   "id": "68f9b1f9",
   "metadata": {},
   "source": [
    "### 3.1 Ноутбуков от какой компании больше всего в наборе данных?"
   ]
  },
  {
   "cell_type": "code",
   "execution_count": 20,
   "id": "0bcb1ead",
   "metadata": {},
   "outputs": [
    {
     "data": {
      "text/plain": [
       "Index(['Company', 'Product', 'TypeName', 'Inches', 'ScreenResolution', 'Cpu',\n",
       "       'Ram', 'Memory', 'Gpu', 'OpSys', 'Weight', 'Price_euros'],\n",
       "      dtype='object')"
      ]
     },
     "execution_count": 20,
     "metadata": {},
     "output_type": "execute_result"
    }
   ],
   "source": [
    "df.columns"
   ]
  },
  {
   "cell_type": "code",
   "execution_count": 21,
   "id": "3e40606c",
   "metadata": {},
   "outputs": [
    {
     "data": {
      "text/plain": [
       "Company  Product                              TypeName            Inches  ScreenResolution                           Cpu                                   Ram   Memory                Gpu                         OpSys       Weight   Price_euros\n",
       "Acer     Aspire ES1-531                       Notebook            15.6    1366x768                                   Intel Celeron Dual Core N3060 1.6GHz  4GB   500GB HDD             Intel HD Graphics 400       Linux       2.4kg    289.0          3\n",
       "HP       15-AC110nv (i7-6500U/6GB/1TB/Radeon  Notebook            15.6    1366x768                                   Intel Core i7 6500U 2.5GHz            6GB   1TB HDD               AMD Radeon R5 M330          Windows 10  2.19kg   764.0          3\n",
       "Asus     ZenBook UX305CA-UBM1                 Ultrabook           13.3    IPS Panel Full HD 1920x1080                Intel Core M 6Y30 0.9GHz              8GB   512GB SSD             Intel HD Graphics 515       Windows 10  1.2kg    729.0          3\n",
       "Dell     Inspiron 3567                        Notebook            15.6    1366x768                                   Intel Core i3 7100U 2.4GHz            6GB   1TB HDD               Intel HD Graphics 620       Windows 10  2.3kg    459.0          3\n",
       "HP       Stream 11-Y000na                     Netbook             11.6    1366x768                                   Intel Celeron Dual Core N3060 1.6GHz  2GB   32GB Flash Storage    Intel HD Graphics 400       Windows 10  1.17kg   209.0          3\n",
       "                                                                                                                                                                                                                                                      ..\n",
       "Dell     Inspiron 7579                        2 in 1 Convertible  15.6    IPS Panel Full HD / Touchscreen 1920x1080  Intel Core i7 7500U 2.7GHz            12GB  512GB SSD             Intel HD Graphics 620       Windows 10  2.19kg   1299.0         1\n",
       "                                                                                                                     Intel Core i5 7200U 2.5GHz            8GB   256GB SSD             Intel HD Graphics 620       Windows 10  2.191kg  999.0          1\n",
       "         Inspiron 7577                        Gaming              15.6    IPS Panel Full HD 1920x1080                Intel Core i7 7700HQ 2.8GHz           8GB   128GB SSD +  1TB HDD  Nvidia GeForce GTX 1050 Ti  Windows 10  2.62kg   1159.0         1\n",
       "                                                                                                                                                           16GB  256GB SSD +  1TB HDD  Nvidia GeForce GTX 1060     Windows 10  2.65kg   1499.0         1\n",
       "Xiaomi   Mi Notebook                          Ultrabook           13.3    IPS Panel Full HD 1920x1080                Intel Core i5 7200U 2.5GHz            8GB   256GB SSD             Nvidia GeForce MX150        No OS       1.3kg    999.9          1\n",
       "Name: count, Length: 1275, dtype: int64"
      ]
     },
     "execution_count": 21,
     "metadata": {},
     "output_type": "execute_result"
    }
   ],
   "source": [
    "df.value_counts()"
   ]
  },
  {
   "cell_type": "code",
   "execution_count": 22,
   "id": "1a73dfbe",
   "metadata": {},
   "outputs": [
    {
     "data": {
      "text/plain": [
       "Company\n",
       "Dell         297\n",
       "Lenovo       297\n",
       "HP           274\n",
       "Asus         158\n",
       "Acer         103\n",
       "MSI           54\n",
       "Toshiba       48\n",
       "Apple         21\n",
       "Samsung        9\n",
       "Razer          7\n",
       "Mediacom       7\n",
       "Microsoft      6\n",
       "Xiaomi         4\n",
       "Vero           4\n",
       "Chuwi          3\n",
       "Google         3\n",
       "Fujitsu        3\n",
       "LG             3\n",
       "Huawei         2\n",
       "Name: count, dtype: int64"
      ]
     },
     "execution_count": 22,
     "metadata": {},
     "output_type": "execute_result"
    }
   ],
   "source": [
    "df['Company'].value_counts()"
   ]
  },
  {
   "cell_type": "code",
   "execution_count": 23,
   "id": "740128a6",
   "metadata": {},
   "outputs": [
    {
     "data": {
      "text/plain": [
       "Company\n",
       "Dell         0.227936\n",
       "Lenovo       0.227936\n",
       "HP           0.210284\n",
       "Asus         0.121259\n",
       "Acer         0.079048\n",
       "MSI          0.041443\n",
       "Toshiba      0.036838\n",
       "Apple        0.016117\n",
       "Samsung      0.006907\n",
       "Razer        0.005372\n",
       "Mediacom     0.005372\n",
       "Microsoft    0.004605\n",
       "Xiaomi       0.003070\n",
       "Vero         0.003070\n",
       "Chuwi        0.002302\n",
       "Google       0.002302\n",
       "Fujitsu      0.002302\n",
       "LG           0.002302\n",
       "Huawei       0.001535\n",
       "Name: proportion, dtype: float64"
      ]
     },
     "execution_count": 23,
     "metadata": {},
     "output_type": "execute_result"
    }
   ],
   "source": [
    "df['Company'].value_counts(normalize=True)"
   ]
  },
  {
   "cell_type": "code",
   "execution_count": 24,
   "id": "d583308e",
   "metadata": {},
   "outputs": [
    {
     "data": {
      "text/plain": [
       "'Dell'"
      ]
     },
     "execution_count": 24,
     "metadata": {},
     "output_type": "execute_result"
    }
   ],
   "source": [
    "df.describe(include=['object']).loc['top', 'Company']"
   ]
  },
  {
   "cell_type": "code",
   "execution_count": 25,
   "id": "f417c38a",
   "metadata": {},
   "outputs": [
    {
     "data": {
      "text/plain": [
       "'Dell'"
      ]
     },
     "execution_count": 25,
     "metadata": {},
     "output_type": "execute_result"
    }
   ],
   "source": [
    "df['Company'].value_counts().idxmax()"
   ]
  },
  {
   "cell_type": "code",
   "execution_count": 26,
   "id": "9188478f",
   "metadata": {},
   "outputs": [
    {
     "data": {
      "text/plain": [
       "Company\n",
       "Dell      297\n",
       "Lenovo    297\n",
       "Name: count, dtype: int64"
      ]
     },
     "execution_count": 26,
     "metadata": {},
     "output_type": "execute_result"
    }
   ],
   "source": [
    "df['Company'].value_counts().loc[lambda x: x==df['Company'].value_counts().max()]"
   ]
  },
  {
   "cell_type": "code",
   "execution_count": 27,
   "id": "92154dc5",
   "metadata": {},
   "outputs": [
    {
     "data": {
      "text/plain": [
       "Company\n",
       "Dell      297\n",
       "Lenovo    297\n",
       "Name: count, dtype: int64"
      ]
     },
     "execution_count": 27,
     "metadata": {},
     "output_type": "execute_result"
    }
   ],
   "source": [
    "df1 = df['Company'].value_counts().loc[lambda x: x==df['Company'].value_counts().max()]\n",
    "df1"
   ]
  },
  {
   "cell_type": "code",
   "execution_count": 28,
   "id": "5abad7dd",
   "metadata": {},
   "outputs": [
    {
     "data": {
      "text/plain": [
       "Company\n",
       "Dell         297\n",
       "Lenovo       297\n",
       "HP           274\n",
       "Asus         158\n",
       "Acer         103\n",
       "MSI           54\n",
       "Toshiba       48\n",
       "Apple         21\n",
       "Samsung        9\n",
       "Razer          7\n",
       "Mediacom       7\n",
       "Microsoft      6\n",
       "Xiaomi         4\n",
       "Vero           4\n",
       "Chuwi          3\n",
       "Google         3\n",
       "Fujitsu        3\n",
       "LG             3\n",
       "Huawei         2\n",
       "Name: count, dtype: int64"
      ]
     },
     "execution_count": 28,
     "metadata": {},
     "output_type": "execute_result"
    }
   ],
   "source": [
    "df_company = df['Company'].value_counts()\n",
    "df_company"
   ]
  },
  {
   "cell_type": "code",
   "execution_count": 29,
   "id": "41a3a889",
   "metadata": {},
   "outputs": [
    {
     "data": {
      "text/plain": [
       "Company\n",
       "Dell      297\n",
       "Lenovo    297\n",
       "Name: count, dtype: int64"
      ]
     },
     "execution_count": 29,
     "metadata": {},
     "output_type": "execute_result"
    }
   ],
   "source": [
    "df_company[df_company == df_company.max()]"
   ]
  },
  {
   "cell_type": "markdown",
   "id": "ba3c99b5",
   "metadata": {},
   "source": [
    "### 3.2 Какая минимальная и максимальная стоимость у ноутбуков в данных?"
   ]
  },
  {
   "cell_type": "code",
   "execution_count": 30,
   "id": "95c9fc3d",
   "metadata": {},
   "outputs": [
    {
     "data": {
      "text/plain": [
       "Index(['Company', 'Product', 'TypeName', 'Inches', 'ScreenResolution', 'Cpu',\n",
       "       'Ram', 'Memory', 'Gpu', 'OpSys', 'Weight', 'Price_euros'],\n",
       "      dtype='object')"
      ]
     },
     "execution_count": 30,
     "metadata": {},
     "output_type": "execute_result"
    }
   ],
   "source": [
    "df.columns"
   ]
  },
  {
   "cell_type": "code",
   "execution_count": 31,
   "id": "b30d83a5",
   "metadata": {},
   "outputs": [
    {
     "data": {
      "text/plain": [
       "174.0"
      ]
     },
     "execution_count": 31,
     "metadata": {},
     "output_type": "execute_result"
    }
   ],
   "source": [
    "df['Price_euros'].min()"
   ]
  },
  {
   "cell_type": "code",
   "execution_count": 32,
   "id": "a4900fb5",
   "metadata": {},
   "outputs": [
    {
     "data": {
      "text/plain": [
       "6099.0"
      ]
     },
     "execution_count": 32,
     "metadata": {},
     "output_type": "execute_result"
    }
   ],
   "source": [
    "df['Price_euros'].max()"
   ]
  },
  {
   "cell_type": "code",
   "execution_count": 33,
   "id": "8aac3fbe",
   "metadata": {},
   "outputs": [
    {
     "data": {
      "text/plain": [
       "(174.0, 6099.0)"
      ]
     },
     "execution_count": 33,
     "metadata": {},
     "output_type": "execute_result"
    }
   ],
   "source": [
    "df['Price_euros'].min(), df['Price_euros'].max()"
   ]
  },
  {
   "cell_type": "markdown",
   "id": "5139661e",
   "metadata": {},
   "source": [
    "### 3.3 Какой самый дорогой ноутбук в данных?\n",
    "Выведите все характеристики только по этому ноутбуку\n",
    "Если таких ноутбуков несколько, то выводите их всех"
   ]
  },
  {
   "cell_type": "code",
   "execution_count": 34,
   "id": "2a7464c7",
   "metadata": {},
   "outputs": [
    {
     "data": {
      "text/html": [
       "<div>\n",
       "<style scoped>\n",
       "    .dataframe tbody tr th:only-of-type {\n",
       "        vertical-align: middle;\n",
       "    }\n",
       "\n",
       "    .dataframe tbody tr th {\n",
       "        vertical-align: top;\n",
       "    }\n",
       "\n",
       "    .dataframe thead th {\n",
       "        text-align: right;\n",
       "    }\n",
       "</style>\n",
       "<table border=\"1\" class=\"dataframe\">\n",
       "  <thead>\n",
       "    <tr style=\"text-align: right;\">\n",
       "      <th></th>\n",
       "      <th>Company</th>\n",
       "      <th>Product</th>\n",
       "      <th>TypeName</th>\n",
       "      <th>Inches</th>\n",
       "      <th>ScreenResolution</th>\n",
       "      <th>Cpu</th>\n",
       "      <th>Ram</th>\n",
       "      <th>Memory</th>\n",
       "      <th>Gpu</th>\n",
       "      <th>OpSys</th>\n",
       "      <th>Weight</th>\n",
       "      <th>Price_euros</th>\n",
       "    </tr>\n",
       "    <tr>\n",
       "      <th>laptop_ID</th>\n",
       "      <th></th>\n",
       "      <th></th>\n",
       "      <th></th>\n",
       "      <th></th>\n",
       "      <th></th>\n",
       "      <th></th>\n",
       "      <th></th>\n",
       "      <th></th>\n",
       "      <th></th>\n",
       "      <th></th>\n",
       "      <th></th>\n",
       "      <th></th>\n",
       "    </tr>\n",
       "  </thead>\n",
       "  <tbody>\n",
       "    <tr>\n",
       "      <th>200</th>\n",
       "      <td>Razer</td>\n",
       "      <td>Blade Pro</td>\n",
       "      <td>Gaming</td>\n",
       "      <td>17.3</td>\n",
       "      <td>4K Ultra HD / Touchscreen 3840x2160</td>\n",
       "      <td>Intel Core i7 7820HK 2.9GHz</td>\n",
       "      <td>32GB</td>\n",
       "      <td>1TB SSD</td>\n",
       "      <td>Nvidia GeForce GTX 1080</td>\n",
       "      <td>Windows 10</td>\n",
       "      <td>3.49kg</td>\n",
       "      <td>6099.0</td>\n",
       "    </tr>\n",
       "  </tbody>\n",
       "</table>\n",
       "</div>"
      ],
      "text/plain": [
       "          Company    Product TypeName  Inches  \\\n",
       "laptop_ID                                       \n",
       "200         Razer  Blade Pro   Gaming    17.3   \n",
       "\n",
       "                              ScreenResolution                          Cpu  \\\n",
       "laptop_ID                                                                     \n",
       "200        4K Ultra HD / Touchscreen 3840x2160  Intel Core i7 7820HK 2.9GHz   \n",
       "\n",
       "            Ram   Memory                      Gpu       OpSys  Weight  \\\n",
       "laptop_ID                                                               \n",
       "200        32GB  1TB SSD  Nvidia GeForce GTX 1080  Windows 10  3.49kg   \n",
       "\n",
       "           Price_euros  \n",
       "laptop_ID               \n",
       "200             6099.0  "
      ]
     },
     "execution_count": 34,
     "metadata": {},
     "output_type": "execute_result"
    }
   ],
   "source": [
    "df[df['Price_euros'] == df['Price_euros'].max()]"
   ]
  },
  {
   "cell_type": "code",
   "execution_count": 35,
   "id": "25e6205f",
   "metadata": {},
   "outputs": [
    {
     "data": {
      "text/html": [
       "<div>\n",
       "<style scoped>\n",
       "    .dataframe tbody tr th:only-of-type {\n",
       "        vertical-align: middle;\n",
       "    }\n",
       "\n",
       "    .dataframe tbody tr th {\n",
       "        vertical-align: top;\n",
       "    }\n",
       "\n",
       "    .dataframe thead th {\n",
       "        text-align: right;\n",
       "    }\n",
       "</style>\n",
       "<table border=\"1\" class=\"dataframe\">\n",
       "  <thead>\n",
       "    <tr style=\"text-align: right;\">\n",
       "      <th></th>\n",
       "      <th>Company</th>\n",
       "      <th>Product</th>\n",
       "      <th>TypeName</th>\n",
       "      <th>Inches</th>\n",
       "      <th>ScreenResolution</th>\n",
       "      <th>Cpu</th>\n",
       "      <th>Ram</th>\n",
       "      <th>Memory</th>\n",
       "      <th>Gpu</th>\n",
       "      <th>OpSys</th>\n",
       "      <th>Weight</th>\n",
       "      <th>Price_euros</th>\n",
       "    </tr>\n",
       "    <tr>\n",
       "      <th>laptop_ID</th>\n",
       "      <th></th>\n",
       "      <th></th>\n",
       "      <th></th>\n",
       "      <th></th>\n",
       "      <th></th>\n",
       "      <th></th>\n",
       "      <th></th>\n",
       "      <th></th>\n",
       "      <th></th>\n",
       "      <th></th>\n",
       "      <th></th>\n",
       "      <th></th>\n",
       "    </tr>\n",
       "  </thead>\n",
       "  <tbody>\n",
       "    <tr>\n",
       "      <th>200</th>\n",
       "      <td>Razer</td>\n",
       "      <td>Blade Pro</td>\n",
       "      <td>Gaming</td>\n",
       "      <td>17.3</td>\n",
       "      <td>4K Ultra HD / Touchscreen 3840x2160</td>\n",
       "      <td>Intel Core i7 7820HK 2.9GHz</td>\n",
       "      <td>32GB</td>\n",
       "      <td>1TB SSD</td>\n",
       "      <td>Nvidia GeForce GTX 1080</td>\n",
       "      <td>Windows 10</td>\n",
       "      <td>3.49kg</td>\n",
       "      <td>6099.0</td>\n",
       "    </tr>\n",
       "  </tbody>\n",
       "</table>\n",
       "</div>"
      ],
      "text/plain": [
       "          Company    Product TypeName  Inches  \\\n",
       "laptop_ID                                       \n",
       "200         Razer  Blade Pro   Gaming    17.3   \n",
       "\n",
       "                              ScreenResolution                          Cpu  \\\n",
       "laptop_ID                                                                     \n",
       "200        4K Ultra HD / Touchscreen 3840x2160  Intel Core i7 7820HK 2.9GHz   \n",
       "\n",
       "            Ram   Memory                      Gpu       OpSys  Weight  \\\n",
       "laptop_ID                                                               \n",
       "200        32GB  1TB SSD  Nvidia GeForce GTX 1080  Windows 10  3.49kg   \n",
       "\n",
       "           Price_euros  \n",
       "laptop_ID               \n",
       "200             6099.0  "
      ]
     },
     "execution_count": 35,
     "metadata": {},
     "output_type": "execute_result"
    }
   ],
   "source": [
    "df[df[\"Price_euros\"] == df[\"Price_euros\"].max()]"
   ]
  },
  {
   "cell_type": "code",
   "execution_count": 36,
   "id": "29cfdf91",
   "metadata": {},
   "outputs": [
    {
     "data": {
      "text/plain": [
       "14"
      ]
     },
     "execution_count": 36,
     "metadata": {},
     "output_type": "execute_result"
    }
   ],
   "source": [
    "df['Price_euros'].value_counts().max()"
   ]
  },
  {
   "cell_type": "code",
   "execution_count": 37,
   "id": "0deace30",
   "metadata": {},
   "outputs": [
    {
     "data": {
      "text/plain": [
       "Price_euros\n",
       "174.0     1\n",
       "191.9     1\n",
       "196.0     1\n",
       "199.0     2\n",
       "202.9     1\n",
       "         ..\n",
       "3975.0    1\n",
       "4389.0    1\n",
       "4899.0    1\n",
       "5499.0    1\n",
       "6099.0    1\n",
       "Name: count, Length: 791, dtype: int64"
      ]
     },
     "execution_count": 37,
     "metadata": {},
     "output_type": "execute_result"
    }
   ],
   "source": [
    "df['Price_euros'].value_counts().sort_index()"
   ]
  },
  {
   "cell_type": "code",
   "execution_count": 38,
   "id": "fea8c829",
   "metadata": {},
   "outputs": [
    {
     "data": {
      "text/html": [
       "<div>\n",
       "<style scoped>\n",
       "    .dataframe tbody tr th:only-of-type {\n",
       "        vertical-align: middle;\n",
       "    }\n",
       "\n",
       "    .dataframe tbody tr th {\n",
       "        vertical-align: top;\n",
       "    }\n",
       "\n",
       "    .dataframe thead th {\n",
       "        text-align: right;\n",
       "    }\n",
       "</style>\n",
       "<table border=\"1\" class=\"dataframe\">\n",
       "  <thead>\n",
       "    <tr style=\"text-align: right;\">\n",
       "      <th></th>\n",
       "      <th>Company</th>\n",
       "      <th>Product</th>\n",
       "      <th>TypeName</th>\n",
       "      <th>Inches</th>\n",
       "      <th>ScreenResolution</th>\n",
       "      <th>Cpu</th>\n",
       "      <th>Ram</th>\n",
       "      <th>Memory</th>\n",
       "      <th>Gpu</th>\n",
       "      <th>OpSys</th>\n",
       "      <th>Weight</th>\n",
       "      <th>Price_euros</th>\n",
       "    </tr>\n",
       "    <tr>\n",
       "      <th>laptop_ID</th>\n",
       "      <th></th>\n",
       "      <th></th>\n",
       "      <th></th>\n",
       "      <th></th>\n",
       "      <th></th>\n",
       "      <th></th>\n",
       "      <th></th>\n",
       "      <th></th>\n",
       "      <th></th>\n",
       "      <th></th>\n",
       "      <th></th>\n",
       "      <th></th>\n",
       "    </tr>\n",
       "  </thead>\n",
       "  <tbody>\n",
       "    <tr>\n",
       "      <th>200</th>\n",
       "      <td>Razer</td>\n",
       "      <td>Blade Pro</td>\n",
       "      <td>Gaming</td>\n",
       "      <td>17.3</td>\n",
       "      <td>4K Ultra HD / Touchscreen 3840x2160</td>\n",
       "      <td>Intel Core i7 7820HK 2.9GHz</td>\n",
       "      <td>32GB</td>\n",
       "      <td>1TB SSD</td>\n",
       "      <td>Nvidia GeForce GTX 1080</td>\n",
       "      <td>Windows 10</td>\n",
       "      <td>3.49kg</td>\n",
       "      <td>6099.0</td>\n",
       "    </tr>\n",
       "    <tr>\n",
       "      <th>839</th>\n",
       "      <td>Razer</td>\n",
       "      <td>Blade Pro</td>\n",
       "      <td>Gaming</td>\n",
       "      <td>17.3</td>\n",
       "      <td>4K Ultra HD / Touchscreen 3840x2160</td>\n",
       "      <td>Intel Core i7 7820HK 2.9GHz</td>\n",
       "      <td>32GB</td>\n",
       "      <td>512GB SSD</td>\n",
       "      <td>Nvidia GeForce GTX 1080</td>\n",
       "      <td>Windows 10</td>\n",
       "      <td>3.49kg</td>\n",
       "      <td>5499.0</td>\n",
       "    </tr>\n",
       "    <tr>\n",
       "      <th>617</th>\n",
       "      <td>Lenovo</td>\n",
       "      <td>Thinkpad P51</td>\n",
       "      <td>Notebook</td>\n",
       "      <td>15.6</td>\n",
       "      <td>IPS Panel 4K Ultra HD 3840x2160</td>\n",
       "      <td>Intel Xeon E3-1535M v6 3.1GHz</td>\n",
       "      <td>32GB</td>\n",
       "      <td>1TB SSD</td>\n",
       "      <td>Nvidia Quadro M2200M</td>\n",
       "      <td>Windows 10</td>\n",
       "      <td>2.5kg</td>\n",
       "      <td>4899.0</td>\n",
       "    </tr>\n",
       "    <tr>\n",
       "      <th>758</th>\n",
       "      <td>HP</td>\n",
       "      <td>Zbook 17</td>\n",
       "      <td>Workstation</td>\n",
       "      <td>17.3</td>\n",
       "      <td>IPS Panel Full HD 1920x1080</td>\n",
       "      <td>Intel Xeon E3-1535M v5 2.9GHz</td>\n",
       "      <td>16GB</td>\n",
       "      <td>256GB SSD</td>\n",
       "      <td>Nvidia Quadro M2000M</td>\n",
       "      <td>Windows 7</td>\n",
       "      <td>3kg</td>\n",
       "      <td>4389.0</td>\n",
       "    </tr>\n",
       "    <tr>\n",
       "      <th>1081</th>\n",
       "      <td>Asus</td>\n",
       "      <td>ROG G701VO</td>\n",
       "      <td>Gaming</td>\n",
       "      <td>17.3</td>\n",
       "      <td>IPS Panel Full HD 1920x1080</td>\n",
       "      <td>Intel Core i7 6820HK 2.7GHz</td>\n",
       "      <td>64GB</td>\n",
       "      <td>1TB SSD</td>\n",
       "      <td>Nvidia GeForce GTX 980</td>\n",
       "      <td>Windows 10</td>\n",
       "      <td>3.58kg</td>\n",
       "      <td>3975.0</td>\n",
       "    </tr>\n",
       "    <tr>\n",
       "      <th>...</th>\n",
       "      <td>...</td>\n",
       "      <td>...</td>\n",
       "      <td>...</td>\n",
       "      <td>...</td>\n",
       "      <td>...</td>\n",
       "      <td>...</td>\n",
       "      <td>...</td>\n",
       "      <td>...</td>\n",
       "      <td>...</td>\n",
       "      <td>...</td>\n",
       "      <td>...</td>\n",
       "      <td>...</td>\n",
       "    </tr>\n",
       "    <tr>\n",
       "      <th>295</th>\n",
       "      <td>Acer</td>\n",
       "      <td>Chromebook C910-C2ST</td>\n",
       "      <td>Notebook</td>\n",
       "      <td>15.6</td>\n",
       "      <td>1366x768</td>\n",
       "      <td>Intel Celeron Dual Core 3205U 1.5GHz</td>\n",
       "      <td>2GB</td>\n",
       "      <td>16GB SSD</td>\n",
       "      <td>Intel HD Graphics</td>\n",
       "      <td>Chrome OS</td>\n",
       "      <td>2.19kg</td>\n",
       "      <td>199.0</td>\n",
       "    </tr>\n",
       "    <tr>\n",
       "      <th>32</th>\n",
       "      <td>Asus</td>\n",
       "      <td>E402WA-GA010T (E2-6110/2GB/32GB/W10)</td>\n",
       "      <td>Notebook</td>\n",
       "      <td>14.0</td>\n",
       "      <td>1366x768</td>\n",
       "      <td>AMD E-Series E2-6110 1.5GHz</td>\n",
       "      <td>2GB</td>\n",
       "      <td>32GB Flash Storage</td>\n",
       "      <td>AMD Radeon R2</td>\n",
       "      <td>Windows 10</td>\n",
       "      <td>1.65kg</td>\n",
       "      <td>199.0</td>\n",
       "    </tr>\n",
       "    <tr>\n",
       "      <th>1135</th>\n",
       "      <td>Vero</td>\n",
       "      <td>V131 (X5-Z8350/4GB/32GB/FHD/W10)</td>\n",
       "      <td>Notebook</td>\n",
       "      <td>13.3</td>\n",
       "      <td>Full HD 1920x1080</td>\n",
       "      <td>Intel Atom X5-Z8350 1.44GHz</td>\n",
       "      <td>4GB</td>\n",
       "      <td>32GB Flash Storage</td>\n",
       "      <td>Intel HD Graphics 400</td>\n",
       "      <td>Windows 10</td>\n",
       "      <td>1.35kg</td>\n",
       "      <td>196.0</td>\n",
       "    </tr>\n",
       "    <tr>\n",
       "      <th>21</th>\n",
       "      <td>Asus</td>\n",
       "      <td>Vivobook E200HA</td>\n",
       "      <td>Netbook</td>\n",
       "      <td>11.6</td>\n",
       "      <td>1366x768</td>\n",
       "      <td>Intel Atom x5-Z8350 1.44GHz</td>\n",
       "      <td>2GB</td>\n",
       "      <td>32GB Flash Storage</td>\n",
       "      <td>Intel HD Graphics 400</td>\n",
       "      <td>Windows 10</td>\n",
       "      <td>0.98kg</td>\n",
       "      <td>191.9</td>\n",
       "    </tr>\n",
       "    <tr>\n",
       "      <th>1233</th>\n",
       "      <td>Acer</td>\n",
       "      <td>C740-C9QX (3205U/2GB/32GB/Chrome</td>\n",
       "      <td>Netbook</td>\n",
       "      <td>11.6</td>\n",
       "      <td>1366x768</td>\n",
       "      <td>Intel Celeron Dual Core 3205U 1.5GHz</td>\n",
       "      <td>2GB</td>\n",
       "      <td>32GB SSD</td>\n",
       "      <td>Intel HD Graphics</td>\n",
       "      <td>Chrome OS</td>\n",
       "      <td>1.3kg</td>\n",
       "      <td>174.0</td>\n",
       "    </tr>\n",
       "  </tbody>\n",
       "</table>\n",
       "<p>1303 rows × 12 columns</p>\n",
       "</div>"
      ],
      "text/plain": [
       "          Company                               Product     TypeName  Inches  \\\n",
       "laptop_ID                                                                      \n",
       "200         Razer                             Blade Pro       Gaming    17.3   \n",
       "839         Razer                             Blade Pro       Gaming    17.3   \n",
       "617        Lenovo                          Thinkpad P51     Notebook    15.6   \n",
       "758            HP                              Zbook 17  Workstation    17.3   \n",
       "1081         Asus                            ROG G701VO       Gaming    17.3   \n",
       "...           ...                                   ...          ...     ...   \n",
       "295          Acer                  Chromebook C910-C2ST     Notebook    15.6   \n",
       "32           Asus  E402WA-GA010T (E2-6110/2GB/32GB/W10)     Notebook    14.0   \n",
       "1135         Vero      V131 (X5-Z8350/4GB/32GB/FHD/W10)     Notebook    13.3   \n",
       "21           Asus                       Vivobook E200HA      Netbook    11.6   \n",
       "1233         Acer      C740-C9QX (3205U/2GB/32GB/Chrome      Netbook    11.6   \n",
       "\n",
       "                              ScreenResolution  \\\n",
       "laptop_ID                                        \n",
       "200        4K Ultra HD / Touchscreen 3840x2160   \n",
       "839        4K Ultra HD / Touchscreen 3840x2160   \n",
       "617            IPS Panel 4K Ultra HD 3840x2160   \n",
       "758                IPS Panel Full HD 1920x1080   \n",
       "1081               IPS Panel Full HD 1920x1080   \n",
       "...                                        ...   \n",
       "295                                   1366x768   \n",
       "32                                    1366x768   \n",
       "1135                         Full HD 1920x1080   \n",
       "21                                    1366x768   \n",
       "1233                                  1366x768   \n",
       "\n",
       "                                            Cpu   Ram              Memory  \\\n",
       "laptop_ID                                                                   \n",
       "200                 Intel Core i7 7820HK 2.9GHz  32GB             1TB SSD   \n",
       "839                 Intel Core i7 7820HK 2.9GHz  32GB           512GB SSD   \n",
       "617               Intel Xeon E3-1535M v6 3.1GHz  32GB             1TB SSD   \n",
       "758               Intel Xeon E3-1535M v5 2.9GHz  16GB           256GB SSD   \n",
       "1081                Intel Core i7 6820HK 2.7GHz  64GB             1TB SSD   \n",
       "...                                         ...   ...                 ...   \n",
       "295        Intel Celeron Dual Core 3205U 1.5GHz   2GB            16GB SSD   \n",
       "32                  AMD E-Series E2-6110 1.5GHz   2GB  32GB Flash Storage   \n",
       "1135                Intel Atom X5-Z8350 1.44GHz   4GB  32GB Flash Storage   \n",
       "21                  Intel Atom x5-Z8350 1.44GHz   2GB  32GB Flash Storage   \n",
       "1233       Intel Celeron Dual Core 3205U 1.5GHz   2GB            32GB SSD   \n",
       "\n",
       "                               Gpu       OpSys  Weight  Price_euros  \n",
       "laptop_ID                                                            \n",
       "200        Nvidia GeForce GTX 1080  Windows 10  3.49kg       6099.0  \n",
       "839        Nvidia GeForce GTX 1080  Windows 10  3.49kg       5499.0  \n",
       "617           Nvidia Quadro M2200M  Windows 10   2.5kg       4899.0  \n",
       "758           Nvidia Quadro M2000M   Windows 7     3kg       4389.0  \n",
       "1081       Nvidia GeForce GTX 980   Windows 10  3.58kg       3975.0  \n",
       "...                            ...         ...     ...          ...  \n",
       "295              Intel HD Graphics   Chrome OS  2.19kg        199.0  \n",
       "32                   AMD Radeon R2  Windows 10  1.65kg        199.0  \n",
       "1135         Intel HD Graphics 400  Windows 10  1.35kg        196.0  \n",
       "21           Intel HD Graphics 400  Windows 10  0.98kg        191.9  \n",
       "1233             Intel HD Graphics   Chrome OS   1.3kg        174.0  \n",
       "\n",
       "[1303 rows x 12 columns]"
      ]
     },
     "execution_count": 38,
     "metadata": {},
     "output_type": "execute_result"
    }
   ],
   "source": [
    "df.sort_values(['Price_euros'], ascending=False)"
   ]
  },
  {
   "cell_type": "code",
   "execution_count": 39,
   "id": "cf423ac5",
   "metadata": {},
   "outputs": [
    {
     "data": {
      "text/plain": [
       "Company                                           Razer\n",
       "Product                                       Blade Pro\n",
       "TypeName                                         Gaming\n",
       "Inches                                             17.3\n",
       "ScreenResolution    4K Ultra HD / Touchscreen 3840x2160\n",
       "Cpu                         Intel Core i7 7820HK 2.9GHz\n",
       "Ram                                                32GB\n",
       "Memory                                          1TB SSD\n",
       "Gpu                             Nvidia GeForce GTX 1080\n",
       "OpSys                                        Windows 10\n",
       "Weight                                           3.49kg\n",
       "Price_euros                                      6099.0\n",
       "Name: 200, dtype: object"
      ]
     },
     "execution_count": 39,
     "metadata": {},
     "output_type": "execute_result"
    }
   ],
   "source": [
    "df.sort_values(['Price_euros'], ascending=False).iloc[0]"
   ]
  },
  {
   "cell_type": "code",
   "execution_count": 40,
   "id": "9ac32202",
   "metadata": {},
   "outputs": [
    {
     "data": {
      "text/html": [
       "<div>\n",
       "<style scoped>\n",
       "    .dataframe tbody tr th:only-of-type {\n",
       "        vertical-align: middle;\n",
       "    }\n",
       "\n",
       "    .dataframe tbody tr th {\n",
       "        vertical-align: top;\n",
       "    }\n",
       "\n",
       "    .dataframe thead th {\n",
       "        text-align: right;\n",
       "    }\n",
       "</style>\n",
       "<table border=\"1\" class=\"dataframe\">\n",
       "  <thead>\n",
       "    <tr style=\"text-align: right;\">\n",
       "      <th></th>\n",
       "      <th>Company</th>\n",
       "      <th>Product</th>\n",
       "      <th>TypeName</th>\n",
       "      <th>Inches</th>\n",
       "      <th>ScreenResolution</th>\n",
       "      <th>Cpu</th>\n",
       "      <th>Ram</th>\n",
       "      <th>Memory</th>\n",
       "      <th>Gpu</th>\n",
       "      <th>OpSys</th>\n",
       "      <th>Weight</th>\n",
       "      <th>Price_euros</th>\n",
       "    </tr>\n",
       "    <tr>\n",
       "      <th>laptop_ID</th>\n",
       "      <th></th>\n",
       "      <th></th>\n",
       "      <th></th>\n",
       "      <th></th>\n",
       "      <th></th>\n",
       "      <th></th>\n",
       "      <th></th>\n",
       "      <th></th>\n",
       "      <th></th>\n",
       "      <th></th>\n",
       "      <th></th>\n",
       "      <th></th>\n",
       "    </tr>\n",
       "  </thead>\n",
       "  <tbody>\n",
       "    <tr>\n",
       "      <th>200</th>\n",
       "      <td>Razer</td>\n",
       "      <td>Blade Pro</td>\n",
       "      <td>Gaming</td>\n",
       "      <td>17.3</td>\n",
       "      <td>4K Ultra HD / Touchscreen 3840x2160</td>\n",
       "      <td>Intel Core i7 7820HK 2.9GHz</td>\n",
       "      <td>32GB</td>\n",
       "      <td>1TB SSD</td>\n",
       "      <td>Nvidia GeForce GTX 1080</td>\n",
       "      <td>Windows 10</td>\n",
       "      <td>3.49kg</td>\n",
       "      <td>6099.0</td>\n",
       "    </tr>\n",
       "  </tbody>\n",
       "</table>\n",
       "</div>"
      ],
      "text/plain": [
       "          Company    Product TypeName  Inches  \\\n",
       "laptop_ID                                       \n",
       "200         Razer  Blade Pro   Gaming    17.3   \n",
       "\n",
       "                              ScreenResolution                          Cpu  \\\n",
       "laptop_ID                                                                     \n",
       "200        4K Ultra HD / Touchscreen 3840x2160  Intel Core i7 7820HK 2.9GHz   \n",
       "\n",
       "            Ram   Memory                      Gpu       OpSys  Weight  \\\n",
       "laptop_ID                                                               \n",
       "200        32GB  1TB SSD  Nvidia GeForce GTX 1080  Windows 10  3.49kg   \n",
       "\n",
       "           Price_euros  \n",
       "laptop_ID               \n",
       "200             6099.0  "
      ]
     },
     "execution_count": 40,
     "metadata": {},
     "output_type": "execute_result"
    }
   ],
   "source": [
    "df.sort_values(['Price_euros'], ascending = False).head(1)"
   ]
  },
  {
   "cell_type": "code",
   "execution_count": 41,
   "id": "3af09faf",
   "metadata": {},
   "outputs": [
    {
     "data": {
      "text/html": [
       "<div>\n",
       "<style scoped>\n",
       "    .dataframe tbody tr th:only-of-type {\n",
       "        vertical-align: middle;\n",
       "    }\n",
       "\n",
       "    .dataframe tbody tr th {\n",
       "        vertical-align: top;\n",
       "    }\n",
       "\n",
       "    .dataframe thead th {\n",
       "        text-align: right;\n",
       "    }\n",
       "</style>\n",
       "<table border=\"1\" class=\"dataframe\">\n",
       "  <thead>\n",
       "    <tr style=\"text-align: right;\">\n",
       "      <th></th>\n",
       "      <th>200</th>\n",
       "    </tr>\n",
       "  </thead>\n",
       "  <tbody>\n",
       "    <tr>\n",
       "      <th>Company</th>\n",
       "      <td>Razer</td>\n",
       "    </tr>\n",
       "    <tr>\n",
       "      <th>Product</th>\n",
       "      <td>Blade Pro</td>\n",
       "    </tr>\n",
       "    <tr>\n",
       "      <th>TypeName</th>\n",
       "      <td>Gaming</td>\n",
       "    </tr>\n",
       "    <tr>\n",
       "      <th>Inches</th>\n",
       "      <td>17.3</td>\n",
       "    </tr>\n",
       "    <tr>\n",
       "      <th>ScreenResolution</th>\n",
       "      <td>4K Ultra HD / Touchscreen 3840x2160</td>\n",
       "    </tr>\n",
       "    <tr>\n",
       "      <th>Cpu</th>\n",
       "      <td>Intel Core i7 7820HK 2.9GHz</td>\n",
       "    </tr>\n",
       "    <tr>\n",
       "      <th>Ram</th>\n",
       "      <td>32GB</td>\n",
       "    </tr>\n",
       "    <tr>\n",
       "      <th>Memory</th>\n",
       "      <td>1TB SSD</td>\n",
       "    </tr>\n",
       "    <tr>\n",
       "      <th>Gpu</th>\n",
       "      <td>Nvidia GeForce GTX 1080</td>\n",
       "    </tr>\n",
       "    <tr>\n",
       "      <th>OpSys</th>\n",
       "      <td>Windows 10</td>\n",
       "    </tr>\n",
       "    <tr>\n",
       "      <th>Weight</th>\n",
       "      <td>3.49kg</td>\n",
       "    </tr>\n",
       "    <tr>\n",
       "      <th>Price_euros</th>\n",
       "      <td>6099.0</td>\n",
       "    </tr>\n",
       "  </tbody>\n",
       "</table>\n",
       "</div>"
      ],
      "text/plain": [
       "                                                  200\n",
       "Company                                         Razer\n",
       "Product                                     Blade Pro\n",
       "TypeName                                       Gaming\n",
       "Inches                                           17.3\n",
       "ScreenResolution  4K Ultra HD / Touchscreen 3840x2160\n",
       "Cpu                       Intel Core i7 7820HK 2.9GHz\n",
       "Ram                                              32GB\n",
       "Memory                                        1TB SSD\n",
       "Gpu                           Nvidia GeForce GTX 1080\n",
       "OpSys                                      Windows 10\n",
       "Weight                                         3.49kg\n",
       "Price_euros                                    6099.0"
      ]
     },
     "execution_count": 41,
     "metadata": {},
     "output_type": "execute_result"
    }
   ],
   "source": [
    "df.sort_values(['Price_euros'], ascending=False).iloc[0].to_frame()"
   ]
  },
  {
   "cell_type": "code",
   "execution_count": 42,
   "id": "c63c1673",
   "metadata": {},
   "outputs": [
    {
     "data": {
      "text/html": [
       "<div>\n",
       "<style scoped>\n",
       "    .dataframe tbody tr th:only-of-type {\n",
       "        vertical-align: middle;\n",
       "    }\n",
       "\n",
       "    .dataframe tbody tr th {\n",
       "        vertical-align: top;\n",
       "    }\n",
       "\n",
       "    .dataframe thead th {\n",
       "        text-align: right;\n",
       "    }\n",
       "</style>\n",
       "<table border=\"1\" class=\"dataframe\">\n",
       "  <thead>\n",
       "    <tr style=\"text-align: right;\">\n",
       "      <th></th>\n",
       "      <th>Company</th>\n",
       "      <th>Product</th>\n",
       "      <th>TypeName</th>\n",
       "      <th>Inches</th>\n",
       "      <th>ScreenResolution</th>\n",
       "      <th>Cpu</th>\n",
       "      <th>Ram</th>\n",
       "      <th>Memory</th>\n",
       "      <th>Gpu</th>\n",
       "      <th>OpSys</th>\n",
       "      <th>Weight</th>\n",
       "      <th>Price_euros</th>\n",
       "    </tr>\n",
       "  </thead>\n",
       "  <tbody>\n",
       "    <tr>\n",
       "      <th>200</th>\n",
       "      <td>Razer</td>\n",
       "      <td>Blade Pro</td>\n",
       "      <td>Gaming</td>\n",
       "      <td>17.3</td>\n",
       "      <td>4K Ultra HD / Touchscreen 3840x2160</td>\n",
       "      <td>Intel Core i7 7820HK 2.9GHz</td>\n",
       "      <td>32GB</td>\n",
       "      <td>1TB SSD</td>\n",
       "      <td>Nvidia GeForce GTX 1080</td>\n",
       "      <td>Windows 10</td>\n",
       "      <td>3.49kg</td>\n",
       "      <td>6099.0</td>\n",
       "    </tr>\n",
       "  </tbody>\n",
       "</table>\n",
       "</div>"
      ],
      "text/plain": [
       "    Company    Product TypeName Inches                     ScreenResolution  \\\n",
       "200   Razer  Blade Pro   Gaming   17.3  4K Ultra HD / Touchscreen 3840x2160   \n",
       "\n",
       "                             Cpu   Ram   Memory                      Gpu  \\\n",
       "200  Intel Core i7 7820HK 2.9GHz  32GB  1TB SSD  Nvidia GeForce GTX 1080   \n",
       "\n",
       "          OpSys  Weight Price_euros  \n",
       "200  Windows 10  3.49kg      6099.0  "
      ]
     },
     "execution_count": 42,
     "metadata": {},
     "output_type": "execute_result"
    }
   ],
   "source": [
    "df.sort_values(['Price_euros'], ascending=False).iloc[0].to_frame().T"
   ]
  },
  {
   "attachments": {},
   "cell_type": "markdown",
   "id": "cd1e8210",
   "metadata": {},
   "source": [
    "## Задание 4.\n",
    "Ответьте на несколько вопросов\n",
    "### 4.1 Найдите ноутбуки с самой маленькой диагональю в данных?\n",
    "\n",
    "Выведите только следующие характеристики:\n",
    "1. Компания\n",
    "2. Типа ноутбука\n",
    "3. Диагональ\n",
    "4. Стоимость\n",
    "\n",
    "Если таких ноутбуков несколько, то выводите их всех"
   ]
  },
  {
   "cell_type": "code",
   "execution_count": 43,
   "id": "8499c42b",
   "metadata": {},
   "outputs": [
    {
     "data": {
      "text/html": [
       "<div>\n",
       "<style scoped>\n",
       "    .dataframe tbody tr th:only-of-type {\n",
       "        vertical-align: middle;\n",
       "    }\n",
       "\n",
       "    .dataframe tbody tr th {\n",
       "        vertical-align: top;\n",
       "    }\n",
       "\n",
       "    .dataframe thead th {\n",
       "        text-align: right;\n",
       "    }\n",
       "</style>\n",
       "<table border=\"1\" class=\"dataframe\">\n",
       "  <thead>\n",
       "    <tr style=\"text-align: right;\">\n",
       "      <th></th>\n",
       "      <th>Company</th>\n",
       "      <th>TypeName</th>\n",
       "      <th>Inches</th>\n",
       "      <th>Price_euros</th>\n",
       "    </tr>\n",
       "    <tr>\n",
       "      <th>laptop_ID</th>\n",
       "      <th></th>\n",
       "      <th></th>\n",
       "      <th></th>\n",
       "      <th></th>\n",
       "    </tr>\n",
       "  </thead>\n",
       "  <tbody>\n",
       "    <tr>\n",
       "      <th>51</th>\n",
       "      <td>Lenovo</td>\n",
       "      <td>2 in 1 Convertible</td>\n",
       "      <td>10.1</td>\n",
       "      <td>319.00</td>\n",
       "    </tr>\n",
       "    <tr>\n",
       "      <th>1097</th>\n",
       "      <td>Lenovo</td>\n",
       "      <td>2 in 1 Convertible</td>\n",
       "      <td>10.1</td>\n",
       "      <td>646.27</td>\n",
       "    </tr>\n",
       "    <tr>\n",
       "      <th>1129</th>\n",
       "      <td>Lenovo</td>\n",
       "      <td>2 in 1 Convertible</td>\n",
       "      <td>10.1</td>\n",
       "      <td>549.00</td>\n",
       "    </tr>\n",
       "    <tr>\n",
       "      <th>1141</th>\n",
       "      <td>Lenovo</td>\n",
       "      <td>2 in 1 Convertible</td>\n",
       "      <td>10.1</td>\n",
       "      <td>479.00</td>\n",
       "    </tr>\n",
       "  </tbody>\n",
       "</table>\n",
       "</div>"
      ],
      "text/plain": [
       "          Company            TypeName  Inches  Price_euros\n",
       "laptop_ID                                                 \n",
       "51         Lenovo  2 in 1 Convertible    10.1       319.00\n",
       "1097       Lenovo  2 in 1 Convertible    10.1       646.27\n",
       "1129       Lenovo  2 in 1 Convertible    10.1       549.00\n",
       "1141       Lenovo  2 in 1 Convertible    10.1       479.00"
      ]
     },
     "execution_count": 43,
     "metadata": {},
     "output_type": "execute_result"
    }
   ],
   "source": [
    "df[df['Inches'] == df['Inches'].min()][[\"Company\", \"TypeName\", \"Inches\", \"Price_euros\"]]"
   ]
  },
  {
   "cell_type": "code",
   "execution_count": 44,
   "id": "d5b1fdc1",
   "metadata": {},
   "outputs": [
    {
     "data": {
      "text/html": [
       "<div>\n",
       "<style scoped>\n",
       "    .dataframe tbody tr th:only-of-type {\n",
       "        vertical-align: middle;\n",
       "    }\n",
       "\n",
       "    .dataframe tbody tr th {\n",
       "        vertical-align: top;\n",
       "    }\n",
       "\n",
       "    .dataframe thead th {\n",
       "        text-align: right;\n",
       "    }\n",
       "</style>\n",
       "<table border=\"1\" class=\"dataframe\">\n",
       "  <thead>\n",
       "    <tr style=\"text-align: right;\">\n",
       "      <th></th>\n",
       "      <th>Company</th>\n",
       "      <th>TypeName</th>\n",
       "      <th>Inches</th>\n",
       "      <th>Price_euros</th>\n",
       "    </tr>\n",
       "    <tr>\n",
       "      <th>laptop_ID</th>\n",
       "      <th></th>\n",
       "      <th></th>\n",
       "      <th></th>\n",
       "      <th></th>\n",
       "    </tr>\n",
       "  </thead>\n",
       "  <tbody>\n",
       "    <tr>\n",
       "      <th>1233</th>\n",
       "      <td>Acer</td>\n",
       "      <td>Netbook</td>\n",
       "      <td>11.6</td>\n",
       "      <td>174.0</td>\n",
       "    </tr>\n",
       "  </tbody>\n",
       "</table>\n",
       "</div>"
      ],
      "text/plain": [
       "          Company TypeName  Inches  Price_euros\n",
       "laptop_ID                                      \n",
       "1233         Acer  Netbook    11.6        174.0"
      ]
     },
     "execution_count": 44,
     "metadata": {},
     "output_type": "execute_result"
    }
   ],
   "source": [
    "df[df['Price_euros'] == df['Price_euros'].min()][[\"Company\", \"TypeName\", \"Inches\", \"Price_euros\"]]"
   ]
  },
  {
   "cell_type": "code",
   "execution_count": 45,
   "id": "6a0fbf1d",
   "metadata": {},
   "outputs": [
    {
     "data": {
      "text/html": [
       "<div>\n",
       "<style scoped>\n",
       "    .dataframe tbody tr th:only-of-type {\n",
       "        vertical-align: middle;\n",
       "    }\n",
       "\n",
       "    .dataframe tbody tr th {\n",
       "        vertical-align: top;\n",
       "    }\n",
       "\n",
       "    .dataframe thead th {\n",
       "        text-align: right;\n",
       "    }\n",
       "</style>\n",
       "<table border=\"1\" class=\"dataframe\">\n",
       "  <thead>\n",
       "    <tr style=\"text-align: right;\">\n",
       "      <th></th>\n",
       "      <th>Company</th>\n",
       "      <th>Product</th>\n",
       "      <th>TypeName</th>\n",
       "      <th>Inches</th>\n",
       "      <th>ScreenResolution</th>\n",
       "      <th>Cpu</th>\n",
       "      <th>Ram</th>\n",
       "      <th>Memory</th>\n",
       "      <th>Gpu</th>\n",
       "      <th>OpSys</th>\n",
       "      <th>Weight</th>\n",
       "      <th>Price_euros</th>\n",
       "    </tr>\n",
       "    <tr>\n",
       "      <th>laptop_ID</th>\n",
       "      <th></th>\n",
       "      <th></th>\n",
       "      <th></th>\n",
       "      <th></th>\n",
       "      <th></th>\n",
       "      <th></th>\n",
       "      <th></th>\n",
       "      <th></th>\n",
       "      <th></th>\n",
       "      <th></th>\n",
       "      <th></th>\n",
       "      <th></th>\n",
       "    </tr>\n",
       "  </thead>\n",
       "  <tbody>\n",
       "    <tr>\n",
       "      <th>1129</th>\n",
       "      <td>Lenovo</td>\n",
       "      <td>Yoga Book</td>\n",
       "      <td>2 in 1 Convertible</td>\n",
       "      <td>10.1</td>\n",
       "      <td>IPS Panel Touchscreen 1920x1200</td>\n",
       "      <td>Intel Atom x5-Z8550 1.44GHz</td>\n",
       "      <td>4GB</td>\n",
       "      <td>64GB Flash Storage</td>\n",
       "      <td>Intel HD Graphics 400</td>\n",
       "      <td>Android</td>\n",
       "      <td>0.69kg</td>\n",
       "      <td>549.00</td>\n",
       "    </tr>\n",
       "    <tr>\n",
       "      <th>1141</th>\n",
       "      <td>Lenovo</td>\n",
       "      <td>Yoga Book</td>\n",
       "      <td>2 in 1 Convertible</td>\n",
       "      <td>10.1</td>\n",
       "      <td>IPS Panel Touchscreen 1920x1200</td>\n",
       "      <td>Intel Atom x5-Z8550 1.44GHz</td>\n",
       "      <td>4GB</td>\n",
       "      <td>64GB Flash Storage</td>\n",
       "      <td>Intel HD Graphics 400</td>\n",
       "      <td>Windows 10</td>\n",
       "      <td>0.69kg</td>\n",
       "      <td>479.00</td>\n",
       "    </tr>\n",
       "    <tr>\n",
       "      <th>1097</th>\n",
       "      <td>Lenovo</td>\n",
       "      <td>Yoga Book</td>\n",
       "      <td>2 in 1 Convertible</td>\n",
       "      <td>10.1</td>\n",
       "      <td>IPS Panel Touchscreen 1920x1200</td>\n",
       "      <td>Intel Atom x5-Z8550 1.44GHz</td>\n",
       "      <td>4GB</td>\n",
       "      <td>64GB Flash Storage</td>\n",
       "      <td>Intel HD Graphics 400</td>\n",
       "      <td>Windows 10</td>\n",
       "      <td>0.69kg</td>\n",
       "      <td>646.27</td>\n",
       "    </tr>\n",
       "    <tr>\n",
       "      <th>51</th>\n",
       "      <td>Lenovo</td>\n",
       "      <td>Yoga Book</td>\n",
       "      <td>2 in 1 Convertible</td>\n",
       "      <td>10.1</td>\n",
       "      <td>IPS Panel Touchscreen 1920x1200</td>\n",
       "      <td>Intel Atom x5-Z8550 1.44GHz</td>\n",
       "      <td>4GB</td>\n",
       "      <td>64GB Flash Storage</td>\n",
       "      <td>Intel HD Graphics 400</td>\n",
       "      <td>Android</td>\n",
       "      <td>0.69kg</td>\n",
       "      <td>319.00</td>\n",
       "    </tr>\n",
       "    <tr>\n",
       "      <th>958</th>\n",
       "      <td>Lenovo</td>\n",
       "      <td>Yoga 700-11ISK</td>\n",
       "      <td>2 in 1 Convertible</td>\n",
       "      <td>11.3</td>\n",
       "      <td>IPS Panel Full HD / Touchscreen 1920x1080</td>\n",
       "      <td>Intel Core M m7-6Y75 1.2GHz</td>\n",
       "      <td>8GB</td>\n",
       "      <td>256GB SSD</td>\n",
       "      <td>Intel HD Graphics 515</td>\n",
       "      <td>Windows 10</td>\n",
       "      <td>1.1kg</td>\n",
       "      <td>1299.00</td>\n",
       "    </tr>\n",
       "    <tr>\n",
       "      <th>...</th>\n",
       "      <td>...</td>\n",
       "      <td>...</td>\n",
       "      <td>...</td>\n",
       "      <td>...</td>\n",
       "      <td>...</td>\n",
       "      <td>...</td>\n",
       "      <td>...</td>\n",
       "      <td>...</td>\n",
       "      <td>...</td>\n",
       "      <td>...</td>\n",
       "      <td>...</td>\n",
       "      <td>...</td>\n",
       "    </tr>\n",
       "    <tr>\n",
       "      <th>1144</th>\n",
       "      <td>HP</td>\n",
       "      <td>Omen -</td>\n",
       "      <td>Gaming</td>\n",
       "      <td>17.3</td>\n",
       "      <td>IPS Panel Full HD 1920x1080</td>\n",
       "      <td>Intel Core i5 6300HQ 2.3GHz</td>\n",
       "      <td>8GB</td>\n",
       "      <td>128GB SSD +  1TB HDD</td>\n",
       "      <td>Nvidia GeForce GTX 1060</td>\n",
       "      <td>Windows 10</td>\n",
       "      <td>3.35kg</td>\n",
       "      <td>1129.00</td>\n",
       "    </tr>\n",
       "    <tr>\n",
       "      <th>585</th>\n",
       "      <td>MSI</td>\n",
       "      <td>GT73VR Titan</td>\n",
       "      <td>Gaming</td>\n",
       "      <td>17.3</td>\n",
       "      <td>Full HD 1920x1080</td>\n",
       "      <td>Intel Core i7 7820HK 2.9GHz</td>\n",
       "      <td>16GB</td>\n",
       "      <td>512GB SSD +  1TB HDD</td>\n",
       "      <td>Nvidia GeForce GTX 1070</td>\n",
       "      <td>Windows 10</td>\n",
       "      <td>4.14kg</td>\n",
       "      <td>2729.00</td>\n",
       "    </tr>\n",
       "    <tr>\n",
       "      <th>262</th>\n",
       "      <td>HP</td>\n",
       "      <td>Envy 17-U275cl</td>\n",
       "      <td>Notebook</td>\n",
       "      <td>17.3</td>\n",
       "      <td>IPS Panel Full HD 1920x1080</td>\n",
       "      <td>Intel Core i7 8550U 1.8GHz</td>\n",
       "      <td>16GB</td>\n",
       "      <td>1TB HDD</td>\n",
       "      <td>Nvidia GeForce MX150</td>\n",
       "      <td>Windows 10</td>\n",
       "      <td>2.9kg</td>\n",
       "      <td>1059.00</td>\n",
       "    </tr>\n",
       "    <tr>\n",
       "      <th>1151</th>\n",
       "      <td>HP</td>\n",
       "      <td>ZBook 17</td>\n",
       "      <td>Workstation</td>\n",
       "      <td>17.3</td>\n",
       "      <td>IPS Panel Full HD 1920x1080</td>\n",
       "      <td>Intel Core i7 6700HQ 2.6GHz</td>\n",
       "      <td>8GB</td>\n",
       "      <td>256GB SSD</td>\n",
       "      <td>Nvidia Quadro M3000M</td>\n",
       "      <td>Windows 7</td>\n",
       "      <td>3kg</td>\n",
       "      <td>3949.40</td>\n",
       "    </tr>\n",
       "    <tr>\n",
       "      <th>181</th>\n",
       "      <td>MSI</td>\n",
       "      <td>GT80S 6QF-074US</td>\n",
       "      <td>Gaming</td>\n",
       "      <td>18.4</td>\n",
       "      <td>Full HD 1920x1080</td>\n",
       "      <td>Intel Core i7 6920HQ 2.9GHz</td>\n",
       "      <td>32GB</td>\n",
       "      <td>512GB SSD +  1TB HDD</td>\n",
       "      <td>Nvidia GTX 980 SLI</td>\n",
       "      <td>Windows 10</td>\n",
       "      <td>4.4kg</td>\n",
       "      <td>2799.00</td>\n",
       "    </tr>\n",
       "  </tbody>\n",
       "</table>\n",
       "<p>1303 rows × 12 columns</p>\n",
       "</div>"
      ],
      "text/plain": [
       "          Company          Product            TypeName  Inches  \\\n",
       "laptop_ID                                                        \n",
       "1129       Lenovo        Yoga Book  2 in 1 Convertible    10.1   \n",
       "1141       Lenovo        Yoga Book  2 in 1 Convertible    10.1   \n",
       "1097       Lenovo        Yoga Book  2 in 1 Convertible    10.1   \n",
       "51         Lenovo        Yoga Book  2 in 1 Convertible    10.1   \n",
       "958        Lenovo   Yoga 700-11ISK  2 in 1 Convertible    11.3   \n",
       "...           ...              ...                 ...     ...   \n",
       "1144           HP           Omen -              Gaming    17.3   \n",
       "585           MSI     GT73VR Titan              Gaming    17.3   \n",
       "262            HP   Envy 17-U275cl            Notebook    17.3   \n",
       "1151           HP         ZBook 17         Workstation    17.3   \n",
       "181           MSI  GT80S 6QF-074US              Gaming    18.4   \n",
       "\n",
       "                                    ScreenResolution  \\\n",
       "laptop_ID                                              \n",
       "1129                 IPS Panel Touchscreen 1920x1200   \n",
       "1141                 IPS Panel Touchscreen 1920x1200   \n",
       "1097                 IPS Panel Touchscreen 1920x1200   \n",
       "51                   IPS Panel Touchscreen 1920x1200   \n",
       "958        IPS Panel Full HD / Touchscreen 1920x1080   \n",
       "...                                              ...   \n",
       "1144                     IPS Panel Full HD 1920x1080   \n",
       "585                                Full HD 1920x1080   \n",
       "262                      IPS Panel Full HD 1920x1080   \n",
       "1151                     IPS Panel Full HD 1920x1080   \n",
       "181                                Full HD 1920x1080   \n",
       "\n",
       "                                   Cpu   Ram                Memory  \\\n",
       "laptop_ID                                                            \n",
       "1129       Intel Atom x5-Z8550 1.44GHz   4GB    64GB Flash Storage   \n",
       "1141       Intel Atom x5-Z8550 1.44GHz   4GB    64GB Flash Storage   \n",
       "1097       Intel Atom x5-Z8550 1.44GHz   4GB    64GB Flash Storage   \n",
       "51         Intel Atom x5-Z8550 1.44GHz   4GB    64GB Flash Storage   \n",
       "958        Intel Core M m7-6Y75 1.2GHz   8GB             256GB SSD   \n",
       "...                                ...   ...                   ...   \n",
       "1144       Intel Core i5 6300HQ 2.3GHz   8GB  128GB SSD +  1TB HDD   \n",
       "585        Intel Core i7 7820HK 2.9GHz  16GB  512GB SSD +  1TB HDD   \n",
       "262         Intel Core i7 8550U 1.8GHz  16GB               1TB HDD   \n",
       "1151       Intel Core i7 6700HQ 2.6GHz   8GB             256GB SSD   \n",
       "181        Intel Core i7 6920HQ 2.9GHz  32GB  512GB SSD +  1TB HDD   \n",
       "\n",
       "                               Gpu       OpSys  Weight  Price_euros  \n",
       "laptop_ID                                                            \n",
       "1129         Intel HD Graphics 400     Android  0.69kg       549.00  \n",
       "1141         Intel HD Graphics 400  Windows 10  0.69kg       479.00  \n",
       "1097         Intel HD Graphics 400  Windows 10  0.69kg       646.27  \n",
       "51           Intel HD Graphics 400     Android  0.69kg       319.00  \n",
       "958          Intel HD Graphics 515  Windows 10   1.1kg      1299.00  \n",
       "...                            ...         ...     ...          ...  \n",
       "1144       Nvidia GeForce GTX 1060  Windows 10  3.35kg      1129.00  \n",
       "585        Nvidia GeForce GTX 1070  Windows 10  4.14kg      2729.00  \n",
       "262           Nvidia GeForce MX150  Windows 10   2.9kg      1059.00  \n",
       "1151          Nvidia Quadro M3000M   Windows 7     3kg      3949.40  \n",
       "181             Nvidia GTX 980 SLI  Windows 10   4.4kg      2799.00  \n",
       "\n",
       "[1303 rows x 12 columns]"
      ]
     },
     "execution_count": 45,
     "metadata": {},
     "output_type": "execute_result"
    }
   ],
   "source": [
    "df.sort_values(\"Inches\")"
   ]
  },
  {
   "cell_type": "code",
   "execution_count": 46,
   "id": "f72ff71d",
   "metadata": {},
   "outputs": [
    {
     "data": {
      "text/html": [
       "<div>\n",
       "<style scoped>\n",
       "    .dataframe tbody tr th:only-of-type {\n",
       "        vertical-align: middle;\n",
       "    }\n",
       "\n",
       "    .dataframe tbody tr th {\n",
       "        vertical-align: top;\n",
       "    }\n",
       "\n",
       "    .dataframe thead th {\n",
       "        text-align: right;\n",
       "    }\n",
       "</style>\n",
       "<table border=\"1\" class=\"dataframe\">\n",
       "  <thead>\n",
       "    <tr style=\"text-align: right;\">\n",
       "      <th></th>\n",
       "      <th>Company</th>\n",
       "      <th>TypeName</th>\n",
       "      <th>Inches</th>\n",
       "      <th>Price_euros</th>\n",
       "    </tr>\n",
       "    <tr>\n",
       "      <th>laptop_ID</th>\n",
       "      <th></th>\n",
       "      <th></th>\n",
       "      <th></th>\n",
       "      <th></th>\n",
       "    </tr>\n",
       "  </thead>\n",
       "  <tbody>\n",
       "    <tr>\n",
       "      <th>1129</th>\n",
       "      <td>Lenovo</td>\n",
       "      <td>2 in 1 Convertible</td>\n",
       "      <td>10.1</td>\n",
       "      <td>549.00</td>\n",
       "    </tr>\n",
       "    <tr>\n",
       "      <th>1141</th>\n",
       "      <td>Lenovo</td>\n",
       "      <td>2 in 1 Convertible</td>\n",
       "      <td>10.1</td>\n",
       "      <td>479.00</td>\n",
       "    </tr>\n",
       "    <tr>\n",
       "      <th>1097</th>\n",
       "      <td>Lenovo</td>\n",
       "      <td>2 in 1 Convertible</td>\n",
       "      <td>10.1</td>\n",
       "      <td>646.27</td>\n",
       "    </tr>\n",
       "    <tr>\n",
       "      <th>51</th>\n",
       "      <td>Lenovo</td>\n",
       "      <td>2 in 1 Convertible</td>\n",
       "      <td>10.1</td>\n",
       "      <td>319.00</td>\n",
       "    </tr>\n",
       "    <tr>\n",
       "      <th>958</th>\n",
       "      <td>Lenovo</td>\n",
       "      <td>2 in 1 Convertible</td>\n",
       "      <td>11.3</td>\n",
       "      <td>1299.00</td>\n",
       "    </tr>\n",
       "    <tr>\n",
       "      <th>...</th>\n",
       "      <td>...</td>\n",
       "      <td>...</td>\n",
       "      <td>...</td>\n",
       "      <td>...</td>\n",
       "    </tr>\n",
       "    <tr>\n",
       "      <th>1144</th>\n",
       "      <td>HP</td>\n",
       "      <td>Gaming</td>\n",
       "      <td>17.3</td>\n",
       "      <td>1129.00</td>\n",
       "    </tr>\n",
       "    <tr>\n",
       "      <th>585</th>\n",
       "      <td>MSI</td>\n",
       "      <td>Gaming</td>\n",
       "      <td>17.3</td>\n",
       "      <td>2729.00</td>\n",
       "    </tr>\n",
       "    <tr>\n",
       "      <th>262</th>\n",
       "      <td>HP</td>\n",
       "      <td>Notebook</td>\n",
       "      <td>17.3</td>\n",
       "      <td>1059.00</td>\n",
       "    </tr>\n",
       "    <tr>\n",
       "      <th>1151</th>\n",
       "      <td>HP</td>\n",
       "      <td>Workstation</td>\n",
       "      <td>17.3</td>\n",
       "      <td>3949.40</td>\n",
       "    </tr>\n",
       "    <tr>\n",
       "      <th>181</th>\n",
       "      <td>MSI</td>\n",
       "      <td>Gaming</td>\n",
       "      <td>18.4</td>\n",
       "      <td>2799.00</td>\n",
       "    </tr>\n",
       "  </tbody>\n",
       "</table>\n",
       "<p>1303 rows × 4 columns</p>\n",
       "</div>"
      ],
      "text/plain": [
       "          Company            TypeName  Inches  Price_euros\n",
       "laptop_ID                                                 \n",
       "1129       Lenovo  2 in 1 Convertible    10.1       549.00\n",
       "1141       Lenovo  2 in 1 Convertible    10.1       479.00\n",
       "1097       Lenovo  2 in 1 Convertible    10.1       646.27\n",
       "51         Lenovo  2 in 1 Convertible    10.1       319.00\n",
       "958        Lenovo  2 in 1 Convertible    11.3      1299.00\n",
       "...           ...                 ...     ...          ...\n",
       "1144           HP              Gaming    17.3      1129.00\n",
       "585           MSI              Gaming    17.3      2729.00\n",
       "262            HP            Notebook    17.3      1059.00\n",
       "1151           HP         Workstation    17.3      3949.40\n",
       "181           MSI              Gaming    18.4      2799.00\n",
       "\n",
       "[1303 rows x 4 columns]"
      ]
     },
     "execution_count": 46,
     "metadata": {},
     "output_type": "execute_result"
    }
   ],
   "source": [
    "df.sort_values(\"Inches\")[[\"Company\", \"TypeName\", \"Inches\", \"Price_euros\"]]"
   ]
  },
  {
   "cell_type": "code",
   "execution_count": 47,
   "id": "e3c96efb",
   "metadata": {},
   "outputs": [
    {
     "data": {
      "text/html": [
       "<div>\n",
       "<style scoped>\n",
       "    .dataframe tbody tr th:only-of-type {\n",
       "        vertical-align: middle;\n",
       "    }\n",
       "\n",
       "    .dataframe tbody tr th {\n",
       "        vertical-align: top;\n",
       "    }\n",
       "\n",
       "    .dataframe thead th {\n",
       "        text-align: right;\n",
       "    }\n",
       "</style>\n",
       "<table border=\"1\" class=\"dataframe\">\n",
       "  <thead>\n",
       "    <tr style=\"text-align: right;\">\n",
       "      <th></th>\n",
       "      <th>Company</th>\n",
       "      <th>TypeName</th>\n",
       "      <th>Inches</th>\n",
       "      <th>Price_euros</th>\n",
       "    </tr>\n",
       "    <tr>\n",
       "      <th>laptop_ID</th>\n",
       "      <th></th>\n",
       "      <th></th>\n",
       "      <th></th>\n",
       "      <th></th>\n",
       "    </tr>\n",
       "  </thead>\n",
       "  <tbody>\n",
       "    <tr>\n",
       "      <th>1129</th>\n",
       "      <td>Lenovo</td>\n",
       "      <td>2 in 1 Convertible</td>\n",
       "      <td>10.1</td>\n",
       "      <td>549.00</td>\n",
       "    </tr>\n",
       "    <tr>\n",
       "      <th>1141</th>\n",
       "      <td>Lenovo</td>\n",
       "      <td>2 in 1 Convertible</td>\n",
       "      <td>10.1</td>\n",
       "      <td>479.00</td>\n",
       "    </tr>\n",
       "    <tr>\n",
       "      <th>1097</th>\n",
       "      <td>Lenovo</td>\n",
       "      <td>2 in 1 Convertible</td>\n",
       "      <td>10.1</td>\n",
       "      <td>646.27</td>\n",
       "    </tr>\n",
       "    <tr>\n",
       "      <th>51</th>\n",
       "      <td>Lenovo</td>\n",
       "      <td>2 in 1 Convertible</td>\n",
       "      <td>10.1</td>\n",
       "      <td>319.00</td>\n",
       "    </tr>\n",
       "  </tbody>\n",
       "</table>\n",
       "</div>"
      ],
      "text/plain": [
       "          Company            TypeName  Inches  Price_euros\n",
       "laptop_ID                                                 \n",
       "1129       Lenovo  2 in 1 Convertible    10.1       549.00\n",
       "1141       Lenovo  2 in 1 Convertible    10.1       479.00\n",
       "1097       Lenovo  2 in 1 Convertible    10.1       646.27\n",
       "51         Lenovo  2 in 1 Convertible    10.1       319.00"
      ]
     },
     "execution_count": 47,
     "metadata": {},
     "output_type": "execute_result"
    }
   ],
   "source": [
    "df.sort_values(\"Inches\")[[\"Company\", \"TypeName\", \"Inches\", \"Price_euros\"]].head(4)"
   ]
  },
  {
   "cell_type": "markdown",
   "id": "69ef27f6",
   "metadata": {},
   "source": [
    "### 4.2 Сколько стоит самый дорогой ноутбук у компании HP?\n"
   ]
  },
  {
   "cell_type": "code",
   "execution_count": 48,
   "id": "20bd7f7c",
   "metadata": {},
   "outputs": [
    {
     "data": {
      "text/plain": [
       "Company                                        HP\n",
       "Product                                  Zbook 17\n",
       "TypeName                              Workstation\n",
       "Inches                                       17.3\n",
       "ScreenResolution            Touchscreen 2560x1440\n",
       "Cpu                 Intel Xeon E3-1535M v5 2.9GHz\n",
       "Ram                                           8GB\n",
       "Memory                                    8GB SSD\n",
       "Gpu                          Nvidia Quadro M3000M\n",
       "OpSys                                   Windows 7\n",
       "Weight                                        3kg\n",
       "Price_euros                                4389.0\n",
       "dtype: object"
      ]
     },
     "execution_count": 48,
     "metadata": {},
     "output_type": "execute_result"
    }
   ],
   "source": [
    "df[df['Company'] == 'HP'].max()"
   ]
  },
  {
   "cell_type": "code",
   "execution_count": 49,
   "id": "c574da71",
   "metadata": {},
   "outputs": [
    {
     "data": {
      "text/plain": [
       "4389.0"
      ]
     },
     "execution_count": 49,
     "metadata": {},
     "output_type": "execute_result"
    }
   ],
   "source": [
    "df[df['Company'] == 'HP']['Price_euros'].max()"
   ]
  },
  {
   "cell_type": "code",
   "execution_count": 50,
   "id": "47c3285b",
   "metadata": {},
   "outputs": [
    {
     "data": {
      "text/html": [
       "<div>\n",
       "<style scoped>\n",
       "    .dataframe tbody tr th:only-of-type {\n",
       "        vertical-align: middle;\n",
       "    }\n",
       "\n",
       "    .dataframe tbody tr th {\n",
       "        vertical-align: top;\n",
       "    }\n",
       "\n",
       "    .dataframe thead th {\n",
       "        text-align: right;\n",
       "    }\n",
       "</style>\n",
       "<table border=\"1\" class=\"dataframe\">\n",
       "  <thead>\n",
       "    <tr style=\"text-align: right;\">\n",
       "      <th></th>\n",
       "      <th>Company</th>\n",
       "      <th>Product</th>\n",
       "      <th>TypeName</th>\n",
       "      <th>Inches</th>\n",
       "      <th>ScreenResolution</th>\n",
       "      <th>Cpu</th>\n",
       "      <th>Ram</th>\n",
       "      <th>Memory</th>\n",
       "      <th>Gpu</th>\n",
       "      <th>OpSys</th>\n",
       "      <th>Weight</th>\n",
       "      <th>Price_euros</th>\n",
       "    </tr>\n",
       "    <tr>\n",
       "      <th>laptop_ID</th>\n",
       "      <th></th>\n",
       "      <th></th>\n",
       "      <th></th>\n",
       "      <th></th>\n",
       "      <th></th>\n",
       "      <th></th>\n",
       "      <th></th>\n",
       "      <th></th>\n",
       "      <th></th>\n",
       "      <th></th>\n",
       "      <th></th>\n",
       "      <th></th>\n",
       "    </tr>\n",
       "  </thead>\n",
       "  <tbody>\n",
       "    <tr>\n",
       "      <th>758</th>\n",
       "      <td>HP</td>\n",
       "      <td>Zbook 17</td>\n",
       "      <td>Workstation</td>\n",
       "      <td>17.3</td>\n",
       "      <td>IPS Panel Full HD 1920x1080</td>\n",
       "      <td>Intel Xeon E3-1535M v5 2.9GHz</td>\n",
       "      <td>16GB</td>\n",
       "      <td>256GB SSD</td>\n",
       "      <td>Nvidia Quadro M2000M</td>\n",
       "      <td>Windows 7</td>\n",
       "      <td>3kg</td>\n",
       "      <td>4389.0</td>\n",
       "    </tr>\n",
       "  </tbody>\n",
       "</table>\n",
       "</div>"
      ],
      "text/plain": [
       "          Company   Product     TypeName  Inches             ScreenResolution  \\\n",
       "laptop_ID                                                                       \n",
       "758            HP  Zbook 17  Workstation    17.3  IPS Panel Full HD 1920x1080   \n",
       "\n",
       "                                     Cpu   Ram     Memory  \\\n",
       "laptop_ID                                                   \n",
       "758        Intel Xeon E3-1535M v5 2.9GHz  16GB  256GB SSD   \n",
       "\n",
       "                            Gpu      OpSys Weight  Price_euros  \n",
       "laptop_ID                                                       \n",
       "758        Nvidia Quadro M2000M  Windows 7    3kg       4389.0  "
      ]
     },
     "execution_count": 50,
     "metadata": {},
     "output_type": "execute_result"
    }
   ],
   "source": [
    "df[df['Company'] == 'HP'].sort_values('Price_euros', ascending = False).head(1)"
   ]
  },
  {
   "cell_type": "code",
   "execution_count": 51,
   "id": "6987562a",
   "metadata": {},
   "outputs": [
    {
     "data": {
      "text/plain": [
       "Company                                        HP\n",
       "Product                                  Zbook 17\n",
       "TypeName                              Workstation\n",
       "Inches                                       17.3\n",
       "ScreenResolution      IPS Panel Full HD 1920x1080\n",
       "Cpu                 Intel Xeon E3-1535M v5 2.9GHz\n",
       "Ram                                          16GB\n",
       "Memory                                  256GB SSD\n",
       "Gpu                          Nvidia Quadro M2000M\n",
       "OpSys                                   Windows 7\n",
       "Weight                                        3kg\n",
       "Price_euros                                4389.0\n",
       "Name: 758, dtype: object"
      ]
     },
     "execution_count": 51,
     "metadata": {},
     "output_type": "execute_result"
    }
   ],
   "source": [
    "df[df['Company'] == 'HP'].sort_values('Price_euros', ascending = False).iloc[0]"
   ]
  },
  {
   "cell_type": "code",
   "execution_count": 52,
   "id": "849fd0a1",
   "metadata": {},
   "outputs": [
    {
     "data": {
      "text/plain": [
       "4389.0"
      ]
     },
     "execution_count": 52,
     "metadata": {},
     "output_type": "execute_result"
    }
   ],
   "source": [
    "df[df['Company'] == 'HP']['Price_euros'].max()"
   ]
  },
  {
   "cell_type": "markdown",
   "id": "d317ebd2",
   "metadata": {},
   "source": [
    "### 4.3 Как много ноутбуков Ultrabook с 8GB RAM?\n",
    "Найдите сколько таких ультрабуков с 8GB ОЗУ в процентном соотношении относительно всех ультрабуков\n"
   ]
  },
  {
   "cell_type": "code",
   "execution_count": 53,
   "id": "5af3ba2c",
   "metadata": {},
   "outputs": [
    {
     "data": {
      "text/plain": [
       "Company  Product               TypeName   Inches  ScreenResolution                     Cpu                         Ram  Memory     Gpu                     OpSys       Weight  Price_euros\n",
       "Asus     ZenBook UX305CA-UBM1  Ultrabook  13.3    IPS Panel Full HD 1920x1080          Intel Core M 6Y30 0.9GHz    8GB  512GB SSD  Intel HD Graphics 515   Windows 10  1.2kg   729.00         3\n",
       "Acer     Swift 3               Ultrabook  14.0    IPS Panel Full HD 1920x1080          Intel Core i5 7200U 2.5GHz  8GB  256GB SSD  Intel Graphics 620      Windows 10  1.8kg   919.00         1\n",
       "HP       Envy 13-ad009n        Ultrabook  13.3    IPS Panel Full HD 1920x1080          Intel Core i7 7500U 2.7GHz  8GB  256GB SSD  Nvidia GeForce MX150    Windows 10  1.38kg  1119.00        1\n",
       "         Elitebook 820         Ultrabook  12.5    Full HD 1920x1080                    Intel Core i7 7500U 2.7GHz  8GB  256GB SSD  Intel HD Graphics 620   Windows 10  1.26kg  1335.00        1\n",
       "         Elitebook Folio       Ultrabook  12.5    4K Ultra HD / Touchscreen 3840x2160  Intel Core M 6Y75 1.2GHz    8GB  240GB SSD  Intel HD Graphics 515   Windows 10  1.09kg  3100.00        1\n",
       "                                                                                                                                                                                             ..\n",
       "Dell     Latitude 7390         Ultrabook  13.3    Full HD / Touchscreen 1920x1080      Intel Core i5 8250U 1.6GHz  8GB  256GB SSD  Intel UHD Graphics 620  Windows 10  1.42kg  1841.85        1\n",
       "         Latitude 7280         Ultrabook  12.5    Full HD 1920x1080                    Intel Core i7 7600U 2.8GHz  8GB  256GB SSD  Intel HD Graphics 620   Windows 10  1.6kg   1690.00        1\n",
       "                                                  Full HD / Touchscreen 1920x1080      Intel Core i5 7200U 2.5GHz  8GB  256GB SSD  Intel HD Graphics       Windows 10  1.36kg  1472.20        1\n",
       "         Latitude 5590         Ultrabook  15.6    IPS Panel Full HD 1920x1080          Intel Core i5 8250U 1.6GHz  8GB  256GB SSD  Intel UHD Graphics 620  Windows 10  1.88kg  1096.16        1\n",
       "Xiaomi   Mi Notebook           Ultrabook  13.3    IPS Panel Full HD 1920x1080          Intel Core i5 7200U 2.5GHz  8GB  256GB SSD  Nvidia GeForce MX150    No OS       1.3kg   999.90         1\n",
       "Name: count, Length: 138, dtype: int64"
      ]
     },
     "execution_count": 53,
     "metadata": {},
     "output_type": "execute_result"
    }
   ],
   "source": [
    "df[(df[\"TypeName\"] == \"Ultrabook\") & (df[\"Ram\"] == \"8GB\")].value_counts()"
   ]
  },
  {
   "cell_type": "code",
   "execution_count": 54,
   "id": "891b5108",
   "metadata": {},
   "outputs": [
    {
     "data": {
      "text/html": [
       "<div>\n",
       "<style scoped>\n",
       "    .dataframe tbody tr th:only-of-type {\n",
       "        vertical-align: middle;\n",
       "    }\n",
       "\n",
       "    .dataframe tbody tr th {\n",
       "        vertical-align: top;\n",
       "    }\n",
       "\n",
       "    .dataframe thead th {\n",
       "        text-align: right;\n",
       "    }\n",
       "</style>\n",
       "<table border=\"1\" class=\"dataframe\">\n",
       "  <thead>\n",
       "    <tr style=\"text-align: right;\">\n",
       "      <th></th>\n",
       "      <th>Company</th>\n",
       "      <th>Product</th>\n",
       "      <th>TypeName</th>\n",
       "      <th>Inches</th>\n",
       "      <th>ScreenResolution</th>\n",
       "      <th>Cpu</th>\n",
       "      <th>Ram</th>\n",
       "      <th>Memory</th>\n",
       "      <th>Gpu</th>\n",
       "      <th>OpSys</th>\n",
       "      <th>Weight</th>\n",
       "      <th>Price_euros</th>\n",
       "    </tr>\n",
       "    <tr>\n",
       "      <th>laptop_ID</th>\n",
       "      <th></th>\n",
       "      <th></th>\n",
       "      <th></th>\n",
       "      <th></th>\n",
       "      <th></th>\n",
       "      <th></th>\n",
       "      <th></th>\n",
       "      <th></th>\n",
       "      <th></th>\n",
       "      <th></th>\n",
       "      <th></th>\n",
       "      <th></th>\n",
       "    </tr>\n",
       "  </thead>\n",
       "  <tbody>\n",
       "    <tr>\n",
       "      <th>1</th>\n",
       "      <td>Apple</td>\n",
       "      <td>MacBook Pro</td>\n",
       "      <td>Ultrabook</td>\n",
       "      <td>13.3</td>\n",
       "      <td>IPS Panel Retina Display 2560x1600</td>\n",
       "      <td>Intel Core i5 2.3GHz</td>\n",
       "      <td>8GB</td>\n",
       "      <td>128GB SSD</td>\n",
       "      <td>Intel Iris Plus Graphics 640</td>\n",
       "      <td>macOS</td>\n",
       "      <td>1.37kg</td>\n",
       "      <td>1339.69</td>\n",
       "    </tr>\n",
       "    <tr>\n",
       "      <th>2</th>\n",
       "      <td>Apple</td>\n",
       "      <td>Macbook Air</td>\n",
       "      <td>Ultrabook</td>\n",
       "      <td>13.3</td>\n",
       "      <td>1440x900</td>\n",
       "      <td>Intel Core i5 1.8GHz</td>\n",
       "      <td>8GB</td>\n",
       "      <td>128GB Flash Storage</td>\n",
       "      <td>Intel HD Graphics 6000</td>\n",
       "      <td>macOS</td>\n",
       "      <td>1.34kg</td>\n",
       "      <td>898.94</td>\n",
       "    </tr>\n",
       "    <tr>\n",
       "      <th>5</th>\n",
       "      <td>Apple</td>\n",
       "      <td>MacBook Pro</td>\n",
       "      <td>Ultrabook</td>\n",
       "      <td>13.3</td>\n",
       "      <td>IPS Panel Retina Display 2560x1600</td>\n",
       "      <td>Intel Core i5 3.1GHz</td>\n",
       "      <td>8GB</td>\n",
       "      <td>256GB SSD</td>\n",
       "      <td>Intel Iris Plus Graphics 650</td>\n",
       "      <td>macOS</td>\n",
       "      <td>1.37kg</td>\n",
       "      <td>1803.60</td>\n",
       "    </tr>\n",
       "    <tr>\n",
       "      <th>8</th>\n",
       "      <td>Apple</td>\n",
       "      <td>Macbook Air</td>\n",
       "      <td>Ultrabook</td>\n",
       "      <td>13.3</td>\n",
       "      <td>1440x900</td>\n",
       "      <td>Intel Core i5 1.8GHz</td>\n",
       "      <td>8GB</td>\n",
       "      <td>256GB Flash Storage</td>\n",
       "      <td>Intel HD Graphics 6000</td>\n",
       "      <td>macOS</td>\n",
       "      <td>1.34kg</td>\n",
       "      <td>1158.70</td>\n",
       "    </tr>\n",
       "    <tr>\n",
       "      <th>10</th>\n",
       "      <td>Acer</td>\n",
       "      <td>Swift 3</td>\n",
       "      <td>Ultrabook</td>\n",
       "      <td>14.0</td>\n",
       "      <td>IPS Panel Full HD 1920x1080</td>\n",
       "      <td>Intel Core i5 8250U 1.6GHz</td>\n",
       "      <td>8GB</td>\n",
       "      <td>256GB SSD</td>\n",
       "      <td>Intel UHD Graphics 620</td>\n",
       "      <td>Windows 10</td>\n",
       "      <td>1.6kg</td>\n",
       "      <td>770.00</td>\n",
       "    </tr>\n",
       "    <tr>\n",
       "      <th>...</th>\n",
       "      <td>...</td>\n",
       "      <td>...</td>\n",
       "      <td>...</td>\n",
       "      <td>...</td>\n",
       "      <td>...</td>\n",
       "      <td>...</td>\n",
       "      <td>...</td>\n",
       "      <td>...</td>\n",
       "      <td>...</td>\n",
       "      <td>...</td>\n",
       "      <td>...</td>\n",
       "      <td>...</td>\n",
       "    </tr>\n",
       "    <tr>\n",
       "      <th>1254</th>\n",
       "      <td>HP</td>\n",
       "      <td>EliteBook 840</td>\n",
       "      <td>Ultrabook</td>\n",
       "      <td>14.0</td>\n",
       "      <td>2560x1440</td>\n",
       "      <td>Intel Core i7 6500U 2.5GHz</td>\n",
       "      <td>8GB</td>\n",
       "      <td>256GB SSD</td>\n",
       "      <td>Intel HD Graphics 520</td>\n",
       "      <td>Windows 7</td>\n",
       "      <td>1.54kg</td>\n",
       "      <td>2198.19</td>\n",
       "    </tr>\n",
       "    <tr>\n",
       "      <th>1259</th>\n",
       "      <td>Asus</td>\n",
       "      <td>ZenBook UX310UA-WB71</td>\n",
       "      <td>Ultrabook</td>\n",
       "      <td>13.3</td>\n",
       "      <td>Full HD 1920x1080</td>\n",
       "      <td>Intel Core i7 6500U 2.5GHz</td>\n",
       "      <td>8GB</td>\n",
       "      <td>256GB SSD</td>\n",
       "      <td>Intel HD Graphics 520</td>\n",
       "      <td>Windows 10</td>\n",
       "      <td>1.45kg</td>\n",
       "      <td>1280.00</td>\n",
       "    </tr>\n",
       "    <tr>\n",
       "      <th>1279</th>\n",
       "      <td>Asus</td>\n",
       "      <td>ZenBook UX305CA-UBM1</td>\n",
       "      <td>Ultrabook</td>\n",
       "      <td>13.3</td>\n",
       "      <td>IPS Panel Full HD 1920x1080</td>\n",
       "      <td>Intel Core M 6Y30 0.9GHz</td>\n",
       "      <td>8GB</td>\n",
       "      <td>512GB SSD</td>\n",
       "      <td>Intel HD Graphics 515</td>\n",
       "      <td>Windows 10</td>\n",
       "      <td>1.2kg</td>\n",
       "      <td>729.00</td>\n",
       "    </tr>\n",
       "    <tr>\n",
       "      <th>1293</th>\n",
       "      <td>Asus</td>\n",
       "      <td>ZenBook UX305CA-UBM1</td>\n",
       "      <td>Ultrabook</td>\n",
       "      <td>13.3</td>\n",
       "      <td>IPS Panel Full HD 1920x1080</td>\n",
       "      <td>Intel Core M 6Y30 0.9GHz</td>\n",
       "      <td>8GB</td>\n",
       "      <td>512GB SSD</td>\n",
       "      <td>Intel HD Graphics 515</td>\n",
       "      <td>Windows 10</td>\n",
       "      <td>1.2kg</td>\n",
       "      <td>729.00</td>\n",
       "    </tr>\n",
       "    <tr>\n",
       "      <th>1307</th>\n",
       "      <td>Asus</td>\n",
       "      <td>ZenBook UX305CA-UBM1</td>\n",
       "      <td>Ultrabook</td>\n",
       "      <td>13.3</td>\n",
       "      <td>IPS Panel Full HD 1920x1080</td>\n",
       "      <td>Intel Core M 6Y30 0.9GHz</td>\n",
       "      <td>8GB</td>\n",
       "      <td>512GB SSD</td>\n",
       "      <td>Intel HD Graphics 515</td>\n",
       "      <td>Windows 10</td>\n",
       "      <td>1.2kg</td>\n",
       "      <td>729.00</td>\n",
       "    </tr>\n",
       "  </tbody>\n",
       "</table>\n",
       "<p>140 rows × 12 columns</p>\n",
       "</div>"
      ],
      "text/plain": [
       "          Company               Product   TypeName  Inches  \\\n",
       "laptop_ID                                                    \n",
       "1           Apple           MacBook Pro  Ultrabook    13.3   \n",
       "2           Apple           Macbook Air  Ultrabook    13.3   \n",
       "5           Apple           MacBook Pro  Ultrabook    13.3   \n",
       "8           Apple           Macbook Air  Ultrabook    13.3   \n",
       "10           Acer               Swift 3  Ultrabook    14.0   \n",
       "...           ...                   ...        ...     ...   \n",
       "1254           HP         EliteBook 840  Ultrabook    14.0   \n",
       "1259         Asus  ZenBook UX310UA-WB71  Ultrabook    13.3   \n",
       "1279         Asus  ZenBook UX305CA-UBM1  Ultrabook    13.3   \n",
       "1293         Asus  ZenBook UX305CA-UBM1  Ultrabook    13.3   \n",
       "1307         Asus  ZenBook UX305CA-UBM1  Ultrabook    13.3   \n",
       "\n",
       "                             ScreenResolution                         Cpu  \\\n",
       "laptop_ID                                                                   \n",
       "1          IPS Panel Retina Display 2560x1600        Intel Core i5 2.3GHz   \n",
       "2                                    1440x900        Intel Core i5 1.8GHz   \n",
       "5          IPS Panel Retina Display 2560x1600        Intel Core i5 3.1GHz   \n",
       "8                                    1440x900        Intel Core i5 1.8GHz   \n",
       "10                IPS Panel Full HD 1920x1080  Intel Core i5 8250U 1.6GHz   \n",
       "...                                       ...                         ...   \n",
       "1254                                2560x1440  Intel Core i7 6500U 2.5GHz   \n",
       "1259                        Full HD 1920x1080  Intel Core i7 6500U 2.5GHz   \n",
       "1279              IPS Panel Full HD 1920x1080    Intel Core M 6Y30 0.9GHz   \n",
       "1293              IPS Panel Full HD 1920x1080    Intel Core M 6Y30 0.9GHz   \n",
       "1307              IPS Panel Full HD 1920x1080    Intel Core M 6Y30 0.9GHz   \n",
       "\n",
       "           Ram               Memory                           Gpu       OpSys  \\\n",
       "laptop_ID                                                                       \n",
       "1          8GB            128GB SSD  Intel Iris Plus Graphics 640       macOS   \n",
       "2          8GB  128GB Flash Storage        Intel HD Graphics 6000       macOS   \n",
       "5          8GB            256GB SSD  Intel Iris Plus Graphics 650       macOS   \n",
       "8          8GB  256GB Flash Storage        Intel HD Graphics 6000       macOS   \n",
       "10         8GB            256GB SSD        Intel UHD Graphics 620  Windows 10   \n",
       "...        ...                  ...                           ...         ...   \n",
       "1254       8GB            256GB SSD         Intel HD Graphics 520   Windows 7   \n",
       "1259       8GB            256GB SSD         Intel HD Graphics 520  Windows 10   \n",
       "1279       8GB            512GB SSD         Intel HD Graphics 515  Windows 10   \n",
       "1293       8GB            512GB SSD         Intel HD Graphics 515  Windows 10   \n",
       "1307       8GB            512GB SSD         Intel HD Graphics 515  Windows 10   \n",
       "\n",
       "           Weight  Price_euros  \n",
       "laptop_ID                       \n",
       "1          1.37kg      1339.69  \n",
       "2          1.34kg       898.94  \n",
       "5          1.37kg      1803.60  \n",
       "8          1.34kg      1158.70  \n",
       "10          1.6kg       770.00  \n",
       "...           ...          ...  \n",
       "1254       1.54kg      2198.19  \n",
       "1259       1.45kg      1280.00  \n",
       "1279        1.2kg       729.00  \n",
       "1293        1.2kg       729.00  \n",
       "1307        1.2kg       729.00  \n",
       "\n",
       "[140 rows x 12 columns]"
      ]
     },
     "execution_count": 54,
     "metadata": {},
     "output_type": "execute_result"
    }
   ],
   "source": [
    "df[(df[\"TypeName\"] == \"Ultrabook\") & (df[\"Ram\"] == \"8GB\")]"
   ]
  },
  {
   "cell_type": "code",
   "execution_count": 55,
   "id": "d9251c0e",
   "metadata": {},
   "outputs": [
    {
     "data": {
      "text/plain": [
       "Company  Product               TypeName   Inches  ScreenResolution                     Cpu                         Ram  Memory     Gpu                     OpSys       Weight  Price_euros\n",
       "Asus     ZenBook UX305CA-UBM1  Ultrabook  13.3    IPS Panel Full HD 1920x1080          Intel Core M 6Y30 0.9GHz    8GB  512GB SSD  Intel HD Graphics 515   Windows 10  1.2kg   729.00         3\n",
       "Acer     Swift 3               Ultrabook  14.0    IPS Panel Full HD 1920x1080          Intel Core i5 7200U 2.5GHz  8GB  256GB SSD  Intel Graphics 620      Windows 10  1.8kg   919.00         1\n",
       "HP       Envy 13-ad009n        Ultrabook  13.3    IPS Panel Full HD 1920x1080          Intel Core i7 7500U 2.7GHz  8GB  256GB SSD  Nvidia GeForce MX150    Windows 10  1.38kg  1119.00        1\n",
       "         Elitebook 820         Ultrabook  12.5    Full HD 1920x1080                    Intel Core i7 7500U 2.7GHz  8GB  256GB SSD  Intel HD Graphics 620   Windows 10  1.26kg  1335.00        1\n",
       "         Elitebook Folio       Ultrabook  12.5    4K Ultra HD / Touchscreen 3840x2160  Intel Core M 6Y75 1.2GHz    8GB  240GB SSD  Intel HD Graphics 515   Windows 10  1.09kg  3100.00        1\n",
       "                                                                                                                                                                                             ..\n",
       "Dell     Latitude 7390         Ultrabook  13.3    Full HD / Touchscreen 1920x1080      Intel Core i5 8250U 1.6GHz  8GB  256GB SSD  Intel UHD Graphics 620  Windows 10  1.42kg  1841.85        1\n",
       "         Latitude 7280         Ultrabook  12.5    Full HD 1920x1080                    Intel Core i7 7600U 2.8GHz  8GB  256GB SSD  Intel HD Graphics 620   Windows 10  1.6kg   1690.00        1\n",
       "                                                  Full HD / Touchscreen 1920x1080      Intel Core i5 7200U 2.5GHz  8GB  256GB SSD  Intel HD Graphics       Windows 10  1.36kg  1472.20        1\n",
       "         Latitude 5590         Ultrabook  15.6    IPS Panel Full HD 1920x1080          Intel Core i5 8250U 1.6GHz  8GB  256GB SSD  Intel UHD Graphics 620  Windows 10  1.88kg  1096.16        1\n",
       "Xiaomi   Mi Notebook           Ultrabook  13.3    IPS Panel Full HD 1920x1080          Intel Core i5 7200U 2.5GHz  8GB  256GB SSD  Nvidia GeForce MX150    No OS       1.3kg   999.90         1\n",
       "Name: count, Length: 138, dtype: int64"
      ]
     },
     "execution_count": 55,
     "metadata": {},
     "output_type": "execute_result"
    }
   ],
   "source": [
    "df[(df[\"TypeName\"] == \"Ultrabook\") & (df[\"Ram\"] == \"8GB\")].value_counts()"
   ]
  },
  {
   "cell_type": "code",
   "execution_count": 56,
   "id": "364f4598",
   "metadata": {},
   "outputs": [
    {
     "data": {
      "text/plain": [
       "140"
      ]
     },
     "execution_count": 56,
     "metadata": {},
     "output_type": "execute_result"
    }
   ],
   "source": [
    "df[(df[\"TypeName\"] == \"Ultrabook\") & (df[\"Ram\"] == \"8GB\")].shape[0]"
   ]
  },
  {
   "cell_type": "code",
   "execution_count": 57,
   "id": "fab27af2",
   "metadata": {},
   "outputs": [
    {
     "data": {
      "text/plain": [
       "196"
      ]
     },
     "execution_count": 57,
     "metadata": {},
     "output_type": "execute_result"
    }
   ],
   "source": [
    "df[(df[\"TypeName\"] == \"Ultrabook\")].shape[0]"
   ]
  },
  {
   "cell_type": "code",
   "execution_count": 58,
   "id": "3d1035d5",
   "metadata": {},
   "outputs": [
    {
     "data": {
      "text/plain": [
       "71.42857142857143"
      ]
     },
     "execution_count": 58,
     "metadata": {},
     "output_type": "execute_result"
    }
   ],
   "source": [
    "ultra_8gb = df[(df[\"TypeName\"] == \"Ultrabook\") & (df[\"Ram\"] == \"8GB\")].shape[0]\n",
    "ultra = df[(df[\"TypeName\"] == \"Ultrabook\")].shape[0]\n",
    "ultra_8gb / ultra * 100"
   ]
  },
  {
   "cell_type": "code",
   "execution_count": 59,
   "id": "1278bf94",
   "metadata": {},
   "outputs": [
    {
     "data": {
      "text/plain": [
       "Ram\n",
       "8GB     0.714286\n",
       "16GB    0.183673\n",
       "4GB     0.071429\n",
       "12GB    0.015306\n",
       "24GB    0.005102\n",
       "32GB    0.005102\n",
       "6GB     0.005102\n",
       "Name: proportion, dtype: float64"
      ]
     },
     "execution_count": 59,
     "metadata": {},
     "output_type": "execute_result"
    }
   ],
   "source": [
    "df[df['TypeName'] == 'Ultrabook']['Ram'].value_counts(normalize=True)"
   ]
  },
  {
   "cell_type": "code",
   "execution_count": 60,
   "id": "54617b3f",
   "metadata": {},
   "outputs": [
    {
     "data": {
      "text/plain": [
       "71.43"
      ]
     },
     "execution_count": 60,
     "metadata": {},
     "output_type": "execute_result"
    }
   ],
   "source": [
    "df[df['TypeName'] == 'Ultrabook'].value_counts('Ram', normalize=True)['8GB'].round(4)*100"
   ]
  },
  {
   "cell_type": "code",
   "execution_count": 61,
   "id": "8f01aebd",
   "metadata": {},
   "outputs": [
    {
     "data": {
      "text/plain": [
       "71.43"
      ]
     },
     "execution_count": 61,
     "metadata": {},
     "output_type": "execute_result"
    }
   ],
   "source": [
    "(df[df['TypeName'] == 'Ultrabook'].value_counts('Ram', normalize=True).loc['8GB'] * 100).round(2)"
   ]
  },
  {
   "cell_type": "markdown",
   "id": "2cdd17c9",
   "metadata": {},
   "source": [
    "## Задание 5.\n",
    "### 5.1 Выберите ноутбук клиенту\n",
    "Клиент хочет подобрать ноутбук с 8GB или 16GB ОЗУ на Windows 10 в\n",
    "стоимости до 500 евро, сколько у него вариантов?\n",
    "\n"
   ]
  },
  {
   "cell_type": "code",
   "execution_count": 62,
   "id": "3c3f76d6",
   "metadata": {},
   "outputs": [
    {
     "data": {
      "text/html": [
       "<div>\n",
       "<style scoped>\n",
       "    .dataframe tbody tr th:only-of-type {\n",
       "        vertical-align: middle;\n",
       "    }\n",
       "\n",
       "    .dataframe tbody tr th {\n",
       "        vertical-align: top;\n",
       "    }\n",
       "\n",
       "    .dataframe thead th {\n",
       "        text-align: right;\n",
       "    }\n",
       "</style>\n",
       "<table border=\"1\" class=\"dataframe\">\n",
       "  <thead>\n",
       "    <tr style=\"text-align: right;\">\n",
       "      <th></th>\n",
       "      <th>Company</th>\n",
       "      <th>Product</th>\n",
       "      <th>Ram</th>\n",
       "      <th>Memory</th>\n",
       "      <th>OpSys</th>\n",
       "      <th>Price_euros</th>\n",
       "    </tr>\n",
       "    <tr>\n",
       "      <th>laptop_ID</th>\n",
       "      <th></th>\n",
       "      <th></th>\n",
       "      <th></th>\n",
       "      <th></th>\n",
       "      <th></th>\n",
       "      <th></th>\n",
       "    </tr>\n",
       "  </thead>\n",
       "  <tbody>\n",
       "    <tr>\n",
       "      <th>76</th>\n",
       "      <td>Acer</td>\n",
       "      <td>Aspire E5-475</td>\n",
       "      <td>8GB</td>\n",
       "      <td>1TB HDD</td>\n",
       "      <td>Windows 10</td>\n",
       "      <td>389.00</td>\n",
       "    </tr>\n",
       "    <tr>\n",
       "      <th>371</th>\n",
       "      <td>HP</td>\n",
       "      <td>15-AY023na (N3710/8GB/2TB/W10)</td>\n",
       "      <td>8GB</td>\n",
       "      <td>2TB HDD</td>\n",
       "      <td>Windows 10</td>\n",
       "      <td>389.00</td>\n",
       "    </tr>\n",
       "    <tr>\n",
       "      <th>578</th>\n",
       "      <td>HP</td>\n",
       "      <td>14-am079na (N3710/8GB/2TB/W10)</td>\n",
       "      <td>8GB</td>\n",
       "      <td>2TB HDD</td>\n",
       "      <td>Windows 10</td>\n",
       "      <td>389.00</td>\n",
       "    </tr>\n",
       "    <tr>\n",
       "      <th>642</th>\n",
       "      <td>Asus</td>\n",
       "      <td>X541NA-GO414T (N3350/8GB/1TB/W10)</td>\n",
       "      <td>8GB</td>\n",
       "      <td>1TB HDD</td>\n",
       "      <td>Windows 10</td>\n",
       "      <td>399.00</td>\n",
       "    </tr>\n",
       "    <tr>\n",
       "      <th>710</th>\n",
       "      <td>Lenovo</td>\n",
       "      <td>IdeaPad 320-15ABR</td>\n",
       "      <td>8GB</td>\n",
       "      <td>1TB HDD</td>\n",
       "      <td>Windows 10</td>\n",
       "      <td>429.00</td>\n",
       "    </tr>\n",
       "    <tr>\n",
       "      <th>261</th>\n",
       "      <td>HP</td>\n",
       "      <td>15-BW094nd (A6-9220/8GB/128GB/W10)</td>\n",
       "      <td>8GB</td>\n",
       "      <td>128GB SSD</td>\n",
       "      <td>Windows 10</td>\n",
       "      <td>445.90</td>\n",
       "    </tr>\n",
       "    <tr>\n",
       "      <th>1071</th>\n",
       "      <td>Acer</td>\n",
       "      <td>Aspire ES1-523</td>\n",
       "      <td>8GB</td>\n",
       "      <td>1TB HDD</td>\n",
       "      <td>Windows 10</td>\n",
       "      <td>449.00</td>\n",
       "    </tr>\n",
       "    <tr>\n",
       "      <th>179</th>\n",
       "      <td>Dell</td>\n",
       "      <td>Inspiron 3567</td>\n",
       "      <td>8GB</td>\n",
       "      <td>1TB HDD</td>\n",
       "      <td>Windows 10</td>\n",
       "      <td>459.00</td>\n",
       "    </tr>\n",
       "    <tr>\n",
       "      <th>602</th>\n",
       "      <td>Lenovo</td>\n",
       "      <td>IdeaPad 110-15ISK</td>\n",
       "      <td>8GB</td>\n",
       "      <td>1TB HDD</td>\n",
       "      <td>Windows 10</td>\n",
       "      <td>459.00</td>\n",
       "    </tr>\n",
       "    <tr>\n",
       "      <th>1181</th>\n",
       "      <td>Lenovo</td>\n",
       "      <td>IdeaPad 310-15ISK</td>\n",
       "      <td>8GB</td>\n",
       "      <td>1TB HDD</td>\n",
       "      <td>Windows 10</td>\n",
       "      <td>459.00</td>\n",
       "    </tr>\n",
       "    <tr>\n",
       "      <th>318</th>\n",
       "      <td>Acer</td>\n",
       "      <td>ES1-523-84K7 (A8-7410/8GB/256GB/FHD/W10)</td>\n",
       "      <td>8GB</td>\n",
       "      <td>256GB SSD</td>\n",
       "      <td>Windows 10</td>\n",
       "      <td>469.00</td>\n",
       "    </tr>\n",
       "    <tr>\n",
       "      <th>1250</th>\n",
       "      <td>Dell</td>\n",
       "      <td>Inspiron 3567</td>\n",
       "      <td>8GB</td>\n",
       "      <td>1TB HDD</td>\n",
       "      <td>Windows 10</td>\n",
       "      <td>469.01</td>\n",
       "    </tr>\n",
       "    <tr>\n",
       "      <th>297</th>\n",
       "      <td>HP</td>\n",
       "      <td>17-BS037cl (i3-6006U/8GB/1TB/W10)</td>\n",
       "      <td>8GB</td>\n",
       "      <td>1TB HDD</td>\n",
       "      <td>Windows 10</td>\n",
       "      <td>489.00</td>\n",
       "    </tr>\n",
       "  </tbody>\n",
       "</table>\n",
       "</div>"
      ],
      "text/plain": [
       "          Company                                   Product  Ram     Memory  \\\n",
       "laptop_ID                                                                     \n",
       "76           Acer                             Aspire E5-475  8GB    1TB HDD   \n",
       "371            HP            15-AY023na (N3710/8GB/2TB/W10)  8GB    2TB HDD   \n",
       "578            HP            14-am079na (N3710/8GB/2TB/W10)  8GB    2TB HDD   \n",
       "642          Asus         X541NA-GO414T (N3350/8GB/1TB/W10)  8GB    1TB HDD   \n",
       "710        Lenovo                         IdeaPad 320-15ABR  8GB    1TB HDD   \n",
       "261            HP        15-BW094nd (A6-9220/8GB/128GB/W10)  8GB  128GB SSD   \n",
       "1071         Acer                            Aspire ES1-523  8GB    1TB HDD   \n",
       "179          Dell                             Inspiron 3567  8GB    1TB HDD   \n",
       "602        Lenovo                         IdeaPad 110-15ISK  8GB    1TB HDD   \n",
       "1181       Lenovo                         IdeaPad 310-15ISK  8GB    1TB HDD   \n",
       "318          Acer  ES1-523-84K7 (A8-7410/8GB/256GB/FHD/W10)  8GB  256GB SSD   \n",
       "1250         Dell                             Inspiron 3567  8GB    1TB HDD   \n",
       "297            HP         17-BS037cl (i3-6006U/8GB/1TB/W10)  8GB    1TB HDD   \n",
       "\n",
       "                OpSys  Price_euros  \n",
       "laptop_ID                           \n",
       "76         Windows 10       389.00  \n",
       "371        Windows 10       389.00  \n",
       "578        Windows 10       389.00  \n",
       "642        Windows 10       399.00  \n",
       "710        Windows 10       429.00  \n",
       "261        Windows 10       445.90  \n",
       "1071       Windows 10       449.00  \n",
       "179        Windows 10       459.00  \n",
       "602        Windows 10       459.00  \n",
       "1181       Windows 10       459.00  \n",
       "318        Windows 10       469.00  \n",
       "1250       Windows 10       469.01  \n",
       "297        Windows 10       489.00  "
      ]
     },
     "execution_count": 62,
     "metadata": {},
     "output_type": "execute_result"
    }
   ],
   "source": [
    "df[\n",
    "    ((df[\"Ram\"]==\"8GB\") | (df[\"Ram\"]==\"16GB\")) &\n",
    "    (df[\"OpSys\"] == \"Windows 10\") &\n",
    "    (df[\"Price_euros\"] <= 500)\n",
    "][['Company', 'Product', 'Ram', 'Memory', 'OpSys', 'Price_euros']].sort_values('Price_euros')"
   ]
  },
  {
   "cell_type": "code",
   "execution_count": 63,
   "id": "eeb7d5c2",
   "metadata": {},
   "outputs": [
    {
     "data": {
      "text/plain": [
       "Company             13\n",
       "Product             13\n",
       "TypeName            13\n",
       "Inches              13\n",
       "ScreenResolution    13\n",
       "Cpu                 13\n",
       "Ram                 13\n",
       "Memory              13\n",
       "Gpu                 13\n",
       "OpSys               13\n",
       "Weight              13\n",
       "Price_euros         13\n",
       "dtype: int64"
      ]
     },
     "execution_count": 63,
     "metadata": {},
     "output_type": "execute_result"
    }
   ],
   "source": [
    "df[\n",
    "    ((df[\"Ram\"]==\"8GB\") | (df[\"Ram\"]==\"16GB\")) &\n",
    "    (df[\"OpSys\"] == \"Windows 10\") &\n",
    "    (df[\"Price_euros\"] <= 500)\n",
    "].count()"
   ]
  },
  {
   "cell_type": "code",
   "execution_count": 64,
   "id": "037acfd2",
   "metadata": {},
   "outputs": [
    {
     "data": {
      "text/plain": [
       "13"
      ]
     },
     "execution_count": 64,
     "metadata": {},
     "output_type": "execute_result"
    }
   ],
   "source": [
    "df[\n",
    "    (df[\"TypeName\"] == \"Notebook\") &\n",
    "    (df[\"Ram\"].isin([\"8GB\", \"16GB\"])) &\n",
    "    (df[\"OpSys\"] == \"Windows 10\") &\n",
    "    (df[\"Price_euros\"] <= 500)\n",
    "].shape[0]"
   ]
  },
  {
   "cell_type": "markdown",
   "id": "e053efd0",
   "metadata": {},
   "source": [
    "### 5.2 Выберите ноутбук клиенту\n",
    "Клиент хочет подобрать ноутбук от MSI, с видеокартой Nvidia GeForce GTX\n",
    "1050 Ti и главное не с диагональю 15.6. В какой ценовой категории вышли\n",
    "подобные ноутбуки?\n"
   ]
  },
  {
   "cell_type": "code",
   "execution_count": 65,
   "id": "0825b73f",
   "metadata": {},
   "outputs": [
    {
     "data": {
      "text/plain": [
       "1199.0"
      ]
     },
     "execution_count": 65,
     "metadata": {},
     "output_type": "execute_result"
    }
   ],
   "source": [
    "df[\n",
    "    (df['Company'] == 'MSI') &\n",
    "    (df['Gpu'] == 'Nvidia GeForce GTX 1050 Ti') &\n",
    "    (df['Inches'] != 15.6)\n",
    "]['Price_euros'].min()"
   ]
  },
  {
   "cell_type": "code",
   "execution_count": 66,
   "id": "b46796e7",
   "metadata": {},
   "outputs": [
    {
     "data": {
      "text/plain": [
       "1599.0"
      ]
     },
     "execution_count": 66,
     "metadata": {},
     "output_type": "execute_result"
    }
   ],
   "source": [
    "df[\n",
    "    (df['Company'] == 'MSI') &\n",
    "    (df['Gpu'] == 'Nvidia GeForce GTX 1050 Ti') &\n",
    "    (df['Inches'] != 15.6)\n",
    "]['Price_euros'].max()"
   ]
  },
  {
   "cell_type": "code",
   "execution_count": 67,
   "id": "0f494042",
   "metadata": {},
   "outputs": [
    {
     "data": {
      "text/plain": [
       "1599.0"
      ]
     },
     "execution_count": 67,
     "metadata": {},
     "output_type": "execute_result"
    }
   ],
   "source": [
    "df[\n",
    "    (df['Company'] == 'MSI') &\n",
    "    (df['Gpu'] == 'Nvidia GeForce GTX 1050 Ti') &\n",
    "    ~(df['Inches'] == 15.6)\n",
    "]['Price_euros'].max()"
   ]
  },
  {
   "cell_type": "code",
   "execution_count": 68,
   "id": "9978b6bf",
   "metadata": {},
   "outputs": [
    {
     "data": {
      "text/plain": [
       "(1199.0, 1599.0)"
      ]
     },
     "execution_count": 68,
     "metadata": {},
     "output_type": "execute_result"
    }
   ],
   "source": [
    "df[\n",
    "    (df['Company'] == 'MSI') &\n",
    "    (df['Gpu'] == 'Nvidia GeForce GTX 1050 Ti') &\n",
    "    ~(df['Inches'] == 15.6)\n",
    "]['Price_euros'].min(), df[\n",
    "    (df['Company'] == 'MSI') &\n",
    "    (df['Gpu'] == 'Nvidia GeForce GTX 1050 Ti') &\n",
    "    ~(df['Inches'] == 15.6)\n",
    "]['Price_euros'].max()"
   ]
  },
  {
   "cell_type": "code",
   "execution_count": 69,
   "id": "215bc5ed",
   "metadata": {},
   "outputs": [
    {
     "data": {
      "text/plain": [
       "(1199.0, 1599.0)"
      ]
     },
     "execution_count": 69,
     "metadata": {},
     "output_type": "execute_result"
    }
   ],
   "source": [
    "sort1 = df[\n",
    "    (df['Company'] == 'MSI') &\n",
    "    (df['Gpu'] == 'Nvidia GeForce GTX 1050 Ti') &\n",
    "    ~(df['Inches'] == 15.6)\n",
    "]['Price_euros']\n",
    "\n",
    "sort1.min(), sort1.max()"
   ]
  },
  {
   "cell_type": "markdown",
   "id": "47e4020e",
   "metadata": {},
   "source": [
    "### 5.3 Что дешевле?\n",
    "В среднем дешевле ноутбуки с CPU Intel Core i7 7700HQ 2.8GHz или с Intel\n",
    "Core i7 7600U 2.8GHz?"
   ]
  },
  {
   "cell_type": "code",
   "execution_count": 70,
   "id": "55c11bf9",
   "metadata": {},
   "outputs": [
    {
     "data": {
      "text/plain": [
       "1760.4084246575342"
      ]
     },
     "execution_count": 70,
     "metadata": {},
     "output_type": "execute_result"
    }
   ],
   "source": [
    "df[df[\"Cpu\"] == 'Intel Core i7 7700HQ 2.8GHz'][\"Price_euros\"].mean()"
   ]
  },
  {
   "cell_type": "code",
   "execution_count": 71,
   "id": "58243795",
   "metadata": {},
   "outputs": [
    {
     "data": {
      "text/plain": [
       "1915.710769230769"
      ]
     },
     "execution_count": 71,
     "metadata": {},
     "output_type": "execute_result"
    }
   ],
   "source": [
    "df[df[\"Cpu\"] == 'Intel Core i7 7600U 2.8GHz'][\"Price_euros\"].mean()"
   ]
  },
  {
   "cell_type": "code",
   "execution_count": 72,
   "id": "27613e5b",
   "metadata": {},
   "outputs": [
    {
     "data": {
      "text/html": [
       "<div>\n",
       "<style scoped>\n",
       "    .dataframe tbody tr th:only-of-type {\n",
       "        vertical-align: middle;\n",
       "    }\n",
       "\n",
       "    .dataframe tbody tr th {\n",
       "        vertical-align: top;\n",
       "    }\n",
       "\n",
       "    .dataframe thead th {\n",
       "        text-align: right;\n",
       "    }\n",
       "</style>\n",
       "<table border=\"1\" class=\"dataframe\">\n",
       "  <thead>\n",
       "    <tr style=\"text-align: right;\">\n",
       "      <th></th>\n",
       "      <th>Company</th>\n",
       "      <th>Product</th>\n",
       "      <th>TypeName</th>\n",
       "      <th>Inches</th>\n",
       "      <th>ScreenResolution</th>\n",
       "      <th>Cpu</th>\n",
       "      <th>Ram</th>\n",
       "      <th>Memory</th>\n",
       "      <th>Gpu</th>\n",
       "      <th>OpSys</th>\n",
       "      <th>Weight</th>\n",
       "      <th>Price_euros</th>\n",
       "    </tr>\n",
       "    <tr>\n",
       "      <th>laptop_ID</th>\n",
       "      <th></th>\n",
       "      <th></th>\n",
       "      <th></th>\n",
       "      <th></th>\n",
       "      <th></th>\n",
       "      <th></th>\n",
       "      <th></th>\n",
       "      <th></th>\n",
       "      <th></th>\n",
       "      <th></th>\n",
       "      <th></th>\n",
       "      <th></th>\n",
       "    </tr>\n",
       "  </thead>\n",
       "  <tbody>\n",
       "    <tr>\n",
       "      <th>42</th>\n",
       "      <td>Dell</td>\n",
       "      <td>Inspiron 7577</td>\n",
       "      <td>Gaming</td>\n",
       "      <td>15.6</td>\n",
       "      <td>IPS Panel Full HD 1920x1080</td>\n",
       "      <td>Intel Core i7 7700HQ 2.8GHz</td>\n",
       "      <td>16GB</td>\n",
       "      <td>256GB SSD +  1TB HDD</td>\n",
       "      <td>Nvidia GeForce GTX 1060</td>\n",
       "      <td>Windows 10</td>\n",
       "      <td>2.65kg</td>\n",
       "      <td>1499.0</td>\n",
       "    </tr>\n",
       "    <tr>\n",
       "      <th>59</th>\n",
       "      <td>MSI</td>\n",
       "      <td>GS73VR 7RG</td>\n",
       "      <td>Gaming</td>\n",
       "      <td>17.3</td>\n",
       "      <td>Full HD 1920x1080</td>\n",
       "      <td>Intel Core i7 7700HQ 2.8GHz</td>\n",
       "      <td>16GB</td>\n",
       "      <td>256GB SSD +  2TB HDD</td>\n",
       "      <td>Nvidia GeForce GTX 1070</td>\n",
       "      <td>Windows 10</td>\n",
       "      <td>2.43kg</td>\n",
       "      <td>2449.0</td>\n",
       "    </tr>\n",
       "    <tr>\n",
       "      <th>67</th>\n",
       "      <td>Asus</td>\n",
       "      <td>ZenBook Pro</td>\n",
       "      <td>Ultrabook</td>\n",
       "      <td>15.6</td>\n",
       "      <td>Full HD 1920x1080</td>\n",
       "      <td>Intel Core i7 7700HQ 2.8GHz</td>\n",
       "      <td>16GB</td>\n",
       "      <td>512GB SSD</td>\n",
       "      <td>Nvidia GeForce GTX 1050 Ti</td>\n",
       "      <td>Windows 10</td>\n",
       "      <td>1.8kg</td>\n",
       "      <td>1983.0</td>\n",
       "    </tr>\n",
       "    <tr>\n",
       "      <th>71</th>\n",
       "      <td>Asus</td>\n",
       "      <td>FX753VE-GC093 (i7-7700HQ/12GB/1TB/GeForce</td>\n",
       "      <td>Gaming</td>\n",
       "      <td>17.3</td>\n",
       "      <td>Full HD 1920x1080</td>\n",
       "      <td>Intel Core i7 7700HQ 2.8GHz</td>\n",
       "      <td>12GB</td>\n",
       "      <td>1TB HDD</td>\n",
       "      <td>Nvidia GeForce GTX 1050 Ti</td>\n",
       "      <td>Linux</td>\n",
       "      <td>3kg</td>\n",
       "      <td>949.0</td>\n",
       "    </tr>\n",
       "    <tr>\n",
       "      <th>77</th>\n",
       "      <td>Asus</td>\n",
       "      <td>FX503VD-E4022T (i7-7700HQ/8GB/1TB/GeForce</td>\n",
       "      <td>Gaming</td>\n",
       "      <td>15.6</td>\n",
       "      <td>Full HD 1920x1080</td>\n",
       "      <td>Intel Core i7 7700HQ 2.8GHz</td>\n",
       "      <td>8GB</td>\n",
       "      <td>1TB HDD</td>\n",
       "      <td>Nvidia GeForce GTX 1050</td>\n",
       "      <td>Windows 10</td>\n",
       "      <td>2.2kg</td>\n",
       "      <td>949.0</td>\n",
       "    </tr>\n",
       "  </tbody>\n",
       "</table>\n",
       "</div>"
      ],
      "text/plain": [
       "          Company                                    Product   TypeName  \\\n",
       "laptop_ID                                                                 \n",
       "42           Dell                              Inspiron 7577     Gaming   \n",
       "59            MSI                                 GS73VR 7RG     Gaming   \n",
       "67           Asus                                ZenBook Pro  Ultrabook   \n",
       "71           Asus  FX753VE-GC093 (i7-7700HQ/12GB/1TB/GeForce     Gaming   \n",
       "77           Asus  FX503VD-E4022T (i7-7700HQ/8GB/1TB/GeForce     Gaming   \n",
       "\n",
       "           Inches             ScreenResolution                          Cpu  \\\n",
       "laptop_ID                                                                     \n",
       "42           15.6  IPS Panel Full HD 1920x1080  Intel Core i7 7700HQ 2.8GHz   \n",
       "59           17.3            Full HD 1920x1080  Intel Core i7 7700HQ 2.8GHz   \n",
       "67           15.6            Full HD 1920x1080  Intel Core i7 7700HQ 2.8GHz   \n",
       "71           17.3            Full HD 1920x1080  Intel Core i7 7700HQ 2.8GHz   \n",
       "77           15.6            Full HD 1920x1080  Intel Core i7 7700HQ 2.8GHz   \n",
       "\n",
       "            Ram                Memory                         Gpu       OpSys  \\\n",
       "laptop_ID                                                                       \n",
       "42         16GB  256GB SSD +  1TB HDD     Nvidia GeForce GTX 1060  Windows 10   \n",
       "59         16GB  256GB SSD +  2TB HDD     Nvidia GeForce GTX 1070  Windows 10   \n",
       "67         16GB             512GB SSD  Nvidia GeForce GTX 1050 Ti  Windows 10   \n",
       "71         12GB               1TB HDD  Nvidia GeForce GTX 1050 Ti       Linux   \n",
       "77          8GB               1TB HDD     Nvidia GeForce GTX 1050  Windows 10   \n",
       "\n",
       "           Weight  Price_euros  \n",
       "laptop_ID                       \n",
       "42         2.65kg       1499.0  \n",
       "59         2.43kg       2449.0  \n",
       "67          1.8kg       1983.0  \n",
       "71            3kg        949.0  \n",
       "77          2.2kg        949.0  "
      ]
     },
     "execution_count": 72,
     "metadata": {},
     "output_type": "execute_result"
    }
   ],
   "source": [
    "CPU = df[(df[\"Cpu\"] == 'Intel Core i7 7700HQ 2.8GHz') | (df[\"Cpu\"] == 'Intel Core i7 7600U 2.8GHz')]\n",
    "CPU.head()"
   ]
  },
  {
   "cell_type": "code",
   "execution_count": 73,
   "id": "e33fc66b",
   "metadata": {},
   "outputs": [
    {
     "data": {
      "text/html": [
       "<div>\n",
       "<style scoped>\n",
       "    .dataframe tbody tr th:only-of-type {\n",
       "        vertical-align: middle;\n",
       "    }\n",
       "\n",
       "    .dataframe tbody tr th {\n",
       "        vertical-align: top;\n",
       "    }\n",
       "\n",
       "    .dataframe thead th {\n",
       "        text-align: right;\n",
       "    }\n",
       "</style>\n",
       "<table border=\"1\" class=\"dataframe\">\n",
       "  <thead>\n",
       "    <tr style=\"text-align: right;\">\n",
       "      <th></th>\n",
       "      <th>Price_euros</th>\n",
       "    </tr>\n",
       "    <tr>\n",
       "      <th>Cpu</th>\n",
       "      <th></th>\n",
       "    </tr>\n",
       "  </thead>\n",
       "  <tbody>\n",
       "    <tr>\n",
       "      <th>Intel Core i7 7600U 2.8GHz</th>\n",
       "      <td>1915.710769</td>\n",
       "    </tr>\n",
       "    <tr>\n",
       "      <th>Intel Core i7 7700HQ 2.8GHz</th>\n",
       "      <td>1760.408425</td>\n",
       "    </tr>\n",
       "  </tbody>\n",
       "</table>\n",
       "</div>"
      ],
      "text/plain": [
       "                             Price_euros\n",
       "Cpu                                     \n",
       "Intel Core i7 7600U 2.8GHz   1915.710769\n",
       "Intel Core i7 7700HQ 2.8GHz  1760.408425"
      ]
     },
     "execution_count": 73,
     "metadata": {},
     "output_type": "execute_result"
    }
   ],
   "source": [
    "CPU.groupby('Cpu').agg({'Price_euros': 'mean'})"
   ]
  },
  {
   "cell_type": "markdown",
   "id": "f2010c81",
   "metadata": {},
   "source": [
    "## Задание 6.\n",
    "Найдите самый легкий ноутбук\n",
    "Но обратите внимание на тип и представление данных в признаке\n",
    "Weight, если что, замените в строке 'kg' на пустую строку через\n",
    "метод .str.replace()\n"
   ]
  },
  {
   "cell_type": "code",
   "execution_count": 74,
   "id": "451df082",
   "metadata": {},
   "outputs": [
    {
     "data": {
      "text/plain": [
       "laptop_ID\n",
       "1       1.37kg\n",
       "2       1.34kg\n",
       "3       1.86kg\n",
       "4       1.83kg\n",
       "5       1.37kg\n",
       "         ...  \n",
       "1316     1.8kg\n",
       "1317     1.3kg\n",
       "1318     1.5kg\n",
       "1319    2.19kg\n",
       "1320     2.2kg\n",
       "Name: Weight, Length: 1303, dtype: object"
      ]
     },
     "execution_count": 74,
     "metadata": {},
     "output_type": "execute_result"
    }
   ],
   "source": [
    "df['Weight']"
   ]
  },
  {
   "cell_type": "code",
   "execution_count": 75,
   "id": "d5ea6773",
   "metadata": {},
   "outputs": [
    {
     "data": {
      "text/html": [
       "<div>\n",
       "<style scoped>\n",
       "    .dataframe tbody tr th:only-of-type {\n",
       "        vertical-align: middle;\n",
       "    }\n",
       "\n",
       "    .dataframe tbody tr th {\n",
       "        vertical-align: top;\n",
       "    }\n",
       "\n",
       "    .dataframe thead th {\n",
       "        text-align: right;\n",
       "    }\n",
       "</style>\n",
       "<table border=\"1\" class=\"dataframe\">\n",
       "  <thead>\n",
       "    <tr style=\"text-align: right;\">\n",
       "      <th></th>\n",
       "      <th>Company</th>\n",
       "      <th>Product</th>\n",
       "      <th>TypeName</th>\n",
       "      <th>Inches</th>\n",
       "      <th>ScreenResolution</th>\n",
       "      <th>Cpu</th>\n",
       "      <th>Ram</th>\n",
       "      <th>Memory</th>\n",
       "      <th>Gpu</th>\n",
       "      <th>OpSys</th>\n",
       "      <th>Weight</th>\n",
       "      <th>Price_euros</th>\n",
       "    </tr>\n",
       "    <tr>\n",
       "      <th>laptop_ID</th>\n",
       "      <th></th>\n",
       "      <th></th>\n",
       "      <th></th>\n",
       "      <th></th>\n",
       "      <th></th>\n",
       "      <th></th>\n",
       "      <th></th>\n",
       "      <th></th>\n",
       "      <th></th>\n",
       "      <th></th>\n",
       "      <th></th>\n",
       "      <th></th>\n",
       "    </tr>\n",
       "  </thead>\n",
       "  <tbody>\n",
       "    <tr>\n",
       "      <th>1</th>\n",
       "      <td>Apple</td>\n",
       "      <td>MacBook Pro</td>\n",
       "      <td>Ultrabook</td>\n",
       "      <td>13.3</td>\n",
       "      <td>IPS Panel Retina Display 2560x1600</td>\n",
       "      <td>Intel Core i5 2.3GHz</td>\n",
       "      <td>8GB</td>\n",
       "      <td>128GB SSD</td>\n",
       "      <td>Intel Iris Plus Graphics 640</td>\n",
       "      <td>macOS</td>\n",
       "      <td>1.37</td>\n",
       "      <td>1339.69</td>\n",
       "    </tr>\n",
       "    <tr>\n",
       "      <th>2</th>\n",
       "      <td>Apple</td>\n",
       "      <td>Macbook Air</td>\n",
       "      <td>Ultrabook</td>\n",
       "      <td>13.3</td>\n",
       "      <td>1440x900</td>\n",
       "      <td>Intel Core i5 1.8GHz</td>\n",
       "      <td>8GB</td>\n",
       "      <td>128GB Flash Storage</td>\n",
       "      <td>Intel HD Graphics 6000</td>\n",
       "      <td>macOS</td>\n",
       "      <td>1.34</td>\n",
       "      <td>898.94</td>\n",
       "    </tr>\n",
       "    <tr>\n",
       "      <th>3</th>\n",
       "      <td>HP</td>\n",
       "      <td>250 G6</td>\n",
       "      <td>Notebook</td>\n",
       "      <td>15.6</td>\n",
       "      <td>Full HD 1920x1080</td>\n",
       "      <td>Intel Core i5 7200U 2.5GHz</td>\n",
       "      <td>8GB</td>\n",
       "      <td>256GB SSD</td>\n",
       "      <td>Intel HD Graphics 620</td>\n",
       "      <td>No OS</td>\n",
       "      <td>1.86</td>\n",
       "      <td>575.00</td>\n",
       "    </tr>\n",
       "    <tr>\n",
       "      <th>4</th>\n",
       "      <td>Apple</td>\n",
       "      <td>MacBook Pro</td>\n",
       "      <td>Ultrabook</td>\n",
       "      <td>15.4</td>\n",
       "      <td>IPS Panel Retina Display 2880x1800</td>\n",
       "      <td>Intel Core i7 2.7GHz</td>\n",
       "      <td>16GB</td>\n",
       "      <td>512GB SSD</td>\n",
       "      <td>AMD Radeon Pro 455</td>\n",
       "      <td>macOS</td>\n",
       "      <td>1.83</td>\n",
       "      <td>2537.45</td>\n",
       "    </tr>\n",
       "    <tr>\n",
       "      <th>5</th>\n",
       "      <td>Apple</td>\n",
       "      <td>MacBook Pro</td>\n",
       "      <td>Ultrabook</td>\n",
       "      <td>13.3</td>\n",
       "      <td>IPS Panel Retina Display 2560x1600</td>\n",
       "      <td>Intel Core i5 3.1GHz</td>\n",
       "      <td>8GB</td>\n",
       "      <td>256GB SSD</td>\n",
       "      <td>Intel Iris Plus Graphics 650</td>\n",
       "      <td>macOS</td>\n",
       "      <td>1.37</td>\n",
       "      <td>1803.60</td>\n",
       "    </tr>\n",
       "    <tr>\n",
       "      <th>...</th>\n",
       "      <td>...</td>\n",
       "      <td>...</td>\n",
       "      <td>...</td>\n",
       "      <td>...</td>\n",
       "      <td>...</td>\n",
       "      <td>...</td>\n",
       "      <td>...</td>\n",
       "      <td>...</td>\n",
       "      <td>...</td>\n",
       "      <td>...</td>\n",
       "      <td>...</td>\n",
       "      <td>...</td>\n",
       "    </tr>\n",
       "    <tr>\n",
       "      <th>1316</th>\n",
       "      <td>Lenovo</td>\n",
       "      <td>Yoga 500-14ISK</td>\n",
       "      <td>2 in 1 Convertible</td>\n",
       "      <td>14.0</td>\n",
       "      <td>IPS Panel Full HD / Touchscreen 1920x1080</td>\n",
       "      <td>Intel Core i7 6500U 2.5GHz</td>\n",
       "      <td>4GB</td>\n",
       "      <td>128GB SSD</td>\n",
       "      <td>Intel HD Graphics 520</td>\n",
       "      <td>Windows 10</td>\n",
       "      <td>1.8</td>\n",
       "      <td>638.00</td>\n",
       "    </tr>\n",
       "    <tr>\n",
       "      <th>1317</th>\n",
       "      <td>Lenovo</td>\n",
       "      <td>Yoga 900-13ISK</td>\n",
       "      <td>2 in 1 Convertible</td>\n",
       "      <td>13.3</td>\n",
       "      <td>IPS Panel Quad HD+ / Touchscreen 3200x1800</td>\n",
       "      <td>Intel Core i7 6500U 2.5GHz</td>\n",
       "      <td>16GB</td>\n",
       "      <td>512GB SSD</td>\n",
       "      <td>Intel HD Graphics 520</td>\n",
       "      <td>Windows 10</td>\n",
       "      <td>1.3</td>\n",
       "      <td>1499.00</td>\n",
       "    </tr>\n",
       "    <tr>\n",
       "      <th>1318</th>\n",
       "      <td>Lenovo</td>\n",
       "      <td>IdeaPad 100S-14IBR</td>\n",
       "      <td>Notebook</td>\n",
       "      <td>14.0</td>\n",
       "      <td>1366x768</td>\n",
       "      <td>Intel Celeron Dual Core N3050 1.6GHz</td>\n",
       "      <td>2GB</td>\n",
       "      <td>64GB Flash Storage</td>\n",
       "      <td>Intel HD Graphics</td>\n",
       "      <td>Windows 10</td>\n",
       "      <td>1.5</td>\n",
       "      <td>229.00</td>\n",
       "    </tr>\n",
       "    <tr>\n",
       "      <th>1319</th>\n",
       "      <td>HP</td>\n",
       "      <td>15-AC110nv (i7-6500U/6GB/1TB/Radeon</td>\n",
       "      <td>Notebook</td>\n",
       "      <td>15.6</td>\n",
       "      <td>1366x768</td>\n",
       "      <td>Intel Core i7 6500U 2.5GHz</td>\n",
       "      <td>6GB</td>\n",
       "      <td>1TB HDD</td>\n",
       "      <td>AMD Radeon R5 M330</td>\n",
       "      <td>Windows 10</td>\n",
       "      <td>2.19</td>\n",
       "      <td>764.00</td>\n",
       "    </tr>\n",
       "    <tr>\n",
       "      <th>1320</th>\n",
       "      <td>Asus</td>\n",
       "      <td>X553SA-XX031T (N3050/4GB/500GB/W10)</td>\n",
       "      <td>Notebook</td>\n",
       "      <td>15.6</td>\n",
       "      <td>1366x768</td>\n",
       "      <td>Intel Celeron Dual Core N3050 1.6GHz</td>\n",
       "      <td>4GB</td>\n",
       "      <td>500GB HDD</td>\n",
       "      <td>Intel HD Graphics</td>\n",
       "      <td>Windows 10</td>\n",
       "      <td>2.2</td>\n",
       "      <td>369.00</td>\n",
       "    </tr>\n",
       "  </tbody>\n",
       "</table>\n",
       "<p>1303 rows × 12 columns</p>\n",
       "</div>"
      ],
      "text/plain": [
       "          Company                              Product            TypeName  \\\n",
       "laptop_ID                                                                    \n",
       "1           Apple                          MacBook Pro           Ultrabook   \n",
       "2           Apple                          Macbook Air           Ultrabook   \n",
       "3              HP                               250 G6            Notebook   \n",
       "4           Apple                          MacBook Pro           Ultrabook   \n",
       "5           Apple                          MacBook Pro           Ultrabook   \n",
       "...           ...                                  ...                 ...   \n",
       "1316       Lenovo                       Yoga 500-14ISK  2 in 1 Convertible   \n",
       "1317       Lenovo                       Yoga 900-13ISK  2 in 1 Convertible   \n",
       "1318       Lenovo                   IdeaPad 100S-14IBR            Notebook   \n",
       "1319           HP  15-AC110nv (i7-6500U/6GB/1TB/Radeon            Notebook   \n",
       "1320         Asus  X553SA-XX031T (N3050/4GB/500GB/W10)            Notebook   \n",
       "\n",
       "           Inches                            ScreenResolution  \\\n",
       "laptop_ID                                                       \n",
       "1            13.3          IPS Panel Retina Display 2560x1600   \n",
       "2            13.3                                    1440x900   \n",
       "3            15.6                           Full HD 1920x1080   \n",
       "4            15.4          IPS Panel Retina Display 2880x1800   \n",
       "5            13.3          IPS Panel Retina Display 2560x1600   \n",
       "...           ...                                         ...   \n",
       "1316         14.0   IPS Panel Full HD / Touchscreen 1920x1080   \n",
       "1317         13.3  IPS Panel Quad HD+ / Touchscreen 3200x1800   \n",
       "1318         14.0                                    1366x768   \n",
       "1319         15.6                                    1366x768   \n",
       "1320         15.6                                    1366x768   \n",
       "\n",
       "                                            Cpu   Ram               Memory  \\\n",
       "laptop_ID                                                                    \n",
       "1                          Intel Core i5 2.3GHz   8GB            128GB SSD   \n",
       "2                          Intel Core i5 1.8GHz   8GB  128GB Flash Storage   \n",
       "3                    Intel Core i5 7200U 2.5GHz   8GB            256GB SSD   \n",
       "4                          Intel Core i7 2.7GHz  16GB            512GB SSD   \n",
       "5                          Intel Core i5 3.1GHz   8GB            256GB SSD   \n",
       "...                                         ...   ...                  ...   \n",
       "1316                 Intel Core i7 6500U 2.5GHz   4GB            128GB SSD   \n",
       "1317                 Intel Core i7 6500U 2.5GHz  16GB            512GB SSD   \n",
       "1318       Intel Celeron Dual Core N3050 1.6GHz   2GB   64GB Flash Storage   \n",
       "1319                 Intel Core i7 6500U 2.5GHz   6GB              1TB HDD   \n",
       "1320       Intel Celeron Dual Core N3050 1.6GHz   4GB            500GB HDD   \n",
       "\n",
       "                                    Gpu       OpSys Weight  Price_euros  \n",
       "laptop_ID                                                                \n",
       "1          Intel Iris Plus Graphics 640       macOS   1.37      1339.69  \n",
       "2                Intel HD Graphics 6000       macOS   1.34       898.94  \n",
       "3                 Intel HD Graphics 620       No OS   1.86       575.00  \n",
       "4                    AMD Radeon Pro 455       macOS   1.83      2537.45  \n",
       "5          Intel Iris Plus Graphics 650       macOS   1.37      1803.60  \n",
       "...                                 ...         ...    ...          ...  \n",
       "1316              Intel HD Graphics 520  Windows 10    1.8       638.00  \n",
       "1317              Intel HD Graphics 520  Windows 10    1.3      1499.00  \n",
       "1318                  Intel HD Graphics  Windows 10    1.5       229.00  \n",
       "1319                 AMD Radeon R5 M330  Windows 10   2.19       764.00  \n",
       "1320                  Intel HD Graphics  Windows 10    2.2       369.00  \n",
       "\n",
       "[1303 rows x 12 columns]"
      ]
     },
     "execution_count": 75,
     "metadata": {},
     "output_type": "execute_result"
    }
   ],
   "source": [
    "df['Weight'] = df['Weight'].str.replace('kg', '')\n",
    "df"
   ]
  },
  {
   "cell_type": "code",
   "execution_count": 76,
   "id": "cd7d014c",
   "metadata": {},
   "outputs": [
    {
     "data": {
      "text/plain": [
       "laptop_ID\n",
       "1       1.37\n",
       "2       1.34\n",
       "3       1.86\n",
       "4       1.83\n",
       "5       1.37\n",
       "        ... \n",
       "1316     1.8\n",
       "1317     1.3\n",
       "1318     1.5\n",
       "1319    2.19\n",
       "1320     2.2\n",
       "Name: Weight, Length: 1303, dtype: object"
      ]
     },
     "execution_count": 76,
     "metadata": {},
     "output_type": "execute_result"
    }
   ],
   "source": [
    "df.Weight"
   ]
  },
  {
   "cell_type": "code",
   "execution_count": 77,
   "id": "53c76f93",
   "metadata": {},
   "outputs": [
    {
     "data": {
      "text/plain": [
       "laptop_ID\n",
       "1       1.37\n",
       "2       1.34\n",
       "3       1.86\n",
       "4       1.83\n",
       "5       1.37\n",
       "        ... \n",
       "1316    1.80\n",
       "1317    1.30\n",
       "1318    1.50\n",
       "1319    2.19\n",
       "1320    2.20\n",
       "Name: Weight, Length: 1303, dtype: float64"
      ]
     },
     "execution_count": 77,
     "metadata": {},
     "output_type": "execute_result"
    }
   ],
   "source": [
    "df['Weight'] = df['Weight'].str.replace('kg', '').astype(float)\n",
    "df['Weight']"
   ]
  },
  {
   "cell_type": "code",
   "execution_count": 78,
   "id": "9d86a740",
   "metadata": {},
   "outputs": [
    {
     "data": {
      "text/plain": [
       "1.05"
      ]
     },
     "execution_count": 78,
     "metadata": {},
     "output_type": "execute_result"
    }
   ],
   "source": [
    "df[df['TypeName'] == 'Notebook']['Weight'].min()"
   ]
  },
  {
   "cell_type": "code",
   "execution_count": 79,
   "id": "6fbe29f9",
   "metadata": {},
   "outputs": [
    {
     "data": {
      "text/plain": [
       "laptop_ID\n",
       "1       1.37\n",
       "2       1.34\n",
       "3       1.86\n",
       "4       1.83\n",
       "5       1.37\n",
       "        ... \n",
       "1316    1.80\n",
       "1317    1.30\n",
       "1318    1.50\n",
       "1319    2.19\n",
       "1320    2.20\n",
       "Name: Weight, Length: 1303, dtype: float64"
      ]
     },
     "execution_count": 79,
     "metadata": {},
     "output_type": "execute_result"
    }
   ],
   "source": [
    "df['Weight']"
   ]
  }
 ],
 "metadata": {
  "kernelspec": {
   "display_name": "Python 3 (ipykernel)",
   "language": "python",
   "name": "python3"
  },
  "language_info": {
   "codemirror_mode": {
    "name": "ipython",
    "version": 3
   },
   "file_extension": ".py",
   "mimetype": "text/x-python",
   "name": "python",
   "nbconvert_exporter": "python",
   "pygments_lexer": "ipython3",
   "version": "3.10.8"
  }
 },
 "nbformat": 4,
 "nbformat_minor": 5
}
