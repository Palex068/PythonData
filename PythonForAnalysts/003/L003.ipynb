{
 "cells": [
  {
   "attachments": {},
   "cell_type": "markdown",
   "metadata": {},
   "source": [
    "# Модификация таблиц с Pandas Лекция 3. "
   ]
  },
  {
   "cell_type": "code",
   "execution_count": 1,
   "metadata": {},
   "outputs": [],
   "source": [
    "import pandas as pd"
   ]
  },
  {
   "attachments": {},
   "cell_type": "markdown",
   "metadata": {},
   "source": [
    "Будем работать с датасетом по оттоку клиентов из банка https://www.kaggle.com/datasets/shubh0799/churn-modelling, но датасет из себя будет представлять две таблицы:\n",
    "\n",
    "Личные данные клиента\n",
    "\n",
    "CustomerId - Уникальный идентификатор клиента\n",
    "Surname - Фамилия клиента\n",
    "Geography - Из какой страны клиент\n",
    "Gender - Пол клиента\n",
    "Age - Возраст клиента\n",
    "EstimatedSalary - Предположительная зарплата клиента\n",
    "Данные по поведению клиента в банке\n",
    "\n",
    "CustomerId - Уникальный идентификатор клиента\n",
    "CustomerId - Уникальный идентификатор клиента\n",
    "Tenure - Сколько лет человек является клиентом банка\n",
    "Balance - Баланс счета\n",
    "NumOfProducts - Количество открытых продуктов\n",
    "HasCrCard - Есть ли у клиента кредитная карта\n",
    "IsActiveMember - Является ли клиент активные участником\n",
    "Exited - Уйдет ли человек в отток"
   ]
  }
 ],
 "metadata": {
  "kernelspec": {
   "display_name": "Python 3",
   "language": "python",
   "name": "python3"
  },
  "language_info": {
   "codemirror_mode": {
    "name": "ipython",
    "version": 3
   },
   "file_extension": ".py",
   "mimetype": "text/x-python",
   "name": "python",
   "nbconvert_exporter": "python",
   "pygments_lexer": "ipython3",
   "version": "3.10.8"
  },
  "orig_nbformat": 4
 },
 "nbformat": 4,
 "nbformat_minor": 2
}
