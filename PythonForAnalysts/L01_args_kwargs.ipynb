{
 "cells": [
  {
   "cell_type": "code",
   "execution_count": 3,
   "id": "6d96a7f8",
   "metadata": {},
   "outputs": [],
   "source": [
    "def multiply(x, y):\n",
    "    return(x * y)"
   ]
  },
  {
   "cell_type": "code",
   "execution_count": 4,
   "id": "0b9c9f32",
   "metadata": {},
   "outputs": [
    {
     "data": {
      "text/plain": [
       "40"
      ]
     },
     "execution_count": 4,
     "metadata": {},
     "output_type": "execute_result"
    }
   ],
   "source": [
    "multiply(5, 8)"
   ]
  },
  {
   "cell_type": "code",
   "execution_count": 5,
   "id": "b51c1661",
   "metadata": {},
   "outputs": [],
   "source": [
    "def multiply(*qwe):\n",
    "    z = 1\n",
    "    for num in qwe:\n",
    "        z *= num\n",
    "    print(z)"
   ]
  },
  {
   "cell_type": "code",
   "execution_count": 6,
   "id": "45570f42",
   "metadata": {},
   "outputs": [
    {
     "name": "stdout",
     "output_type": "stream",
     "text": [
      "20\n",
      "150\n",
      "1080\n",
      "6075000\n",
      "1\n"
     ]
    }
   ],
   "source": [
    "multiply(4, 5)\n",
    "multiply(10, 3, 5)\n",
    "multiply(2, 3, 4, 45, 1)\n",
    "multiply(3, 5, 10, 6, 10, 1, -5, 45, -3)\n",
    "multiply()"
   ]
  },
  {
   "cell_type": "code",
   "execution_count": 7,
   "id": "e8a5f777",
   "metadata": {},
   "outputs": [],
   "source": [
    "def print_values(**kwargs):\n",
    "    for key, value in kwargs.items():\n",
    "        print(\"Значение для {} является {}\".format(key, value))"
   ]
  },
  {
   "cell_type": "code",
   "execution_count": 8,
   "id": "f64c71e0",
   "metadata": {},
   "outputs": [
    {
     "name": "stdout",
     "output_type": "stream",
     "text": [
      "Значение для name_1 является Alex\n",
      "Значение для name_2 является Gray\n",
      "Значение для name_3 является Harper\n",
      "Значение для name_4 является Phoenix\n",
      "Значение для name_5 является Remy\n",
      "Значение для name_6 является Val\n"
     ]
    }
   ],
   "source": [
    "print_values(\n",
    "    name_1=\"Alex\",\n",
    "    name_2=\"Gray\",\n",
    "    name_3=\"Harper\",\n",
    "    name_4=\"Phoenix\",\n",
    "    name_5=\"Remy\",\n",
    "    name_6=\"Val\"\n",
    ")"
   ]
  },
  {
   "cell_type": "code",
   "execution_count": 9,
   "id": "8670184f",
   "metadata": {},
   "outputs": [],
   "source": [
    "def func(required_arg, *args, **kwargs):\n",
    "    print('r_a: ', required_arg)\n",
    "\n",
    "    if args:\n",
    "        print('args: ', args)\n",
    "\n",
    "    if kwargs:\n",
    "        print('kwargs: ', kwargs)"
   ]
  },
  {
   "cell_type": "code",
   "execution_count": 10,
   "id": "73a86400",
   "metadata": {},
   "outputs": [
    {
     "ename": "TypeError",
     "evalue": "func() missing 1 required positional argument: 'required_arg'",
     "output_type": "error",
     "traceback": [
      "\u001b[1;31m---------------------------------------------------------------------------\u001b[0m",
      "\u001b[1;31mTypeError\u001b[0m                                 Traceback (most recent call last)",
      "Cell \u001b[1;32mIn[10], line 1\u001b[0m\n\u001b[1;32m----> 1\u001b[0m func()\n",
      "\u001b[1;31mTypeError\u001b[0m: func() missing 1 required positional argument: 'required_arg'"
     ]
    }
   ],
   "source": [
    "func()"
   ]
  },
  {
   "cell_type": "code",
   "execution_count": null,
   "id": "12a2ff9f",
   "metadata": {},
   "outputs": [
    {
     "ename": "",
     "evalue": "",
     "output_type": "error",
     "traceback": [
      "\u001b[1;31mДля выполнения ячеек с \"c:\\Users\\Palex\\AppData\\Local\\Programs\\Python\\Python311\\python.exe\" требуется пакет ipykernel.\n",
      "\u001b[1;31mRun the following command to install 'ipykernel' into the Python environment. \n",
      "\u001b[1;31mCommand: 'c:/Users/Palex/AppData/Local/Programs/Python/Python311/python.exe -m pip install ipykernel -U --user --force-reinstall'"
     ]
    }
   ],
   "source": [
    "func(\"required argument\")"
   ]
  },
  {
   "cell_type": "code",
   "execution_count": 11,
   "id": "3e88c19b",
   "metadata": {},
   "outputs": [
    {
     "name": "stdout",
     "output_type": "stream",
     "text": [
      "r_a:  required argument\n",
      "args:  (1, 2, '3', [1, 'a'])\n"
     ]
    }
   ],
   "source": [
    "func(\"required argument\", 1, 2, '3', [1, 'a'])"
   ]
  },
  {
   "cell_type": "code",
   "execution_count": 12,
   "id": "54187d51",
   "metadata": {},
   "outputs": [
    {
     "name": "stdout",
     "output_type": "stream",
     "text": [
      "r_a:  required argument\n",
      "args:  (1, 2, '3')\n",
      "kwargs:  {'keyword1': 4, 'keyword2': 'foo'}\n"
     ]
    }
   ],
   "source": [
    "func(\"required argument\", 1, 2, '3', keyword1=4, keyword2=\"foo\")"
   ]
  },
  {
   "cell_type": "code",
   "execution_count": null,
   "id": "f28fe550",
   "metadata": {},
   "outputs": [],
   "source": []
  }
 ],
 "metadata": {
  "kernelspec": {
   "display_name": "Python 3 (ipykernel)",
   "language": "python",
   "name": "python3"
  },
  "language_info": {
   "codemirror_mode": {
    "name": "ipython",
    "version": 3
   },
   "file_extension": ".py",
   "mimetype": "text/x-python",
   "name": "python",
   "nbconvert_exporter": "python",
   "pygments_lexer": "ipython3",
   "version": "3.10.11"
  }
 },
 "nbformat": 4,
 "nbformat_minor": 5
}
