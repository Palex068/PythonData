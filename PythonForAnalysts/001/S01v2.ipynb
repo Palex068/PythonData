{
 "cells": [
  {
   "cell_type": "markdown",
   "id": "df9fb4ce",
   "metadata": {},
   "source": [
    "## Задание 1.\n",
    "### 1.1 Соедините два словаря в один"
   ]
  },
  {
   "cell_type": "code",
   "execution_count": 1,
   "id": "3a6b2d85",
   "metadata": {},
   "outputs": [],
   "source": [
    "dict1 = {'One':1, \n",
    "         'Two':2, \n",
    "         'Three':3}\n",
    "\n",
    "dict2 = {'Four':4, \n",
    "         'Five':5, \n",
    "         'Six':6}"
   ]
  },
  {
   "cell_type": "code",
   "execution_count": 2,
   "id": "abea7206",
   "metadata": {},
   "outputs": [
    {
     "data": {
      "text/plain": [
       "{'One': 1, 'Two': 2, 'Three': 3, 'Four': 4, 'Five': 5, 'Six': 6}"
      ]
     },
     "execution_count": 2,
     "metadata": {},
     "output_type": "execute_result"
    }
   ],
   "source": [
    "# 1 способ через 2 звездочки\n",
    "\n",
    "new = {**dict1, **dict2}\n",
    "new"
   ]
  },
  {
   "cell_type": "code",
   "execution_count": 3,
   "id": "2a179211",
   "metadata": {},
   "outputs": [
    {
     "data": {
      "text/plain": [
       "{'One': 1, 'Two': 2, 'Three': 3, 'Four': 4, 'Five': 5, 'Six': 6}"
      ]
     },
     "execution_count": 3,
     "metadata": {},
     "output_type": "execute_result"
    }
   ],
   "source": [
    "# 2 способ через copy(копируем один словарь в новую переменную) и update (добавляем в новую переменную второй словарь)\n",
    "\n",
    "new2 = dict1.copy()\n",
    "new2.update(dict2)\n",
    "new2"
   ]
  },
  {
   "cell_type": "code",
   "execution_count": 4,
   "id": "e7ff3a00",
   "metadata": {},
   "outputs": [],
   "source": [
    "# 3 способ через |"
   ]
  },
  {
   "cell_type": "code",
   "execution_count": 5,
   "id": "35fbeb68",
   "metadata": {},
   "outputs": [
    {
     "data": {
      "text/plain": [
       "{'One': 1, 'Two': 2, 'Three': 3, 'Four': 4, 'Five': 5, 'Six': 6}"
      ]
     },
     "execution_count": 5,
     "metadata": {},
     "output_type": "execute_result"
    }
   ],
   "source": [
    "dict3 = dict1 | dict2\n",
    "\n",
    "dict3"
   ]
  },
  {
   "cell_type": "markdown",
   "id": "37efb3b5",
   "metadata": {},
   "source": [
    "### 1.2 Напишите функцию, которая на вход принимает два словаря и возвращает один объединенный словарь. Используйте аннотирование типов"
   ]
  },
  {
   "cell_type": "code",
   "execution_count": 6,
   "id": "425e6da4",
   "metadata": {},
   "outputs": [],
   "source": [
    "def new_dict(a: dict, b: dict) -> dict:\n",
    "    dict = {}\n",
    "    dict.update(a)\n",
    "    dict.update(b)\n",
    "    return dict"
   ]
  },
  {
   "cell_type": "code",
   "execution_count": 7,
   "id": "5a36c21f",
   "metadata": {},
   "outputs": [
    {
     "data": {
      "text/plain": [
       "{'One': 1, 'Two': 2, 'Three': 3, 'Four': 4, 'Five': 5, 'Six': 6}"
      ]
     },
     "execution_count": 7,
     "metadata": {},
     "output_type": "execute_result"
    }
   ],
   "source": [
    "new_dict(dict1, dict2)"
   ]
  },
  {
   "cell_type": "code",
   "execution_count": 8,
   "id": "70227565",
   "metadata": {},
   "outputs": [],
   "source": [
    "def dict_conc(d1: dict, d2: dict) -> dict:\n",
    "    return d1 | d2"
   ]
  },
  {
   "cell_type": "code",
   "execution_count": 9,
   "id": "05a75ed9",
   "metadata": {},
   "outputs": [
    {
     "data": {
      "text/plain": [
       "{'One': 1, 'Two': 2, 'Three': 3, 'Four': 4, 'Five': 5, 'Six': 6}"
      ]
     },
     "execution_count": 9,
     "metadata": {},
     "output_type": "execute_result"
    }
   ],
   "source": [
    "dict_conc(dict1, dict2)"
   ]
  },
  {
   "cell_type": "markdown",
   "id": "fc2f522a",
   "metadata": {},
   "source": [
    "## Задание 2. \n",
    "### Напишите функцию, которая из двух списков, делает один словарь, где элементы из первого списка - ключи, а элементы из второго списка - значения. Используйте аннотирование типов\n",
    "\n"
   ]
  },
  {
   "cell_type": "markdown",
   "id": "597f10f3",
   "metadata": {},
   "source": [
    "### 2.1 Используя цикл for\n"
   ]
  },
  {
   "cell_type": "code",
   "execution_count": 10,
   "id": "d067a662",
   "metadata": {},
   "outputs": [],
   "source": [
    "keys = ['One', 'Two', 'Three']\n",
    "values = [1, 2, 3]"
   ]
  },
  {
   "cell_type": "code",
   "execution_count": 11,
   "id": "bdeb911a",
   "metadata": {},
   "outputs": [],
   "source": [
    "def new_dict(d1: list, d2: list) -> dict:\n",
    "    new_dict = {}\n",
    "    for i in range(len(d1)):\n",
    "        new_dict[d1[i]] = d2[i]\n",
    "    return new_dict"
   ]
  },
  {
   "cell_type": "code",
   "execution_count": 12,
   "id": "5b68d33c",
   "metadata": {},
   "outputs": [
    {
     "data": {
      "text/plain": [
       "{'One': 1, 'Two': 2, 'Three': 3}"
      ]
     },
     "execution_count": 12,
     "metadata": {},
     "output_type": "execute_result"
    }
   ],
   "source": [
    "new_dict(keys, values)"
   ]
  },
  {
   "cell_type": "markdown",
   "id": "59f41697",
   "metadata": {},
   "source": [
    "### 2.2 Используя dict comprehensions"
   ]
  },
  {
   "cell_type": "code",
   "execution_count": 13,
   "id": "5e040077",
   "metadata": {},
   "outputs": [],
   "source": [
    "def newest_dict(k: list, v: list) -> dict:\n",
    "    return {k[i]: v[i] for i in range(len(k))}"
   ]
  },
  {
   "cell_type": "code",
   "execution_count": 14,
   "id": "279cbe6e",
   "metadata": {},
   "outputs": [
    {
     "data": {
      "text/plain": [
       "{'One': 1, 'Two': 2, 'Three': 3}"
      ]
     },
     "execution_count": 14,
     "metadata": {},
     "output_type": "execute_result"
    }
   ],
   "source": [
    "newest_dict(keys, values)"
   ]
  },
  {
   "attachments": {},
   "cell_type": "markdown",
   "id": "ce07dd46",
   "metadata": {},
   "source": [
    "## 2.3 Использование ZIP"
   ]
  },
  {
   "cell_type": "code",
   "execution_count": 15,
   "id": "8d900538",
   "metadata": {},
   "outputs": [
    {
     "data": {
      "text/plain": [
       "{'One': 1, 'Two': 2, 'Three': 3}"
      ]
     },
     "execution_count": 15,
     "metadata": {},
     "output_type": "execute_result"
    }
   ],
   "source": [
    "d5 = dict(zip(keys, values))\n",
    "d5"
   ]
  },
  {
   "cell_type": "markdown",
   "id": "c2967d00",
   "metadata": {},
   "source": [
    "## Задание $3$.\n",
    "### Извлеките только два ключа name и age из представленного словаря\n",
    "\n",
    "### 3.1 Напишите функцию с циклом for + аннотирование типов\n",
    "Функция на вход принимает:\n",
    "1. исходный словарь\n",
    "2. ключи, которые нужно извлечь (аргумент по умолчанию)\n",
    "\n",
    "На выходе - словарь с нужными ключами"
   ]
  },
  {
   "cell_type": "code",
   "execution_count": 16,
   "id": "70aa2d2d",
   "metadata": {},
   "outputs": [],
   "source": [
    "client_dict = {'name':'John',\n",
    "              'age': 25,\n",
    "              'salary': 5000,\n",
    "              'city':'Moscow'}"
   ]
  },
  {
   "cell_type": "code",
   "execution_count": 17,
   "id": "373fb79d",
   "metadata": {},
   "outputs": [],
   "source": [
    "keys = ['name', 'age']"
   ]
  },
  {
   "cell_type": "code",
   "execution_count": 18,
   "id": "36f9ddd4",
   "metadata": {},
   "outputs": [],
   "source": [
    "def find_keys(dictionary: dict, keys: list=['name', 'age']) -> dict:\n",
    "    new_dict = {}\n",
    "    for k in keys:\n",
    "        new_dict[k] = dictionary[k]\n",
    "    return new_dict"
   ]
  },
  {
   "cell_type": "code",
   "execution_count": 19,
   "id": "5a9338d0",
   "metadata": {},
   "outputs": [
    {
     "data": {
      "text/plain": [
       "{'name': 'John', 'age': 25}"
      ]
     },
     "execution_count": 19,
     "metadata": {},
     "output_type": "execute_result"
    }
   ],
   "source": [
    "find_keys(client_dict, keys)"
   ]
  },
  {
   "cell_type": "markdown",
   "id": "c7d58e58",
   "metadata": {},
   "source": [
    "### 3.2 Используя dict comprehensions"
   ]
  },
  {
   "cell_type": "code",
   "execution_count": 20,
   "id": "5da34492",
   "metadata": {},
   "outputs": [
    {
     "data": {
      "text/plain": [
       "{'name': 'John', 'age': 25}"
      ]
     },
     "execution_count": 20,
     "metadata": {},
     "output_type": "execute_result"
    }
   ],
   "source": [
    "{k: client_dict[k] for k in ['name', 'age']}"
   ]
  },
  {
   "cell_type": "markdown",
   "id": "c2eb84bd",
   "metadata": {},
   "source": [
    "## Задание 4.\n",
    "### 4.1 Сгенерируйте случайные целые числа от 0 до 100 в количестве 5 штук с помощью модуля random\n",
    "- Зафиксируйте псевдогенерацию, чтобы\n",
    "сгенерированные значения всегда были одинаковые\n",
    "- Используйте list comprehensions"
   ]
  },
  {
   "cell_type": "code",
   "execution_count": 21,
   "id": "b980597d",
   "metadata": {},
   "outputs": [],
   "source": [
    "import random\n",
    "import time"
   ]
  },
  {
   "cell_type": "code",
   "execution_count": 22,
   "id": "387194a8",
   "metadata": {},
   "outputs": [
    {
     "data": {
      "text/plain": [
       "[17, 72, 97, 8, 32]"
      ]
     },
     "execution_count": 22,
     "metadata": {},
     "output_type": "execute_result"
    }
   ],
   "source": [
    "random.seed(1)\n",
    "data = [random.randint(0, 100) for _ in range(5)]\n",
    "\n",
    "data"
   ]
  },
  {
   "cell_type": "markdown",
   "id": "b3faeb5d",
   "metadata": {},
   "source": [
    "### 4.2 Напишите генератор\n",
    "\n",
    "Генератор на вход принимает список с данными о клиенте (данные\n",
    "из пункта 4.1)\n",
    "Внутри генератора реализуйте обход по списку с данными\n",
    "На каждой итерации генератор будет возвращать кортеж из двух\n",
    "элементов:\n",
    "1. данные по клиенту (в зависимости от итерации, на 0 итерации\n",
    "вернется 0 элемент, на 1 итерации вернется 1 элемент и тд)\n",
    "2. целочисленное значение, которое показывает, сколько секунд\n",
    "прошло с предыдущей итерации\n",
    "Примечание: секунды, которые возвращаются должны показывать время не\n",
    "с начала запуска генератора, а именно то время, которое прошло с\n",
    "предыдущей итерации. А значит время на первой итерации должно\n",
    "равняться 0.\n",
    "Используйте функцию time из модуля time для подсчета времени.\n",
    "Чтобы проверить работу таймера, запустите проход по\n",
    "генератору в цикле с time.sleep(2)"
   ]
  },
  {
   "cell_type": "code",
   "execution_count": 23,
   "id": "756be5b1",
   "metadata": {},
   "outputs": [],
   "source": [
    "def func(lst: list) -> tuple:\n",
    "    last_time = 0\n",
    "    for num in lst:\n",
    "        c_time = time.time()\n",
    "        if last_time:\n",
    "            delta = c_time - last_time\n",
    "        else:\n",
    "            delta = 0\n",
    "            \n",
    "        last_time = time.time()\n",
    "        \n",
    "        yield (num, delta)"
   ]
  },
  {
   "cell_type": "code",
   "execution_count": 24,
   "id": "39d33e74",
   "metadata": {},
   "outputs": [
    {
     "name": "stdout",
     "output_type": "stream",
     "text": [
      "(17, 0)\n",
      "(72, 2.013394594192505)\n",
      "(97, 2.0025336742401123)\n",
      "(8, 2.0018467903137207)\n",
      "(32, 2.0071675777435303)\n"
     ]
    }
   ],
   "source": [
    "for n in func(data):\n",
    "    print(n)\n",
    "    \n",
    "    time.sleep(2)"
   ]
  },
  {
   "cell_type": "code",
   "execution_count": 25,
   "id": "6b3f7f9b",
   "metadata": {},
   "outputs": [],
   "source": [
    "def func(lst: list) -> tuple:\n",
    "    last_time = time.time()\n",
    "    for num in lst:\n",
    "        c_time = time.time()\n",
    "        delta = c_time - last_time\n",
    "        last_time = c_time\n",
    "        yield (num, delta)"
   ]
  },
  {
   "cell_type": "code",
   "execution_count": 26,
   "id": "70fb97b4",
   "metadata": {},
   "outputs": [
    {
     "name": "stdout",
     "output_type": "stream",
     "text": [
      "(17, 0.0)\n",
      "(72, 2.000277519226074)\n",
      "(97, 2.0015151500701904)\n",
      "(8, 2.001875162124634)\n",
      "(32, 2.0024845600128174)\n"
     ]
    }
   ],
   "source": [
    "for n in func(data):\n",
    "    print(n)\n",
    "    \n",
    "    time.sleep(2)"
   ]
  },
  {
   "cell_type": "markdown",
   "id": "9468f71d",
   "metadata": {},
   "source": [
    "## Задание 5.\n",
    "### 5.1 Найдите картинку в интернете и прикрепите её в ячейку с текстом\n"
   ]
  },
  {
   "cell_type": "markdown",
   "id": "bddcc217",
   "metadata": {},
   "source": [
    "<img src =https://sportishka.com/uploads/posts/2022-04/1650532187_4-sportishka-com-p-madrid-ispaniya-glavnaya-dostoprimechateln-5.jpg width=300>"
   ]
  },
  {
   "cell_type": "markdown",
   "id": "87d60b81",
   "metadata": {},
   "source": [
    "![Рисунок](https://sportishka.com/uploads/posts/2022-04/1650532187_4-sportishka-com-p-madrid-ispaniya-glavnaya-dostoprimechateln-5.jpg)"
   ]
  },
  {
   "cell_type": "markdown",
   "id": "a00a1337",
   "metadata": {},
   "source": [
    "### 5.2 Создайте следующую таблицу в ячейке с текстом"
   ]
  },
  {
   "cell_type": "code",
   "execution_count": 27,
   "id": "7aae9fd0",
   "metadata": {},
   "outputs": [],
   "source": [
    "# 1 вариант"
   ]
  },
  {
   "cell_type": "markdown",
   "id": "abdd10f4",
   "metadata": {},
   "source": [
    "<table>\n",
    "    <tr>\n",
    "        <td></td>\n",
    "        <td>до события</td>\n",
    "        <td>во время события</td>\n",
    "    </tr>\n",
    "    <tr>\n",
    "        <td>1 точка</td>\n",
    "        <td>250</td>\n",
    "        <td>500</td>\n",
    "    </tr>\n",
    "    <tr>\n",
    "        <td>2 точка</td>\n",
    "        <td>350</td>\n",
    "        <td>700</td>\n",
    "    </tr>\n",
    "        <tr>\n",
    "        <td>3 точка</td>\n",
    "        <td>400</td>\n",
    "        <td>800</td>\n",
    "    </tr>\n",
    "        <tr>\n",
    "        <td>Итого: </td>\n",
    "        <td>1000</td>\n",
    "        <td>2000</td>\n",
    "    </tr>\n",
    "</table>"
   ]
  },
  {
   "cell_type": "code",
   "execution_count": 28,
   "id": "accbd2ab",
   "metadata": {},
   "outputs": [],
   "source": [
    "# 2 вариант"
   ]
  },
  {
   "cell_type": "markdown",
   "id": "062995eb",
   "metadata": {},
   "source": [
    "|                      | До события         |       Во время события |\n",
    "|----------------------|--------------------|------------------------|\n",
    "| 1 Контрольная точка  |        250         |          500           |\n",
    "| 2 Контрольная точка  |        350         |          700           |\n",
    "| 3 Контрольная точка  |        400         |          800           |\n",
    "|                      |                    |                        |\n",
    "| Итого                |        1000        |         2000           |\n",
    "\n"
   ]
  },
  {
   "cell_type": "code",
   "execution_count": null,
   "id": "c3a69077",
   "metadata": {},
   "outputs": [],
   "source": []
  },
  {
   "cell_type": "markdown",
   "id": "c1c03be3",
   "metadata": {},
   "source": [
    "## Задание 6.\n",
    "### Напишите функцию, которая может принимать любое количество трат пользователя и считать сумму и среднее.\n",
    "- На вход поступают целочисленные значения в любом количестве\n",
    "- На выходе словарь с ключами суммы трат и средней траты"
   ]
  },
  {
   "cell_type": "code",
   "execution_count": 29,
   "id": "95813bac",
   "metadata": {},
   "outputs": [],
   "source": [
    "def func(*args):\n",
    "    print('args это - ', args)\n",
    "    s = sum(args)\n",
    "    m = s/len(args)\n",
    "    return {'sum': s, 'mean': m}"
   ]
  },
  {
   "cell_type": "code",
   "execution_count": 30,
   "id": "0ab7bcfc",
   "metadata": {},
   "outputs": [
    {
     "name": "stdout",
     "output_type": "stream",
     "text": [
      "args это -  (0, 1, 2, 3, 4)\n"
     ]
    },
    {
     "data": {
      "text/plain": [
       "{'sum': 10, 'mean': 2.0}"
      ]
     },
     "execution_count": 30,
     "metadata": {},
     "output_type": "execute_result"
    }
   ],
   "source": [
    "func(*list(range(5)))"
   ]
  },
  {
   "cell_type": "code",
   "execution_count": 31,
   "id": "80305673",
   "metadata": {},
   "outputs": [
    {
     "name": "stdout",
     "output_type": "stream",
     "text": [
      "args это -  (10, 56, 76, 87, 9)\n"
     ]
    },
    {
     "data": {
      "text/plain": [
       "{'sum': 238, 'mean': 47.6}"
      ]
     },
     "execution_count": 31,
     "metadata": {},
     "output_type": "execute_result"
    }
   ],
   "source": [
    "func(10, 56, 76, 87, 9)"
   ]
  },
  {
   "cell_type": "code",
   "execution_count": null,
   "id": "9b1f1ddd",
   "metadata": {},
   "outputs": [],
   "source": []
  }
 ],
 "metadata": {
  "kernelspec": {
   "display_name": "Python 3 (ipykernel)",
   "language": "python",
   "name": "python3"
  },
  "language_info": {
   "codemirror_mode": {
    "name": "ipython",
    "version": 3
   },
   "file_extension": ".py",
   "mimetype": "text/x-python",
   "name": "python",
   "nbconvert_exporter": "python",
   "pygments_lexer": "ipython3",
   "version": "3.10.11"
  }
 },
 "nbformat": 4,
 "nbformat_minor": 5
}
