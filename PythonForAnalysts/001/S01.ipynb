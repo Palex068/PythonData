{
 "cells": [
  {
   "cell_type": "markdown",
   "id": "b88819d0",
   "metadata": {},
   "source": [
    "## Задание 1\n",
    "\n",
    "### 1.1 Соедините два словаря в один"
   ]
  },
  {
   "cell_type": "code",
   "execution_count": 7,
   "id": "081428bf",
   "metadata": {},
   "outputs": [],
   "source": [
    "import numpy as np"
   ]
  },
  {
   "cell_type": "code",
   "execution_count": 2,
   "id": "643038c6",
   "metadata": {},
   "outputs": [
    {
     "data": {
      "text/plain": [
       "({'One': 1, 'Two': 2, 'Three': 3}, {'Four': 4, 'Five': 5, 'Six': 6})"
      ]
     },
     "execution_count": 2,
     "metadata": {},
     "output_type": "execute_result"
    }
   ],
   "source": [
    "dict1 = {'One': 1, 'Two': 2, 'Three': 3}\n",
    "dict2 = {'Four': 4, 'Five': 5, 'Six': 6}\n",
    "dict1, dict2"
   ]
  },
  {
   "cell_type": "code",
   "execution_count": 3,
   "id": "14cb619b",
   "metadata": {},
   "outputs": [
    {
     "data": {
      "text/plain": [
       "{'One': 1, 'Two': 2, 'Three': 3, 'Four': 4, 'Five': 5, 'Six': 6}"
      ]
     },
     "execution_count": 3,
     "metadata": {},
     "output_type": "execute_result"
    }
   ],
   "source": [
    "dict1 | dict2"
   ]
  },
  {
   "cell_type": "code",
   "execution_count": 6,
   "id": "9624c5bc",
   "metadata": {},
   "outputs": [
    {
     "data": {
      "text/plain": [
       "{'One': 1, 'Two': 2, 'Three': 3, 'Four': 4, 'Five': 5, 'Six': 6}"
      ]
     },
     "execution_count": 6,
     "metadata": {},
     "output_type": "execute_result"
    }
   ],
   "source": [
    "dict1.update(dict2)\n",
    "dict1"
   ]
  },
  {
   "cell_type": "markdown",
   "id": "95b127c9",
   "metadata": {},
   "source": [
    "### 1.2 Напишите функцию, которая на вход принимает два словаря и возвращает один объединенный словарь"
   ]
  },
  {
   "cell_type": "code",
   "execution_count": 9,
   "id": "1976fc85",
   "metadata": {},
   "outputs": [],
   "source": [
    "dict1 = {'One': 1, 'Two': 2, 'Three': 3}\n",
    "dict2 = {'Four': 4, 'Five': 5, 'Six': 6}"
   ]
  },
  {
   "cell_type": "code",
   "execution_count": 10,
   "id": "5d01ad92",
   "metadata": {},
   "outputs": [],
   "source": [
    "def update_dict(d1:dict, d2:dict) -> dict:    \n",
    "    return d1 | d2"
   ]
  },
  {
   "cell_type": "code",
   "execution_count": 11,
   "id": "1a18cfeb",
   "metadata": {},
   "outputs": [
    {
     "name": "stdout",
     "output_type": "stream",
     "text": [
      "{'One': 1, 'Two': 2, 'Three': 3, 'Four': 4, 'Five': 5, 'Six': 6}\n"
     ]
    }
   ],
   "source": [
    "print(update_dict(dict1, dict2))"
   ]
  },
  {
   "cell_type": "markdown",
   "id": "1622dbcd",
   "metadata": {},
   "source": [
    "## Задание 2\n",
    "\n",
    "Напишите функцию, которая из двух списков, делает один словарь, где элементы из первого списка - ключи, а элементы из второго списка - значения\n",
    "\n",
    "\n",
    "Используйте аннотирование типов\n",
    "\n",
    "### 2.1 Используя цикл for"
   ]
  },
  {
   "cell_type": "code",
   "execution_count": 12,
   "id": "497896e9",
   "metadata": {},
   "outputs": [],
   "source": [
    "keys = ['Ones', 'Two', 'Three']\n",
    "values = [1, 2, 3]"
   ]
  },
  {
   "cell_type": "markdown",
   "id": "0183ec1c",
   "metadata": {},
   "source": [
    "словарь[ключ] = значение"
   ]
  },
  {
   "cell_type": "code",
   "execution_count": 13,
   "id": "eee603e8",
   "metadata": {},
   "outputs": [],
   "source": [
    "def make_dict(d1:list, d2:list) -> dict:\n",
    "    new_dict = {}\n",
    "    for i in range(len(d1)):        \n",
    "        new_dict[d1[i]] = d2[i]\n",
    "    return new_dict"
   ]
  },
  {
   "cell_type": "code",
   "execution_count": 10,
   "id": "67af5600",
   "metadata": {},
   "outputs": [
    {
     "data": {
      "text/plain": [
       "{'Ones': 1, 'Two': 2, 'Three': 3}"
      ]
     },
     "execution_count": 10,
     "metadata": {},
     "output_type": "execute_result"
    }
   ],
   "source": [
    "make_dict(keys, values)"
   ]
  },
  {
   "cell_type": "markdown",
   "id": "5b254d4e",
   "metadata": {},
   "source": [
    "### 2.2 Используя dict comprehensions"
   ]
  },
  {
   "cell_type": "code",
   "execution_count": 11,
   "id": "a9a2d25b",
   "metadata": {},
   "outputs": [],
   "source": [
    "def make_dict2(d1:list, d2:list) -> dict:\n",
    "    return {d1[i]: d2[i] for i in range(len(d1))}"
   ]
  },
  {
   "cell_type": "code",
   "execution_count": 12,
   "id": "9e5c194a",
   "metadata": {},
   "outputs": [
    {
     "data": {
      "text/plain": [
       "{'Ones': 1, 'Two': 2, 'Three': 3}"
      ]
     },
     "execution_count": 12,
     "metadata": {},
     "output_type": "execute_result"
    }
   ],
   "source": [
    "make_dict2(keys, values)"
   ]
  },
  {
   "cell_type": "code",
   "execution_count": 13,
   "id": "a5e5ac4f",
   "metadata": {},
   "outputs": [],
   "source": [
    "dict_3 = {keys[i]: values[i] for i in range(len(keys))}"
   ]
  },
  {
   "cell_type": "code",
   "execution_count": 14,
   "id": "9407eeab",
   "metadata": {},
   "outputs": [
    {
     "data": {
      "text/plain": [
       "{'Ones': 1, 'Two': 2, 'Three': 3}"
      ]
     },
     "execution_count": 14,
     "metadata": {},
     "output_type": "execute_result"
    }
   ],
   "source": [
    "dict_3"
   ]
  },
  {
   "attachments": {},
   "cell_type": "markdown",
   "id": "b66084f5",
   "metadata": {},
   "source": [
    "### 2.3 Еще способ: через zip"
   ]
  },
  {
   "cell_type": "code",
   "execution_count": 15,
   "id": "014861c2",
   "metadata": {},
   "outputs": [],
   "source": [
    "dict3 = dict(zip(keys, values))"
   ]
  },
  {
   "cell_type": "code",
   "execution_count": 16,
   "id": "a946eff3",
   "metadata": {},
   "outputs": [
    {
     "data": {
      "text/plain": [
       "{'Ones': 1, 'Two': 2, 'Three': 3}"
      ]
     },
     "execution_count": 16,
     "metadata": {},
     "output_type": "execute_result"
    }
   ],
   "source": [
    "dict3"
   ]
  },
  {
   "cell_type": "markdown",
   "id": "682ddfb3",
   "metadata": {},
   "source": [
    "## Задание 3\n",
    "\n",
    "Извлеките только два ключа name и age из представленного словаря\n",
    "\n",
    "### 3.1 Напишите функцию с циклом for\n",
    "Функция на вход принимает:\n",
    "* исходный словарь\n",
    "* ключи, которые нужно извлечь (аргумент по умолчанию)\n",
    "\n",
    "На выходе словарь с нужными ключами\n",
    "\n",
    "Используйте аннотирование типов\n"
   ]
  },
  {
   "cell_type": "code",
   "execution_count": 14,
   "id": "de428331",
   "metadata": {},
   "outputs": [],
   "source": [
    "client_dict = {\n",
    "    \"name\": \"John\",\n",
    "    \"age\": 25,\n",
    "    \"salary\": 500000,\n",
    "    \"city\": \"Moscow\"\n",
    "}"
   ]
  },
  {
   "cell_type": "code",
   "execution_count": 15,
   "id": "22e3c8c8",
   "metadata": {},
   "outputs": [],
   "source": [
    "keys = [\"name\", \"age\"]"
   ]
  },
  {
   "cell_type": "code",
   "execution_count": 16,
   "id": "5e3a8473",
   "metadata": {},
   "outputs": [],
   "source": [
    "def get_keys(dictionary: dict, keys: list) -> dict:\n",
    "    my_dict = {}\n",
    "    for key in keys:\n",
    "        my_dict[key] = dictionary[key]\n",
    "    return my_dict"
   ]
  },
  {
   "cell_type": "code",
   "execution_count": 17,
   "id": "051f1dd1",
   "metadata": {},
   "outputs": [
    {
     "data": {
      "text/plain": [
       "{'name': 'John', 'age': 25}"
      ]
     },
     "execution_count": 17,
     "metadata": {},
     "output_type": "execute_result"
    }
   ],
   "source": [
    "get_keys(client_dict, keys)"
   ]
  },
  {
   "cell_type": "markdown",
   "id": "74fba282",
   "metadata": {},
   "source": [
    "### 3.2 Используя dict comprehensions"
   ]
  },
  {
   "cell_type": "code",
   "execution_count": 18,
   "id": "a9891ff6",
   "metadata": {},
   "outputs": [],
   "source": [
    "client_dict = {\n",
    "    \"name\": \"John\",\n",
    "    \"age\": 25,\n",
    "    \"salary\": 500000,\n",
    "    \"city\": \"Moscow\"\n",
    "}"
   ]
  },
  {
   "cell_type": "code",
   "execution_count": 19,
   "id": "83e56526",
   "metadata": {},
   "outputs": [],
   "source": [
    "my_keys = [\"name\", \"age\"]"
   ]
  },
  {
   "cell_type": "markdown",
   "id": "288f2a50",
   "metadata": {},
   "source": [
    "{ключ: значение и откуда берем ключи и значения}"
   ]
  },
  {
   "cell_type": "markdown",
   "id": "c7a96153",
   "metadata": {},
   "source": [
    "имя_словаря[ключ] = значение"
   ]
  },
  {
   "cell_type": "code",
   "execution_count": 20,
   "id": "f5ef5991",
   "metadata": {},
   "outputs": [],
   "source": [
    "my_dict = {k: client_dict[k] for k in my_keys}"
   ]
  },
  {
   "cell_type": "code",
   "execution_count": 21,
   "id": "1a8d7a56",
   "metadata": {},
   "outputs": [
    {
     "data": {
      "text/plain": [
       "{'name': 'John', 'age': 25}"
      ]
     },
     "execution_count": 21,
     "metadata": {},
     "output_type": "execute_result"
    }
   ],
   "source": [
    "my_dict"
   ]
  },
  {
   "cell_type": "code",
   "execution_count": 22,
   "id": "16096287",
   "metadata": {},
   "outputs": [],
   "source": [
    "def get_keys_2(dictionary, keys=[\"name\", \"age\"]):\n",
    "    return {key: dictionary[key] for key in keys}"
   ]
  },
  {
   "cell_type": "code",
   "execution_count": 23,
   "id": "c4628291",
   "metadata": {},
   "outputs": [
    {
     "data": {
      "text/plain": [
       "{'name': 'John', 'age': 25}"
      ]
     },
     "execution_count": 23,
     "metadata": {},
     "output_type": "execute_result"
    }
   ],
   "source": [
    "get_keys_2(client_dict, keys)"
   ]
  },
  {
   "cell_type": "markdown",
   "id": "1d620f17",
   "metadata": {},
   "source": [
    "## Задание 4\n",
    "\n",
    "### 4.1 Сгенерируйте случайные целые числа от 0 до 100 в количестве 5 штук с помощью модуля random\n",
    "* Зафиксируйте псевдогенерацию, чтобы сгенерированные значения всегда были одинаковые\n",
    "* Используйте list comprehensions"
   ]
  },
  {
   "cell_type": "code",
   "execution_count": 24,
   "id": "626bc3c6",
   "metadata": {},
   "outputs": [],
   "source": [
    "from random import randint, seed"
   ]
  },
  {
   "cell_type": "code",
   "execution_count": 27,
   "id": "a93a2168",
   "metadata": {},
   "outputs": [],
   "source": [
    "seed(42)\n",
    "data = [randint(0, 100) for _ in range(5)]"
   ]
  },
  {
   "cell_type": "code",
   "execution_count": 28,
   "id": "019037ee",
   "metadata": {},
   "outputs": [
    {
     "data": {
      "text/plain": [
       "[81, 14, 3, 94, 35]"
      ]
     },
     "execution_count": 28,
     "metadata": {},
     "output_type": "execute_result"
    }
   ],
   "source": [
    "data"
   ]
  },
  {
   "cell_type": "markdown",
   "id": "bad41195",
   "metadata": {},
   "source": [
    "### 4.2 Напишите генератор\n",
    "* Генератор на вход принимает список с данными о клиенте (данные из пункта 4.1)\n",
    "* Внутри генератора реализуйте обход по списку с данными\n",
    "\n",
    "На каждой итерации генератор будет возвращать кортеж из двух элементов:\n",
    "1. данные по клиенту (в зависимости от итерации, на 0 итерации вернется 0 элемент, на 1 итерации вернется 1 элемент и тд)\n",
    "2. целочисленное значение, которое показывает, сколько секунд прошло с предыдущей итерации\n",
    "\n",
    "Примечание: секунды, которые возвращаются должны показывать время не с начала запуска генератора, а именно то время, которое прошло с предыдущей итерации. А значит время на первой итерации должно равняться 0.\n",
    "* Используйте функцию time из модуля time для подсчета времени.\n",
    "* Чтобы проверить работу таймера, запустите проход по генератору в цикле с time.sleep(2)"
   ]
  },
  {
   "cell_type": "code",
   "execution_count": 29,
   "id": "23411f55",
   "metadata": {},
   "outputs": [],
   "source": [
    "import time\n",
    "import random"
   ]
  },
  {
   "cell_type": "code",
   "execution_count": 32,
   "id": "ecdbce11",
   "metadata": {},
   "outputs": [
    {
     "data": {
      "text/plain": [
       "[81, 14, 3, 94, 35]"
      ]
     },
     "execution_count": 32,
     "metadata": {},
     "output_type": "execute_result"
    }
   ],
   "source": [
    "data"
   ]
  },
  {
   "cell_type": "code",
   "execution_count": 30,
   "id": "81e6d4d5",
   "metadata": {},
   "outputs": [],
   "source": [
    "def generator(data: list):\n",
    "    last_time = None\n",
    "    for item in data:\n",
    "        current_time = time.time()\n",
    "        if last_time:\n",
    "            delta = current_time - last_time\n",
    "        else:\n",
    "            delta = 0\n",
    "        last_time = time.time()\n",
    "        yield(delta, item)"
   ]
  },
  {
   "cell_type": "code",
   "execution_count": 34,
   "id": "db5eb4ca",
   "metadata": {},
   "outputs": [
    {
     "name": "stdout",
     "output_type": "stream",
     "text": [
      "(0, 81)\n",
      "(2.0064260959625244, 14)\n",
      "(2.0067121982574463, 3)\n",
      "(2.015575885772705, 94)\n",
      "(2.007929563522339, 35)\n"
     ]
    }
   ],
   "source": [
    "for obj in generator(data):\n",
    "    print(obj)\n",
    "    time.sleep(2)"
   ]
  },
  {
   "cell_type": "code",
   "execution_count": 33,
   "id": "91129483",
   "metadata": {},
   "outputs": [],
   "source": [
    "gener = (item for item in data)"
   ]
  },
  {
   "cell_type": "code",
   "execution_count": 34,
   "id": "ec698417",
   "metadata": {},
   "outputs": [
    {
     "name": "stdout",
     "output_type": "stream",
     "text": [
      "81 14 3 94 35\n"
     ]
    }
   ],
   "source": [
    "print(*gener)"
   ]
  },
  {
   "cell_type": "markdown",
   "id": "00f03753",
   "metadata": {},
   "source": [
    "## Задание 5\n",
    "### 5.1 Найдите картинку в интернете и прикрепите её в ячейку с текстом"
   ]
  },
  {
   "cell_type": "markdown",
   "id": "643f5d7e",
   "metadata": {},
   "source": [
    "Картинка в тексте <img src=http://file.elecfans.com/web1/M00/85/39/pIYBAFxjgHKAHGRKAAGCvIQmljc250.png>"
   ]
  },
  {
   "cell_type": "markdown",
   "id": "ffaf988a",
   "metadata": {},
   "source": [
    "### 5.2 Создайте следующую таблицу в ячейке с текстом"
   ]
  },
  {
   "attachments": {
    "%D0%A2%D0%B0%D0%B1%D0%BB%D0%B8%D1%86%D0%B0.png": {
     "image/png": "[encoded data removed]"
    }
   },
   "cell_type": "markdown",
   "id": "917df0ba",
   "metadata": {},
   "source": [
    "![%D0%A2%D0%B0%D0%B1%D0%BB%D0%B8%D1%86%D0%B0.png](attachment:%D0%A2%D0%B0%D0%B1%D0%BB%D0%B8%D1%86%D0%B0.png)"
   ]
  },
  {
   "cell_type": "markdown",
   "id": "9ce52994",
   "metadata": {},
   "source": [
    "<table>    \n",
    "    <tr>        \n",
    "        <th></th>\n",
    "        <th>До события</th>\n",
    "        <th>Время события</th>\n",
    "    </tr>\n",
    "    <tr>\n",
    "        <td><b>1 контрольная точка</b></td><td>250</td><td>500</td>\n",
    "    </tr>\n",
    "    <tr>\n",
    "        <td><b>2 контрольная точка</b></td><td>350</td><td>700</td>\n",
    "    </tr>\n",
    "    <tr>\n",
    "        <td><b>3 контрольная точка</b></td><td>400</td><td>800</td>\n",
    "    </tr>\n",
    "    <tr>\n",
    "        <td></td><td></td><td></td>\n",
    "    </tr>\n",
    "    <tr>\n",
    "        <td><b>Итого за победу</b></td><td>1000</td><td>2000</td>\n",
    "    </tr>    \n",
    "</table>"
   ]
  },
  {
   "cell_type": "markdown",
   "id": "5060ff2d",
   "metadata": {},
   "source": [
    "## Задание 6\n",
    "### Напишите функцию, которая может принимать любое количество трат пользователя и считать сумму и среднее.\n",
    "* На вход поступают целочисленные значения в любом количестве\n",
    "* На выходе словарь с ключами суммы трат и средней траты\n"
   ]
  },
  {
   "cell_type": "code",
   "execution_count": 35,
   "id": "f5a3a3fa",
   "metadata": {},
   "outputs": [],
   "source": [
    "def sum_and_mean(*args):\n",
    "    return {\n",
    "        \"sum\": sum(args),\n",
    "        \"mean\": sum(args)/len(args)\n",
    "    }"
   ]
  },
  {
   "cell_type": "code",
   "execution_count": 36,
   "id": "f53c4789",
   "metadata": {},
   "outputs": [
    {
     "data": {
      "text/plain": [
       "{'sum': 80, 'mean': 20.0}"
      ]
     },
     "execution_count": 36,
     "metadata": {},
     "output_type": "execute_result"
    }
   ],
   "source": [
    "sum_and_mean(5, 10, 15, 50)"
   ]
  },
  {
   "cell_type": "code",
   "execution_count": 37,
   "id": "7f81ff79",
   "metadata": {},
   "outputs": [],
   "source": [
    "def sum_and_mean_2(*args):\n",
    "    summa = 0\n",
    "    num = 0\n",
    "    for el in args:\n",
    "        summa += el\n",
    "        num += 1\n",
    "    return {\n",
    "        \"sum\": summa,\n",
    "        \"mean\": summa/num\n",
    "    }"
   ]
  },
  {
   "cell_type": "code",
   "execution_count": 38,
   "id": "7b61af35",
   "metadata": {},
   "outputs": [
    {
     "data": {
      "text/plain": [
       "{'sum': 30, 'mean': 10.0}"
      ]
     },
     "execution_count": 38,
     "metadata": {},
     "output_type": "execute_result"
    }
   ],
   "source": [
    "sum_and_mean_2(5, 10, 15)"
   ]
  },
  {
   "cell_type": "code",
   "execution_count": null,
   "id": "a736db14",
   "metadata": {},
   "outputs": [],
   "source": []
  },
  {
   "cell_type": "code",
   "execution_count": null,
   "id": "1042c8c9",
   "metadata": {},
   "outputs": [],
   "source": []
  },
  {
   "cell_type": "code",
   "execution_count": 39,
   "id": "a240e385",
   "metadata": {},
   "outputs": [],
   "source": [
    "list_dates = ['2021-09-14', '2021-12-15', '2021-09-08', '2021-12-05', '2021-10-09', '2021-09-30', '2021-12-22', '2021-11-29', '2021-12-24', '2021-11-26', '2021-10-27', '2021-12-18', '2021-11-09', '2021-11-23', '2021-09-27', '2021-10-02', '2021-12-27', '2021-09-20', '2021-12-13', '2021-11-01', '2021-11-09', '2021-12-06', '2021-12-08', '2021-10-09', '2021-10-31', '2021-09-30', '2021-11-09', '2021-12-13', '2021-10-26', '2021-12-09']\n"
   ]
  },
  {
   "cell_type": "code",
   "execution_count": 40,
   "id": "791357fb",
   "metadata": {},
   "outputs": [],
   "source": [
    "my_str = '2021-11-14'"
   ]
  },
  {
   "cell_type": "code",
   "execution_count": 41,
   "id": "6c132872",
   "metadata": {},
   "outputs": [
    {
     "data": {
      "text/plain": [
       "['2021', '11', '14']"
      ]
     },
     "execution_count": 41,
     "metadata": {},
     "output_type": "execute_result"
    }
   ],
   "source": [
    "my_str.split('-')"
   ]
  },
  {
   "cell_type": "code",
   "execution_count": 42,
   "id": "bada1bfc",
   "metadata": {},
   "outputs": [
    {
     "data": {
      "text/plain": [
       "'11'"
      ]
     },
     "execution_count": 42,
     "metadata": {},
     "output_type": "execute_result"
    }
   ],
   "source": [
    "my_str[5:7]"
   ]
  },
  {
   "cell_type": "code",
   "execution_count": 43,
   "id": "b82d7709",
   "metadata": {},
   "outputs": [],
   "source": [
    "_, month, _ = my_str.split('-')"
   ]
  },
  {
   "cell_type": "code",
   "execution_count": 44,
   "id": "a5c78604",
   "metadata": {},
   "outputs": [
    {
     "data": {
      "text/plain": [
       "'11'"
      ]
     },
     "execution_count": 44,
     "metadata": {},
     "output_type": "execute_result"
    }
   ],
   "source": [
    "month"
   ]
  },
  {
   "cell_type": "code",
   "execution_count": null,
   "id": "2a20865e",
   "metadata": {},
   "outputs": [],
   "source": []
  }
 ],
 "metadata": {
  "kernelspec": {
   "display_name": "Python 3 (ipykernel)",
   "language": "python",
   "name": "python3"
  },
  "language_info": {
   "codemirror_mode": {
    "name": "ipython",
    "version": 3
   },
   "file_extension": ".py",
   "mimetype": "text/x-python",
   "name": "python",
   "nbconvert_exporter": "python",
   "pygments_lexer": "ipython3",
   "version": "3.10.11"
  }
 },
 "nbformat": 4,
 "nbformat_minor": 5
}
